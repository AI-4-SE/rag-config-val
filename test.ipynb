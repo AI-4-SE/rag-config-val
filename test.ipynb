{
 "cells": [
  {
   "cell_type": "code",
   "execution_count": 1,
   "metadata": {},
   "outputs": [
    {
     "name": "stderr",
     "output_type": "stream",
     "text": [
      "/Users/sebastiansimon/GitHub/rag-config-val/env/lib/python3.12/site-packages/tqdm/auto.py:21: TqdmWarning: IProgress not found. Please update jupyter and ipywidgets. See https://ipywidgets.readthedocs.io/en/stable/user_install.html\n",
      "  from .autonotebook import tqdm as notebook_tqdm\n"
     ]
    },
    {
     "name": "stdout",
     "output_type": "stream",
     "text": [
      "Base URL: http://172.26.92.115\n",
      "Proxy Server Key: 0ad58c3e-b9f4-4913-b8c9-7cd8e2fec7ab\n",
      "GPT (gpt-4o-2024-11-20) generator initialized.\n",
      "Start generation using gpt-4o-2024-11-20\n"
     ]
    },
    {
     "data": {
      "text/html": [
       "<pre style=\"white-space:pre;overflow-x:auto;line-height:normal;font-family:Menlo,'DejaVu Sans Mono',consolas,'Courier New',monospace\"><span style=\"color: #7fbfbf; text-decoration-color: #7fbfbf\">[02/02/25 14:03:36] </span><span style=\"color: #000080; text-decoration-color: #000080\">INFO    </span> HTTP Request: <span style=\"color: #808000; text-decoration-color: #808000; font-weight: bold\">POST</span> <span style=\"color: #0000ff; text-decoration-color: #0000ff; text-decoration: underline\">http://172.26.92.115/chat/completions</span> <span style=\"color: #008000; text-decoration-color: #008000\">\"HTTP/1.1 200</span> <a href=\"file:///Users/sebastiansimon/GitHub/rag-config-val/env/lib/python3.12/site-packages/httpx/_client.py\" target=\"_blank\"><span style=\"color: #7f7f7f; text-decoration-color: #7f7f7f\">_client.py</span></a><span style=\"color: #7f7f7f; text-decoration-color: #7f7f7f\">:</span><a href=\"file:///Users/sebastiansimon/GitHub/rag-config-val/env/lib/python3.12/site-packages/httpx/_client.py#1025\" target=\"_blank\"><span style=\"color: #7f7f7f; text-decoration-color: #7f7f7f\">1025</span></a>\n",
       "<span style=\"color: #7fbfbf; text-decoration-color: #7fbfbf\">                    </span>         <span style=\"color: #008000; text-decoration-color: #008000\">OK\"</span>                                                                    <span style=\"color: #7f7f7f; text-decoration-color: #7f7f7f\">               </span>\n",
       "</pre>\n"
      ],
      "text/plain": [
       "\u001b[2;36m[02/02/25 14:03:36]\u001b[0m\u001b[2;36m \u001b[0m\u001b[34mINFO    \u001b[0m HTTP Request: \u001b[1;33mPOST\u001b[0m \u001b[4;94mhttp://172.26.92.115/chat/completions\u001b[0m \u001b[32m\"HTTP/1.1 200\u001b[0m \u001b]8;id=730401;file:///Users/sebastiansimon/GitHub/rag-config-val/env/lib/python3.12/site-packages/httpx/_client.py\u001b\\\u001b[2m_client.py\u001b[0m\u001b]8;;\u001b\\\u001b[2m:\u001b[0m\u001b]8;id=337355;file:///Users/sebastiansimon/GitHub/rag-config-val/env/lib/python3.12/site-packages/httpx/_client.py#1025\u001b\\\u001b[2m1025\u001b[0m\u001b]8;;\u001b\\\n",
       "\u001b[2;36m                    \u001b[0m         \u001b[32mOK\"\u001b[0m                                                                    \u001b[2m               \u001b[0m\n"
      ]
     },
     "metadata": {},
     "output_type": "display_data"
    },
    {
     "name": "stdout",
     "output_type": "stream",
     "text": [
      "Add response to answer pool.\n",
      "Start generation using gpt-4o-2024-11-20\n"
     ]
    },
    {
     "data": {
      "text/html": [
       "<pre style=\"white-space:pre;overflow-x:auto;line-height:normal;font-family:Menlo,'DejaVu Sans Mono',consolas,'Courier New',monospace\"><span style=\"color: #7fbfbf; text-decoration-color: #7fbfbf\">[02/02/25 14:03:41] </span><span style=\"color: #000080; text-decoration-color: #000080\">INFO    </span> HTTP Request: <span style=\"color: #808000; text-decoration-color: #808000; font-weight: bold\">POST</span> <span style=\"color: #0000ff; text-decoration-color: #0000ff; text-decoration: underline\">http://172.26.92.115/chat/completions</span> <span style=\"color: #008000; text-decoration-color: #008000\">\"HTTP/1.1 200</span> <a href=\"file:///Users/sebastiansimon/GitHub/rag-config-val/env/lib/python3.12/site-packages/httpx/_client.py\" target=\"_blank\"><span style=\"color: #7f7f7f; text-decoration-color: #7f7f7f\">_client.py</span></a><span style=\"color: #7f7f7f; text-decoration-color: #7f7f7f\">:</span><a href=\"file:///Users/sebastiansimon/GitHub/rag-config-val/env/lib/python3.12/site-packages/httpx/_client.py#1025\" target=\"_blank\"><span style=\"color: #7f7f7f; text-decoration-color: #7f7f7f\">1025</span></a>\n",
       "<span style=\"color: #7fbfbf; text-decoration-color: #7fbfbf\">                    </span>         <span style=\"color: #008000; text-decoration-color: #008000\">OK\"</span>                                                                    <span style=\"color: #7f7f7f; text-decoration-color: #7f7f7f\">               </span>\n",
       "</pre>\n"
      ],
      "text/plain": [
       "\u001b[2;36m[02/02/25 14:03:41]\u001b[0m\u001b[2;36m \u001b[0m\u001b[34mINFO    \u001b[0m HTTP Request: \u001b[1;33mPOST\u001b[0m \u001b[4;94mhttp://172.26.92.115/chat/completions\u001b[0m \u001b[32m\"HTTP/1.1 200\u001b[0m \u001b]8;id=604796;file:///Users/sebastiansimon/GitHub/rag-config-val/env/lib/python3.12/site-packages/httpx/_client.py\u001b\\\u001b[2m_client.py\u001b[0m\u001b]8;;\u001b\\\u001b[2m:\u001b[0m\u001b]8;id=163080;file:///Users/sebastiansimon/GitHub/rag-config-val/env/lib/python3.12/site-packages/httpx/_client.py#1025\u001b\\\u001b[2m1025\u001b[0m\u001b]8;;\u001b\\\n",
       "\u001b[2;36m                    \u001b[0m         \u001b[32mOK\"\u001b[0m                                                                    \u001b[2m               \u001b[0m\n"
      ]
     },
     "metadata": {},
     "output_type": "display_data"
    },
    {
     "name": "stdout",
     "output_type": "stream",
     "text": [
      "Add response to answer pool.\n",
      "Start generation using gpt-4o-2024-11-20\n"
     ]
    },
    {
     "data": {
      "text/html": [
       "<pre style=\"white-space:pre;overflow-x:auto;line-height:normal;font-family:Menlo,'DejaVu Sans Mono',consolas,'Courier New',monospace\"><span style=\"color: #7fbfbf; text-decoration-color: #7fbfbf\">[02/02/25 14:03:45] </span><span style=\"color: #000080; text-decoration-color: #000080\">INFO    </span> HTTP Request: <span style=\"color: #808000; text-decoration-color: #808000; font-weight: bold\">POST</span> <span style=\"color: #0000ff; text-decoration-color: #0000ff; text-decoration: underline\">http://172.26.92.115/chat/completions</span> <span style=\"color: #008000; text-decoration-color: #008000\">\"HTTP/1.1 200</span> <a href=\"file:///Users/sebastiansimon/GitHub/rag-config-val/env/lib/python3.12/site-packages/httpx/_client.py\" target=\"_blank\"><span style=\"color: #7f7f7f; text-decoration-color: #7f7f7f\">_client.py</span></a><span style=\"color: #7f7f7f; text-decoration-color: #7f7f7f\">:</span><a href=\"file:///Users/sebastiansimon/GitHub/rag-config-val/env/lib/python3.12/site-packages/httpx/_client.py#1025\" target=\"_blank\"><span style=\"color: #7f7f7f; text-decoration-color: #7f7f7f\">1025</span></a>\n",
       "<span style=\"color: #7fbfbf; text-decoration-color: #7fbfbf\">                    </span>         <span style=\"color: #008000; text-decoration-color: #008000\">OK\"</span>                                                                    <span style=\"color: #7f7f7f; text-decoration-color: #7f7f7f\">               </span>\n",
       "</pre>\n"
      ],
      "text/plain": [
       "\u001b[2;36m[02/02/25 14:03:45]\u001b[0m\u001b[2;36m \u001b[0m\u001b[34mINFO    \u001b[0m HTTP Request: \u001b[1;33mPOST\u001b[0m \u001b[4;94mhttp://172.26.92.115/chat/completions\u001b[0m \u001b[32m\"HTTP/1.1 200\u001b[0m \u001b]8;id=915547;file:///Users/sebastiansimon/GitHub/rag-config-val/env/lib/python3.12/site-packages/httpx/_client.py\u001b\\\u001b[2m_client.py\u001b[0m\u001b]8;;\u001b\\\u001b[2m:\u001b[0m\u001b]8;id=87695;file:///Users/sebastiansimon/GitHub/rag-config-val/env/lib/python3.12/site-packages/httpx/_client.py#1025\u001b\\\u001b[2m1025\u001b[0m\u001b]8;;\u001b\\\n",
       "\u001b[2;36m                    \u001b[0m         \u001b[32mOK\"\u001b[0m                                                                    \u001b[2m               \u001b[0m\n"
      ]
     },
     "metadata": {},
     "output_type": "display_data"
    },
    {
     "name": "stdout",
     "output_type": "stream",
     "text": [
      "Add response to answer pool.\n",
      "Get dominant response.\n",
      "{'plan': \"1. Identify the configuration options to analyze: 'project.modelVersion' in 'apollo-audit/apollo-audit-api/pom.xml' and 'project.modelVersion' in 'apollo-biz/pom.xml', both of type VERSION_NUMBER with the value 'modelVersion:4.0.0'.\\n2. Recognize that both configuration options belong to Maven's POM (Project Object Model) structure, which uses 'modelVersion' to define the version of the POM model being used.\\n3. Determine the purpose of 'modelVersion' in Maven. It specifies the version of the POM model and must be set to a specific value (usually '4.0.0') for Maven to correctly parse and build the project.\\n4. Evaluate if the value-equality of 'modelVersion' in these files is an accidental coincidence or a necessary dependency.\\n5. Conclude whether the configuration options depend on each other by analyzing Maven's requirements for 'modelVersion'.\", 'rationale': \"In Maven, the 'modelVersion' configuration option defines the version of the POM model being used. It is a required field and must typically be set to '4.0.0', which is the current version supported by Maven. This value is not determined by project-specific dependencies but by Maven itself as a system-wide requirement. Therefore, the fact that both 'apollo-audit/apollo-audit-api/pom.xml' and 'apollo-biz/pom.xml' have the same 'modelVersion' value of '4.0.0' is due to this external Maven requirement, not because of any inherent dependency between these two configuration options. The value-equality here is incidental and not indicative of a functional dependency between the two configurations.\", 'isDependency': False}\n"
     ]
    }
   ],
   "source": [
    "import json\n",
    "from src.generator import GeneratorFactory\n",
    "from src.prompts import CfgNetPromptSettings\n",
    "from src.util import transform\n",
    "from dotenv import load_dotenv\n",
    "import os\n",
    "\n",
    "load_dotenv(dotenv_path=\".env\")\n",
    "\n",
    "print(f\"Base URL: {os.getenv(\"BASE_URL\")}\")\n",
    "print(f\"Proxy Server Key: {os.getenv(\"PROXY_SERVER_API_KEY\")}\")\n",
    "\n",
    "\n",
    "# TODO: define genrators\n",
    "generator = GeneratorFactory().get_generator(model_name=\"gpt-4o-2024-11-20\", temperature=0.7)\n",
    "\n",
    "with open(\"data/evaluation/test_dependencies_retrieval.json\", \"r\", encoding=\"utf-8\") as src:\n",
    "    data = json.load(src)\n",
    "\n",
    "for sample in data:\n",
    "    dependency = transform(entry=sample)\n",
    "\n",
    "    # create prompt parts\n",
    "    system_str = CfgNetPromptSettings.get_system_str(dependency=dependency)\n",
    "    task_str = CfgNetPromptSettings.get_task_str(dependency=dependency)\n",
    "    context_str = \"\\n\\n\".join([x[\"text\"] for x in sample[\"context\"]])\n",
    "    format_str = CfgNetPromptSettings.get_format_prompt()\n",
    "\n",
    "    query_str = CfgNetPromptSettings.query_prompt.format(\n",
    "        context_str=context_str,\n",
    "        task_str=task_str,\n",
    "        format_str=format_str\n",
    "    )\n",
    "\n",
    "    messages = [\n",
    "        {\"role\": \"system\", \"content\": system_str},\n",
    "        {\"role\": \"user\", \"content\": query_str }\n",
    "    ]\n",
    "\n",
    "    responses = generator.generate(messages=messages)\n",
    "\n",
    "    print(responses)\n",
    "\n",
    "    break\n",
    "\n"
   ]
  },
  {
   "cell_type": "code",
   "execution_count": 2,
   "metadata": {},
   "outputs": [
    {
     "name": "stdout",
     "output_type": "stream",
     "text": [
      "{'plan': \"1. Identify the configuration options in question: both are 'project.modelVersion' of type VERSION_NUMBER with value 4.0.0.\\n2. Check if these configurations belong to different Maven modules (apollo-audit/apollo-audit-api and apollo-biz).\\n3. Determine if there's a parent-child relationship between the POM files or if they are independent.\\n4. Assess whether Maven requires modelVersion to be consistent across modules in a multi-module project.\\n5. Conclude based on Maven's requirements for modelVersion consistency.\", 'rationale': \"In Maven, each module's pom.xml must have the same modelVersion as specified in the parent POM if it's part of a multi-module project. If these modules share a common parent with a defined modelVersion, then their individual 'project.modelVersion' values must match to maintain consistency and avoid configuration errors.\", 'uncertainty': 8, 'isDependency': True}\n"
     ]
    }
   ],
   "source": [
    "from src.util import get_dominat_response\n",
    "\n",
    "responses = [\n",
    "    {\n",
    "    \"plan\": \"1. Identify the configuration options in question: both are 'project.modelVersion' of type VERSION_NUMBER with value 4.0.0.\\n2. Check if these configurations belong to different Maven modules (apollo-audit/apollo-audit-api and apollo-biz).\\n3. Determine if there's a parent-child relationship between the POM files or if they are independent.\\n4. Assess whether Maven requires modelVersion to be consistent across modules in a multi-module project.\\n5. Conclude based on Maven's requirements for modelVersion consistency.\",\n",
    "    \"rationale\": \"In Maven, each module's pom.xml must have the same modelVersion as specified in the parent POM if it's part of a multi-module project. If these modules share a common parent with a defined modelVersion, then their individual 'project.modelVersion' values must match to maintain consistency and avoid configuration errors.\",\n",
    "    \"uncertainty\": 8,\n",
    "    \"isDependency\": True\n",
    "    },\n",
    "    {\n",
    "    \"plan\": \"1. Identify both configuration options in their respective POM files.\\n2. Check if they are of the same type (VERSION_NUMBER) and have the same value (4.0.0).\\n3. Determine if Maven requires these versions to be identical for proper functionality across dependent projects.\\n4. Conclude based on Maven's handling of modelVersion in multi-module projects.\",\n",
    "    \"rationale\": \"In Maven, the modelVersion typically refers to the version of the POM structure and is usually consistent across all modules within a multi-module project to ensure compatibility. If apollo-audit-api and apollo-biz are part of the same parent project or have interdependencies, having the same modelVersion ensures that Maven can correctly process and build them together without conflicts.\",\n",
    "    \"uncertainty\": 8,\n",
    "    \"isDependency\": True\n",
    "    },\n",
    "    {\n",
    "    \"plan\": \"1. Identify the two configuration options in question: project.modelVersion in apollo-audit/apollo-audit-api/pom.xml with value 4.0.0 and project.modelVersion in apollo-biz/pom.xml also with value 4.0.0.\\n2. Understand that both are Maven POM files, which use modelVersion to specify the version of the POM format they conform to.\\n3. Recognize that modelVersion is a standard element in Maven POMs and typically refers to the Project Object Model version (e.g., 4.0.0).\\n4. Note that having the same value doesn't inherently create a dependency; it's about whether their values must match for proper functionality.\\n5. Consider whether these two projects are part of the same multi-module project or independent.\\n6. If they're modules in a parent POM, the modelVersion should align with the parent's modelVersion to maintain consistency and avoid errors during build processes.\\n7. However, if they are separate projects without a shared parent, their modelVersions can differ without causing dependency issues because each project is built independently.\\n8. Without explicit information about a parent-child relationship or inter-dependency between these two POMs, it's reasonable to conclude that their modelVersion values don't depend on each other.\\n9. Therefore, the same value might be coincidental and not indicative of an actual dependency.\",\n",
    "    \"rationale\": \"The project.modelVersion in both POM files refers to the Maven POM version specification. While they share the same value (4.0.0), this does not imply a dependency unless one is a parent or module of the other, which isn't indicated here. Maven projects can independently have the same modelVersion without being dependent on each other.\",\n",
    "    \"uncertainty\": 8,\n",
    "    \"isDependency\": False\n",
    "    }\n",
    "]\n",
    "\n",
    "\n",
    "dominant_response = get_dominat_response(responses=responses)\n",
    "\n",
    "print(dominant_response)\n"
   ]
  }
 ],
 "metadata": {
  "kernelspec": {
   "display_name": "env",
   "language": "python",
   "name": "python3"
  },
  "language_info": {
   "codemirror_mode": {
    "name": "ipython",
    "version": 3
   },
   "file_extension": ".py",
   "mimetype": "text/x-python",
   "name": "python",
   "nbconvert_exporter": "python",
   "pygments_lexer": "ipython3",
   "version": "3.12.3"
  }
 },
 "nbformat": 4,
 "nbformat_minor": 2
}
