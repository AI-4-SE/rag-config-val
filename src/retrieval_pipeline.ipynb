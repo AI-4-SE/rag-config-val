{
 "cells": [
  {
   "cell_type": "code",
   "execution_count": 1,
   "metadata": {},
   "outputs": [
    {
     "name": "stdout",
     "output_type": "stream",
     "text": [
      "Pinecone Key:  4bc3fa0d-a789-4187-aa8f-d6b17d0ea6a3\n"
     ]
    }
   ],
   "source": [
    "from util import load_config, set_embedding, get_embedding_dimension, set_llm\n",
    "from dotenv import load_dotenv\n",
    "from pinecone import Pinecone\n",
    "from llama_index.core import Settings\n",
    "from ingestion import IngestionEngine\n",
    "from retrieval import RetrievalEngine\n",
    "from prompt_settings import PrompSettingsFactory\n",
    "import os\n",
    "\n",
    "config_file = \"../retrieval_config.toml\"\n",
    "env_file = \"../.env\"\n",
    "\n",
    "config = load_config(config_file=config_file)\n",
    "\n",
    "load_dotenv(dotenv_path=env_file)\n",
    "\n",
    "print(\"Pinecone Key: \", os.getenv(\"PINECONE_API_KEY\"))"
   ]
  },
  {
   "cell_type": "code",
   "execution_count": 2,
   "metadata": {},
   "outputs": [
    {
     "name": "stdout",
     "output_type": "stream",
     "text": [
      "LLM is explicitly disabled. Using MockLLM.\n",
      "Set Qwen Embedding.\n"
     ]
    },
    {
     "data": {
      "text/html": [
       "<pre style=\"white-space:pre;overflow-x:auto;line-height:normal;font-family:Menlo,'DejaVu Sans Mono',consolas,'Courier New',monospace\"><span style=\"color: #7fbfbf; text-decoration-color: #7fbfbf\">[07/12/24 10:03:40] </span><span style=\"color: #000080; text-decoration-color: #000080\">INFO    </span> Load pretrained SentenceTransformer:                        <a href=\"file:///home/ssimon/projects/cval/cval_env/lib/python3.10/site-packages/sentence_transformers/SentenceTransformer.py\" target=\"_blank\"><span style=\"color: #7f7f7f; text-decoration-color: #7f7f7f\">SentenceTransformer.py</span></a><span style=\"color: #7f7f7f; text-decoration-color: #7f7f7f\">:</span><a href=\"file:///home/ssimon/projects/cval/cval_env/lib/python3.10/site-packages/sentence_transformers/SentenceTransformer.py#197\" target=\"_blank\"><span style=\"color: #7f7f7f; text-decoration-color: #7f7f7f\">197</span></a>\n",
       "<span style=\"color: #7fbfbf; text-decoration-color: #7fbfbf\">                    </span>         Alibaba-NLP/gte-Qwen2-7B-instruct                           <span style=\"color: #7f7f7f; text-decoration-color: #7f7f7f\">                          </span>\n",
       "</pre>\n"
      ],
      "text/plain": [
       "\u001b[2;36m[07/12/24 10:03:40]\u001b[0m\u001b[2;36m \u001b[0m\u001b[34mINFO    \u001b[0m Load pretrained SentenceTransformer:                        \u001b]8;id=428149;file:///home/ssimon/projects/cval/cval_env/lib/python3.10/site-packages/sentence_transformers/SentenceTransformer.py\u001b\\\u001b[2mSentenceTransformer.py\u001b[0m\u001b]8;;\u001b\\\u001b[2m:\u001b[0m\u001b]8;id=997177;file:///home/ssimon/projects/cval/cval_env/lib/python3.10/site-packages/sentence_transformers/SentenceTransformer.py#197\u001b\\\u001b[2m197\u001b[0m\u001b]8;;\u001b\\\n",
       "\u001b[2;36m                    \u001b[0m         Alibaba-NLP/gte-Qwen2-7B-instruct                           \u001b[2m                          \u001b[0m\n"
      ]
     },
     "metadata": {},
     "output_type": "display_data"
    },
    {
     "data": {
      "application/vnd.jupyter.widget-view+json": {
       "model_id": "240f8591de2e41e3b56d1e4f882cda59",
       "version_major": 2,
       "version_minor": 0
      },
      "text/plain": [
       "Loading checkpoint shards:   0%|          | 0/7 [00:00<?, ?it/s]"
      ]
     },
     "metadata": {},
     "output_type": "display_data"
    },
    {
     "name": "stderr",
     "output_type": "stream",
     "text": [
      "Special tokens have been added in the vocabulary, make sure the associated word embeddings are fine-tuned or trained.\n"
     ]
    },
    {
     "data": {
      "text/html": [
       "<pre style=\"white-space:pre;overflow-x:auto;line-height:normal;font-family:Menlo,'DejaVu Sans Mono',consolas,'Courier New',monospace\"><span style=\"color: #7fbfbf; text-decoration-color: #7fbfbf\">[07/12/24 10:04:12] </span><span style=\"color: #000080; text-decoration-color: #000080\">INFO    </span> <span style=\"color: #008080; text-decoration-color: #008080; font-weight: bold\">2</span> prompts are loaded, with the keys: <span style=\"font-weight: bold\">[</span><span style=\"color: #008000; text-decoration-color: #008000\">'query'</span>, <span style=\"color: #008000; text-decoration-color: #008000\">'text'</span><span style=\"font-weight: bold\">]</span>      <a href=\"file:///home/ssimon/projects/cval/cval_env/lib/python3.10/site-packages/sentence_transformers/SentenceTransformer.py\" target=\"_blank\"><span style=\"color: #7f7f7f; text-decoration-color: #7f7f7f\">SentenceTransformer.py</span></a><span style=\"color: #7f7f7f; text-decoration-color: #7f7f7f\">:</span><a href=\"file:///home/ssimon/projects/cval/cval_env/lib/python3.10/site-packages/sentence_transformers/SentenceTransformer.py#326\" target=\"_blank\"><span style=\"color: #7f7f7f; text-decoration-color: #7f7f7f\">326</span></a>\n",
       "</pre>\n"
      ],
      "text/plain": [
       "\u001b[2;36m[07/12/24 10:04:12]\u001b[0m\u001b[2;36m \u001b[0m\u001b[34mINFO    \u001b[0m \u001b[1;36m2\u001b[0m prompts are loaded, with the keys: \u001b[1m[\u001b[0m\u001b[32m'query'\u001b[0m, \u001b[32m'text'\u001b[0m\u001b[1m]\u001b[0m      \u001b]8;id=417277;file:///home/ssimon/projects/cval/cval_env/lib/python3.10/site-packages/sentence_transformers/SentenceTransformer.py\u001b\\\u001b[2mSentenceTransformer.py\u001b[0m\u001b]8;;\u001b\\\u001b[2m:\u001b[0m\u001b]8;id=315653;file:///home/ssimon/projects/cval/cval_env/lib/python3.10/site-packages/sentence_transformers/SentenceTransformer.py#326\u001b\\\u001b[2m326\u001b[0m\u001b]8;;\u001b\\\n"
      ]
     },
     "metadata": {},
     "output_type": "display_data"
    }
   ],
   "source": [
    "pinecone_client = Pinecone(api_key=os.getenv(\"PINECONE_API_KEY\"))\n",
    "set_llm(inference_model_name=None)\n",
    "set_embedding(embed_model_name=config[\"embedding_model\"])\n",
    "dimension = config[\"embedding_dimension\"]"
   ]
  },
  {
   "cell_type": "code",
   "execution_count": 3,
   "metadata": {},
   "outputs": [
    {
     "data": {
      "text/html": [
       "<pre style=\"white-space:pre;overflow-x:auto;line-height:normal;font-family:Menlo,'DejaVu Sans Mono',consolas,'Courier New',monospace\"><span style=\"color: #7fbfbf; text-decoration-color: #7fbfbf\">                    </span><span style=\"color: #000080; text-decoration-color: #000080\">INFO    </span> Ingestion engine initialized.                                          <a href=\"file:///home/ssimon/projects/cval/src/ingestion.py\" target=\"_blank\"><span style=\"color: #7f7f7f; text-decoration-color: #7f7f7f\">ingestion.py</span></a><span style=\"color: #7f7f7f; text-decoration-color: #7f7f7f\">:</span><a href=\"file:///home/ssimon/projects/cval/src/ingestion.py#39\" target=\"_blank\"><span style=\"color: #7f7f7f; text-decoration-color: #7f7f7f\">39</span></a>\n",
       "</pre>\n"
      ],
      "text/plain": [
       "\u001b[2;36m                   \u001b[0m\u001b[2;36m \u001b[0m\u001b[34mINFO    \u001b[0m Ingestion engine initialized.                                          \u001b]8;id=147133;file:///home/ssimon/projects/cval/src/ingestion.py\u001b\\\u001b[2mingestion.py\u001b[0m\u001b]8;;\u001b\\\u001b[2m:\u001b[0m\u001b]8;id=315114;file:///home/ssimon/projects/cval/src/ingestion.py#39\u001b\\\u001b[2m39\u001b[0m\u001b]8;;\u001b\\\n"
      ]
     },
     "metadata": {},
     "output_type": "display_data"
    },
    {
     "data": {
      "text/html": [
       "<pre style=\"white-space:pre;overflow-x:auto;line-height:normal;font-family:Menlo,'DejaVu Sans Mono',consolas,'Courier New',monospace\"><span style=\"color: #7fbfbf; text-decoration-color: #7fbfbf\">                    </span><span style=\"color: #000080; text-decoration-color: #000080\">INFO    </span> Retrieval engine initialized.                                          <a href=\"file:///home/ssimon/projects/cval/src/retrieval.py\" target=\"_blank\"><span style=\"color: #7f7f7f; text-decoration-color: #7f7f7f\">retrieval.py</span></a><span style=\"color: #7f7f7f; text-decoration-color: #7f7f7f\">:</span><a href=\"file:///home/ssimon/projects/cval/src/retrieval.py#28\" target=\"_blank\"><span style=\"color: #7f7f7f; text-decoration-color: #7f7f7f\">28</span></a>\n",
       "</pre>\n"
      ],
      "text/plain": [
       "\u001b[2;36m                   \u001b[0m\u001b[2;36m \u001b[0m\u001b[34mINFO    \u001b[0m Retrieval engine initialized.                                          \u001b]8;id=323594;file:///home/ssimon/projects/cval/src/retrieval.py\u001b\\\u001b[2mretrieval.py\u001b[0m\u001b]8;;\u001b\\\u001b[2m:\u001b[0m\u001b]8;id=440755;file:///home/ssimon/projects/cval/src/retrieval.py#28\u001b\\\u001b[2m28\u001b[0m\u001b]8;;\u001b\\\n"
      ]
     },
     "metadata": {},
     "output_type": "display_data"
    },
    {
     "data": {
      "text/html": [
       "<pre style=\"white-space:pre;overflow-x:auto;line-height:normal;font-family:Menlo,'DejaVu Sans Mono',consolas,'Courier New',monospace\"><span style=\"color: #7fbfbf; text-decoration-color: #7fbfbf\">                    </span><span style=\"color: #000080; text-decoration-color: #000080\">INFO    </span> Initialize CfgNet prompt settings.                              <a href=\"file:///home/ssimon/projects/cval/src/prompt_settings.py\" target=\"_blank\"><span style=\"color: #7f7f7f; text-decoration-color: #7f7f7f\">prompt_settings.py</span></a><span style=\"color: #7f7f7f; text-decoration-color: #7f7f7f\">:</span><a href=\"file:///home/ssimon/projects/cval/src/prompt_settings.py#192\" target=\"_blank\"><span style=\"color: #7f7f7f; text-decoration-color: #7f7f7f\">192</span></a>\n",
       "</pre>\n"
      ],
      "text/plain": [
       "\u001b[2;36m                   \u001b[0m\u001b[2;36m \u001b[0m\u001b[34mINFO    \u001b[0m Initialize CfgNet prompt settings.                              \u001b]8;id=213799;file:///home/ssimon/projects/cval/src/prompt_settings.py\u001b\\\u001b[2mprompt_settings.py\u001b[0m\u001b]8;;\u001b\\\u001b[2m:\u001b[0m\u001b]8;id=453968;file:///home/ssimon/projects/cval/src/prompt_settings.py#192\u001b\\\u001b[2m192\u001b[0m\u001b]8;;\u001b\\\n"
      ]
     },
     "metadata": {},
     "output_type": "display_data"
    }
   ],
   "source": [
    "ingestion_engine = IngestionEngine(\n",
    "    pinecone_client=pinecone_client,\n",
    "    dimension=dimension,\n",
    "    splitting=config[\"splitting\"],\n",
    "    extractors=config[\"extractors\"]\n",
    ")\n",
    "\n",
    "retrieval_engine = RetrievalEngine(\n",
    "    pinecone_client=pinecone_client,\n",
    "    rerank=config[\"rerank\"],\n",
    "    top_k=config[\"top_k\"],\n",
    "    top_n=config[\"top_n\"],\n",
    "    alpha=config[\"alpha\"]\n",
    ")\n",
    "\n",
    "prompt_settings = PrompSettingsFactory.get_prompt_settings(tool_name=config[\"tool_name\"])"
   ]
  },
  {
   "cell_type": "code",
   "execution_count": 4,
   "metadata": {},
   "outputs": [],
   "source": [
    "from data import Dependency\n",
    "import pandas as pd\n",
    "\n",
    "def transform(row: pd.Series) -> Dependency:\n",
    "    dependency = Dependency(\n",
    "        project=row[\"project\"],\n",
    "        option_name=row[\"option_name\"],\n",
    "        option_value=row[\"option_value\"],\n",
    "        option_type=row[\"option_type\"].split(\".\")[-1],\n",
    "        option_file=row[\"option_file\"],\n",
    "        option_technology=row[\"option_technology\"],\n",
    "        dependent_option_name=row[\"dependent_option_name\"],\n",
    "        dependent_option_value=row[\"dependent_option_value\"],\n",
    "        dependent_option_type=row[\"dependent_option_type\"].split(\".\")[-1],\n",
    "        dependent_option_file=row[\"dependent_option_file\"],\n",
    "        dependent_option_technology=row[\"dependent_option_technology\"]\n",
    "    )\n",
    "\n",
    "    return dependency"
   ]
  },
  {
   "cell_type": "code",
   "execution_count": 12,
   "metadata": {},
   "outputs": [],
   "source": [
    "def scrape(dependency: Dependency) -> None:\n",
    "    docs = ingestion_engine.docs_from_web(\n",
    "        query_str=prompt_settings.get_retrieval_prompt(dependency=dependency), \n",
    "        num_websites=config[\"num_websites\"]\n",
    "    )\n",
    "    \n",
    "    \n",
    "    for d in docs:\n",
    "        d.metadata[\"index_name\"] = \"web-search\"\n",
    "\n",
    "    ingestion_engine.index_documents(\n",
    "        index_name=\"web-search\",\n",
    "        documents=docs,\n",
    "        delete_index=True\n",
    "    )"
   ]
  },
  {
   "cell_type": "code",
   "execution_count": 13,
   "metadata": {},
   "outputs": [
    {
     "data": {
      "text/html": [
       "<pre style=\"white-space:pre;overflow-x:auto;line-height:normal;font-family:Menlo,'DejaVu Sans Mono',consolas,'Courier New',monospace\"><span style=\"color: #7fbfbf; text-decoration-color: #7fbfbf\">[07/12/24 10:07:43] </span><span style=\"color: #000080; text-decoration-color: #000080\">INFO    </span> Create Index web-search.                                               <a href=\"file:///home/ssimon/projects/cval/src/ingestion.py\" target=\"_blank\"><span style=\"color: #7f7f7f; text-decoration-color: #7f7f7f\">ingestion.py</span></a><span style=\"color: #7f7f7f; text-decoration-color: #7f7f7f\">:</span><a href=\"file:///home/ssimon/projects/cval/src/ingestion.py#51\" target=\"_blank\"><span style=\"color: #7f7f7f; text-decoration-color: #7f7f7f\">51</span></a>\n",
       "</pre>\n"
      ],
      "text/plain": [
       "\u001b[2;36m[07/12/24 10:07:43]\u001b[0m\u001b[2;36m \u001b[0m\u001b[34mINFO    \u001b[0m Create Index web-search.                                               \u001b]8;id=903723;file:///home/ssimon/projects/cval/src/ingestion.py\u001b\\\u001b[2mingestion.py\u001b[0m\u001b]8;;\u001b\\\u001b[2m:\u001b[0m\u001b]8;id=426742;file:///home/ssimon/projects/cval/src/ingestion.py#51\u001b\\\u001b[2m51\u001b[0m\u001b]8;;\u001b\\\n"
      ]
     },
     "metadata": {},
     "output_type": "display_data"
    },
    {
     "data": {
      "application/vnd.jupyter.widget-view+json": {
       "model_id": "bb2b5d660631416fb4215c17be790248",
       "version_major": 2,
       "version_minor": 0
      },
      "text/plain": [
       "Parsing nodes:   0%|          | 0/5 [00:00<?, ?it/s]"
      ]
     },
     "metadata": {},
     "output_type": "display_data"
    },
    {
     "data": {
      "application/vnd.jupyter.widget-view+json": {
       "model_id": "128803b22e2b46098eb4830cf15b00ec",
       "version_major": 2,
       "version_minor": 0
      },
      "text/plain": [
       "Generating embeddings:   0%|          | 0/43 [00:00<?, ?it/s]"
      ]
     },
     "metadata": {},
     "output_type": "display_data"
    },
    {
     "data": {
      "application/vnd.jupyter.widget-view+json": {
       "model_id": "1268a031c7aa4f64b30f32b7298aff4b",
       "version_major": 2,
       "version_minor": 0
      },
      "text/plain": [
       "Batches:   0%|          | 0/1 [00:00<?, ?it/s]"
      ]
     },
     "metadata": {},
     "output_type": "display_data"
    },
    {
     "data": {
      "application/vnd.jupyter.widget-view+json": {
       "model_id": "bd63961ecf244066aca92277abc7749b",
       "version_major": 2,
       "version_minor": 0
      },
      "text/plain": [
       "Batches:   0%|          | 0/1 [00:00<?, ?it/s]"
      ]
     },
     "metadata": {},
     "output_type": "display_data"
    },
    {
     "data": {
      "application/vnd.jupyter.widget-view+json": {
       "model_id": "c4bb9e9cf81b44bfb5e572c509de18b1",
       "version_major": 2,
       "version_minor": 0
      },
      "text/plain": [
       "Batches:   0%|          | 0/1 [00:00<?, ?it/s]"
      ]
     },
     "metadata": {},
     "output_type": "display_data"
    },
    {
     "data": {
      "application/vnd.jupyter.widget-view+json": {
       "model_id": "ba7162adf97543c0b4b99f1c6168085c",
       "version_major": 2,
       "version_minor": 0
      },
      "text/plain": [
       "Batches:   0%|          | 0/1 [00:00<?, ?it/s]"
      ]
     },
     "metadata": {},
     "output_type": "display_data"
    },
    {
     "data": {
      "application/vnd.jupyter.widget-view+json": {
       "model_id": "ee61e53d74c441f4a37a074a79cbce4c",
       "version_major": 2,
       "version_minor": 0
      },
      "text/plain": [
       "Batches:   0%|          | 0/1 [00:00<?, ?it/s]"
      ]
     },
     "metadata": {},
     "output_type": "display_data"
    },
    {
     "data": {
      "application/vnd.jupyter.widget-view+json": {
       "model_id": "bc553f6cfb43497f9d3d618febc62ded",
       "version_major": 2,
       "version_minor": 0
      },
      "text/plain": [
       "Upserted vectors:   0%|          | 0/43 [00:00<?, ?it/s]"
      ]
     },
     "metadata": {},
     "output_type": "display_data"
    },
    {
     "data": {
      "text/html": [
       "<pre style=\"white-space:pre;overflow-x:auto;line-height:normal;font-family:Menlo,'DejaVu Sans Mono',consolas,'Courier New',monospace\"><span style=\"color: #7fbfbf; text-decoration-color: #7fbfbf\">[07/12/24 10:08:12] </span><span style=\"color: #000080; text-decoration-color: #000080\">INFO    </span> Select index: web-search.                                              <a href=\"file:///home/ssimon/projects/cval/src/retrieval.py\" target=\"_blank\"><span style=\"color: #7f7f7f; text-decoration-color: #7f7f7f\">retrieval.py</span></a><span style=\"color: #7f7f7f; text-decoration-color: #7f7f7f\">:</span><a href=\"file:///home/ssimon/projects/cval/src/retrieval.py#44\" target=\"_blank\"><span style=\"color: #7f7f7f; text-decoration-color: #7f7f7f\">44</span></a>\n",
       "</pre>\n"
      ],
      "text/plain": [
       "\u001b[2;36m[07/12/24 10:08:12]\u001b[0m\u001b[2;36m \u001b[0m\u001b[34mINFO    \u001b[0m Select index: web-search.                                              \u001b]8;id=58247;file:///home/ssimon/projects/cval/src/retrieval.py\u001b\\\u001b[2mretrieval.py\u001b[0m\u001b]8;;\u001b\\\u001b[2m:\u001b[0m\u001b]8;id=412957;file:///home/ssimon/projects/cval/src/retrieval.py#44\u001b\\\u001b[2m44\u001b[0m\u001b]8;;\u001b\\\n"
      ]
     },
     "metadata": {},
     "output_type": "display_data"
    },
    {
     "data": {
      "application/vnd.jupyter.widget-view+json": {
       "model_id": "4d5712160f54474aab9f44a167708937",
       "version_major": 2,
       "version_minor": 0
      },
      "text/plain": [
       "Batches:   0%|          | 0/1 [00:00<?, ?it/s]"
      ]
     },
     "metadata": {},
     "output_type": "display_data"
    },
    {
     "data": {
      "text/html": [
       "<pre style=\"white-space:pre;overflow-x:auto;line-height:normal;font-family:Menlo,'DejaVu Sans Mono',consolas,'Courier New',monospace\"><span style=\"color: #7fbfbf; text-decoration-color: #7fbfbf\">[07/12/24 10:08:14] </span><span style=\"color: #000080; text-decoration-color: #000080\">INFO    </span> Create Colbert reranker.                                               <a href=\"file:///home/ssimon/projects/cval/src/retrieval.py\" target=\"_blank\"><span style=\"color: #7f7f7f; text-decoration-color: #7f7f7f\">retrieval.py</span></a><span style=\"color: #7f7f7f; text-decoration-color: #7f7f7f\">:</span><a href=\"file:///home/ssimon/projects/cval/src/retrieval.py#74\" target=\"_blank\"><span style=\"color: #7f7f7f; text-decoration-color: #7f7f7f\">74</span></a>\n",
       "</pre>\n"
      ],
      "text/plain": [
       "\u001b[2;36m[07/12/24 10:08:14]\u001b[0m\u001b[2;36m \u001b[0m\u001b[34mINFO    \u001b[0m Create Colbert reranker.                                               \u001b]8;id=232993;file:///home/ssimon/projects/cval/src/retrieval.py\u001b\\\u001b[2mretrieval.py\u001b[0m\u001b]8;;\u001b\\\u001b[2m:\u001b[0m\u001b]8;id=453233;file:///home/ssimon/projects/cval/src/retrieval.py#74\u001b\\\u001b[2m74\u001b[0m\u001b]8;;\u001b\\\n"
      ]
     },
     "metadata": {},
     "output_type": "display_data"
    },
    {
     "data": {
      "text/html": [
       "<pre style=\"white-space:pre;overflow-x:auto;line-height:normal;font-family:Menlo,'DejaVu Sans Mono',consolas,'Courier New',monospace\"><span style=\"color: #7fbfbf; text-decoration-color: #7fbfbf\">[07/12/24 10:08:17] </span><span style=\"color: #000080; text-decoration-color: #000080\">INFO    </span> Rerank <span style=\"color: #008080; text-decoration-color: #008080; font-weight: bold\">10</span> retrieved nodes into <span style=\"color: #008080; text-decoration-color: #008080; font-weight: bold\">5</span> nodes.                               <a href=\"file:///home/ssimon/projects/cval/src/retrieval.py\" target=\"_blank\"><span style=\"color: #7f7f7f; text-decoration-color: #7f7f7f\">retrieval.py</span></a><span style=\"color: #7f7f7f; text-decoration-color: #7f7f7f\">:</span><a href=\"file:///home/ssimon/projects/cval/src/retrieval.py#103\" target=\"_blank\"><span style=\"color: #7f7f7f; text-decoration-color: #7f7f7f\">103</span></a>\n",
       "</pre>\n"
      ],
      "text/plain": [
       "\u001b[2;36m[07/12/24 10:08:17]\u001b[0m\u001b[2;36m \u001b[0m\u001b[34mINFO    \u001b[0m Rerank \u001b[1;36m10\u001b[0m retrieved nodes into \u001b[1;36m5\u001b[0m nodes.                               \u001b]8;id=360676;file:///home/ssimon/projects/cval/src/retrieval.py\u001b\\\u001b[2mretrieval.py\u001b[0m\u001b]8;;\u001b\\\u001b[2m:\u001b[0m\u001b]8;id=556237;file:///home/ssimon/projects/cval/src/retrieval.py#103\u001b\\\u001b[2m103\u001b[0m\u001b]8;;\u001b\\\n"
      ]
     },
     "metadata": {},
     "output_type": "display_data"
    }
   ],
   "source": [
    "import pandas as pd\n",
    "import json\n",
    "\n",
    "index_name = \"web-search\"\n",
    "eval_data_file = \"../data/evaluation/all_dependencies.csv\"\n",
    "output_file = f\"../data/evaluation/all_dependencies_{index_name}.json\"\n",
    "df = pd.read_csv(eval_data_file)\n",
    "\n",
    "queries = []\n",
    "for index, row in df.iterrows():\n",
    "    dependency = transform(row=row)\n",
    "\n",
    "    system_str = prompt_settings.get_system_str(dependency=dependency)\n",
    "    task_str = prompt_settings.get_task_str(dependency=dependency)\n",
    "    retrieval_str = prompt_settings.get_retrieval_prompt(dependency=dependency)\n",
    "\n",
    "    if index_name == \"web-search\" or index_name == all:\n",
    "        scrape(dependency=dependency)\n",
    "\n",
    "\n",
    "    retrieved_nodes = retrieval_engine.retrieve(\n",
    "        index_name=index_name,\n",
    "        query_str=retrieval_str\n",
    "    )\n",
    "\n",
    "    context_str = \"\\n\\n\".join([source_node.node.get_content() for source_node in retrieved_nodes])\n",
    "\n",
    "    context = [\n",
    "        {\n",
    "            \"content\": node.get_content(),\n",
    "            \"score\": node.get_score(),\n",
    "            \"index\": node.metadata[\"index_name\"] if \"index_name\" in node.metadata else None,\n",
    "            \"id\": node.node_id\n",
    "        } for node in retrieved_nodes\n",
    "    ]\n",
    "\n",
    "    queries.append({\n",
    "        \"index\": index,\n",
    "        \"dependency\": dependency.to_dict(),\n",
    "        \"system_str\": system_str,\n",
    "        \"task_str\": task_str,\n",
    "        \"context_str\": context_str,\n",
    "        \"context\": context\n",
    "\n",
    "    })\n",
    "\n",
    "\n",
    "with open(output_file, \"w\", encoding=\"utf-8\") as dest:\n",
    "    json.dump(queries, dest, indent=2)"
   ]
  }
 ],
 "metadata": {
  "kernelspec": {
   "display_name": "cval_env",
   "language": "python",
   "name": "python3"
  },
  "language_info": {
   "codemirror_mode": {
    "name": "ipython",
    "version": 3
   },
   "file_extension": ".py",
   "mimetype": "text/x-python",
   "name": "python",
   "nbconvert_exporter": "python",
   "pygments_lexer": "ipython3",
   "version": "3.10.12"
  }
 },
 "nbformat": 4,
 "nbformat_minor": 2
}
