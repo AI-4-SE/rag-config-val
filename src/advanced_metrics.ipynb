{
 "cells": [
  {
   "cell_type": "code",
   "execution_count": 13,
   "metadata": {},
   "outputs": [],
   "source": [
    "from collections import Counter\n",
    "import pandas as pd\n",
    "import json\n",
    "\n",
    "def compute_metrics(df: pd.DataFrame, model_name: str) -> None:\n",
    "    \n",
    "    true_positives = []\n",
    "    true_negatives = []\n",
    "    false_positives = []\n",
    "    false_negatives = []\n",
    "    categories = []\n",
    "\n",
    "    for _, row in df.iterrows():\n",
    "\n",
    "        rating = row[\"rating\"]\n",
    "        response = row[\"responses\"]\n",
    "\n",
    "        response_dict = json.loads(response, strict=False)\n",
    "        isDependency = response_dict[\"isDependency\"]\n",
    "\n",
    "\n",
    "        # TP: The LLM validates a dependency as correct and the dependency is correct\n",
    "        if isDependency and str(rating).lower() == \"true\":\n",
    "            true_positives.append(1)\n",
    "                \n",
    "        # FP: The LLM validates a dependency as correct, but the dependency is actually incorrect\n",
    "        if isDependency and str(rating).lower() == \"false\":\n",
    "            false_positives.append(1)\n",
    "            categories.append(row[\"final_failure_category\"])\n",
    "\n",
    "        # TN: The LLM validates a dependency as incorrect and the dependency is incorrect\n",
    "        if not isDependency and str(rating).lower() == \"false\":\n",
    "            true_negatives.append(1)\n",
    "            \n",
    "\n",
    "        # FN: The LLM validates a dependency as incorrect, but the dependency is actually correct\n",
    "        if not isDependency and  str(rating).lower() == \"true\":\n",
    "            false_negatives.append(1)\n",
    "            categories.append(row[\"final_failure_category\"])\n",
    "    \n",
    "\n",
    "    tp = sum(true_positives)\n",
    "    fp = sum(false_positives)\n",
    "    fn = sum(false_negatives)\n",
    "    tn = sum(true_negatives)\n",
    "\n",
    "    assert tp + tn + fp + fn == len(df)\n",
    "\n",
    "    print(f\"Num Failures for RAG config2 {model_name}: {len(df)}\")\n",
    "    print(f\"Num Failures for RAG config2 with specialized prompt and few-shot: {model_name}: {fn +fp}\")\n",
    "    print(Counter(categories))"
   ]
  },
  {
   "cell_type": "code",
   "execution_count": 16,
   "metadata": {},
   "outputs": [
    {
     "name": "stdout",
     "output_type": "stream",
     "text": [
      "Num Failures for RAG config2 gpt-3.5-turbo-0125: 185\n",
      "Num Failures for RAG config2 with specialized prompt and few-shot: gpt-3.5-turbo-0125: 82\n",
      "Counter({'Configuration Consistency': 30, 'Inheritance and Overrides': 28, 'Inferring Dependencies': 6, 'Resource Sharing': 6, 'Exclusive Dependencies': 6, 'Port Mapping': 5, 'Ambiguous Option Values': 1})\n"
     ]
    }
   ],
   "source": [
    "model_name = \"gpt-3.5-turbo-0125\" #\"gpt-4o-2024-05-13\"\n",
    "df = pd.read_csv(f\"../data/analysis/failures_{model_name}.csv\")\n",
    "compute_metrics(df=df, model_name=model_name)"
   ]
  }
 ],
 "metadata": {
  "kernelspec": {
   "display_name": "cval_env",
   "language": "python",
   "name": "python3"
  },
  "language_info": {
   "codemirror_mode": {
    "name": "ipython",
    "version": 3
   },
   "file_extension": ".py",
   "mimetype": "text/x-python",
   "name": "python",
   "nbconvert_exporter": "python",
   "pygments_lexer": "ipython3",
   "version": "3.10.12"
  }
 },
 "nbformat": 4,
 "nbformat_minor": 2
}
