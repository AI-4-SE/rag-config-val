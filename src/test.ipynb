{
 "cells": [
  {
   "cell_type": "code",
   "execution_count": 2,
   "metadata": {},
   "outputs": [
    {
     "data": {
      "text/html": [
       "<pre style=\"white-space:pre;overflow-x:auto;line-height:normal;font-family:Menlo,'DejaVu Sans Mono',consolas,'Courier New',monospace\"><span style=\"color: #7fbfbf; text-decoration-color: #7fbfbf\">[06/19/24 20:03:42] </span><span style=\"color: #000080; text-decoration-color: #000080\">INFO    </span> Custom Hybrid Retriever initialized.                                  <a href=\"file:///home/ssimon/github/cval/src/retriever.py\" target=\"_blank\"><span style=\"color: #7f7f7f; text-decoration-color: #7f7f7f\">retriever.py</span></a><span style=\"color: #7f7f7f; text-decoration-color: #7f7f7f\">:</span><a href=\"file:///home/ssimon/github/cval/src/retriever.py#272\" target=\"_blank\"><span style=\"color: #7f7f7f; text-decoration-color: #7f7f7f\">272</span></a>\n",
       "</pre>\n"
      ],
      "text/plain": [
       "\u001b[2;36m[06/19/24 20:03:42]\u001b[0m\u001b[2;36m \u001b[0m\u001b[34mINFO    \u001b[0m Custom Hybrid Retriever initialized.                                  \u001b]8;id=654319;file:///home/ssimon/github/cval/src/retriever.py\u001b\\\u001b[2mretriever.py\u001b[0m\u001b]8;;\u001b\\\u001b[2m:\u001b[0m\u001b]8;id=721957;file:///home/ssimon/github/cval/src/retriever.py#272\u001b\\\u001b[2m272\u001b[0m\u001b]8;;\u001b\\\n"
      ]
     },
     "metadata": {},
     "output_type": "display_data"
    },
    {
     "data": {
      "text/html": [
       "<pre style=\"white-space:pre;overflow-x:auto;line-height:normal;font-family:Menlo,'DejaVu Sans Mono',consolas,'Courier New',monospace\"><span style=\"color: #7fbfbf; text-decoration-color: #7fbfbf\">                    </span><span style=\"color: #000080; text-decoration-color: #000080\">INFO    </span> HTTP Request: <span style=\"color: #808000; text-decoration-color: #808000; font-weight: bold\">POST</span> <span style=\"color: #0000ff; text-decoration-color: #0000ff; text-decoration: underline\">https://api.openai.com/v1/embeddings</span> <span style=\"color: #008000; text-decoration-color: #008000\">\"HTTP/1.1 200 </span> <a href=\"file:///home/ssimon/github/cval/env/lib/python3.10/site-packages/httpx/_client.py\" target=\"_blank\"><span style=\"color: #7f7f7f; text-decoration-color: #7f7f7f\">_client.py</span></a><span style=\"color: #7f7f7f; text-decoration-color: #7f7f7f\">:</span><a href=\"file:///home/ssimon/github/cval/env/lib/python3.10/site-packages/httpx/_client.py#1026\" target=\"_blank\"><span style=\"color: #7f7f7f; text-decoration-color: #7f7f7f\">1026</span></a>\n",
       "<span style=\"color: #7fbfbf; text-decoration-color: #7fbfbf\">                    </span>         <span style=\"color: #008000; text-decoration-color: #008000\">OK\"</span>                                                                    <span style=\"color: #7f7f7f; text-decoration-color: #7f7f7f\">               </span>\n",
       "</pre>\n"
      ],
      "text/plain": [
       "\u001b[2;36m                   \u001b[0m\u001b[2;36m \u001b[0m\u001b[34mINFO    \u001b[0m HTTP Request: \u001b[1;33mPOST\u001b[0m \u001b[4;94mhttps://api.openai.com/v1/embeddings\u001b[0m \u001b[32m\"HTTP/1.1 200 \u001b[0m \u001b]8;id=133796;file:///home/ssimon/github/cval/env/lib/python3.10/site-packages/httpx/_client.py\u001b\\\u001b[2m_client.py\u001b[0m\u001b]8;;\u001b\\\u001b[2m:\u001b[0m\u001b]8;id=775680;file:///home/ssimon/github/cval/env/lib/python3.10/site-packages/httpx/_client.py#1026\u001b\\\u001b[2m1026\u001b[0m\u001b]8;;\u001b\\\n",
       "\u001b[2;36m                    \u001b[0m         \u001b[32mOK\"\u001b[0m                                                                    \u001b[2m               \u001b[0m\n"
      ]
     },
     "metadata": {},
     "output_type": "display_data"
    },
    {
     "name": "stdout",
     "output_type": "stream",
     "text": [
      "5\n",
      "Node ID: 08c6acc8-6078-4400-81e3-fc6777d08eb4\n",
      "Text: In this case Compose relies on you to resolve the value. If the\n",
      "value is not resolved, the variable is unset and is removed from the\n",
      "service container environment.  Map syntax:\n",
      "environment:       RACK_ENV: development       SHOW: \"true\"\n",
      "USER_INPUT:  Array syntax:                environment:       -\n",
      "RACK_ENV=development      ...\n",
      "Score:  0.829\n",
      "\n",
      "Node ID: 76296ff2-a385-4e03-804b-f6905d3ecd2c\n",
      "Text: In this case Compose relies on you to resolve the value. If the\n",
      "value is not resolved, the variable is unset and is removed from the\n",
      "service container environment.  Map syntax:\n",
      "environment:       RACK_ENV: development       SHOW: \"true\"\n",
      "USER_INPUT:  Array syntax:                environment:       -\n",
      "RACK_ENV=development      ...\n",
      "Score:  0.827\n",
      "\n",
      "Node ID: 7ff9c77a-ef75-429f-9671-9a71fb925306\n",
      "Text: |      `spring.docker.compose.host`  |  Hostname or IP of the\n",
      "machine where the docker containers are started.  |\n",
      "`spring.docker.compose.lifecycle-management`  |  Docker compose\n",
      "lifecycle management.  |  `start-and-stop`\n",
      "`spring.docker.compose.profiles.active`  |  Docker compose profiles\n",
      "that should be active.  |      `spring.docker.co...\n",
      "Score:  0.816\n",
      "\n",
      "Node ID: baafa318-5a79-49d8-8eda-73b714a93d7e\n",
      "Text: |  `localhost`      `management.ganglia.metrics.export.port`  |\n",
      "Port of the Ganglia server to receive exported metrics.  |  `8649`\n",
      "`management.ganglia.metrics.export.step`  |  Step size (i.e. reporting\n",
      "frequency) to use.  |  `1m`\n",
      "`management.ganglia.metrics.export.time-to-live`  |  Time to live for\n",
      "metrics on Ganglia. Set the multicas...\n",
      "Score:  0.812\n",
      "\n",
      "Node ID: 0b26a593-f8df-4d44-8f85-880b0ece706b\n",
      "Text: |      `spring.cassandra.local-datacenter`  |  Datacenter that\n",
      "is considered \"local\". Contact points should be from this datacenter.\n",
      "|      `spring.cassandra.password`  |  Login password of the server.\n",
      "|      `spring.cassandra.pool.heartbeat-interval`  |  Heartbeat\n",
      "interval after which a message is sent on an idle connection to make\n",
      "sure it's ...\n",
      "Score:  0.811\n",
      "\n"
     ]
    }
   ],
   "source": [
    "from retriever import CustomHybridRetriever\n",
    "from llama_index.embeddings.openai import OpenAIEmbedding\n",
    "from llama_index.llms.openai import OpenAI\n",
    "from llama_index.vector_stores.pinecone import PineconeVectorStore\n",
    "from pinecone import Pinecone\n",
    "from llama_index.core import Settings\n",
    "from dotenv import load_dotenv\n",
    "import os\n",
    "\n",
    "query = \"Relationship between 'Docker' 'EXPOSE' and 'Spring-Boot' 'server.port'\"\n",
    "\n",
    "load_dotenv()\n",
    "\n",
    "Settings.embed_model = OpenAIEmbedding(api_key=os.getenv(key=\"OPENAI_KEY\"))\n",
    "Settings.llm = OpenAI(model=\"gpt-4o-2024-05-13\", api_key=os.getenv(key=\"OPENAI_KEY\"))\n",
    "\n",
    "pc = Pinecone(api_key=os.getenv(\"PINECONE_API_KEY\"))\n",
    "index = pc.Index(\"tech-docs\")\n",
    "vector_store = PineconeVectorStore(pinecone_index=index)\n",
    "\n",
    "retriever = CustomHybridRetriever(\n",
    "    vector_store=vector_store,\n",
    "    embed_model=Settings.embed_model,\n",
    "    similarity_top_k=5\n",
    ")\n",
    "\n",
    "retrieved_nodes = retriever.retrieve(str_or_query_bundle=query)\n",
    "\n",
    "print(len(retrieved_nodes))\n",
    "\n",
    "for x in retrieved_nodes:\n",
    "    print(x)"
   ]
  }
 ],
 "metadata": {
  "kernelspec": {
   "display_name": "env",
   "language": "python",
   "name": "python3"
  },
  "language_info": {
   "codemirror_mode": {
    "name": "ipython",
    "version": 3
   },
   "file_extension": ".py",
   "mimetype": "text/x-python",
   "name": "python",
   "nbconvert_exporter": "python",
   "pygments_lexer": "ipython3",
   "version": "3.10.12"
  }
 },
 "nbformat": 4,
 "nbformat_minor": 2
}
