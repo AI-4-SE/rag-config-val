{
 "cells": [
  {
   "cell_type": "code",
   "execution_count": 3,
   "metadata": {},
   "outputs": [
    {
     "name": "stdout",
     "output_type": "stream",
     "text": [
      "Carefully evaluate whether configuration option spring.datasource.druid.stat-view-servlet.login-password of type ConfigType.PASSWORD with value druid in mall-admin/src/main/resources/application-dev.yml of technology spring     depends on configuration option spring.datasource.druid.stat-view-servlet.login-password of type ConfigType.PASSWORD with value druid in mall-search/src/main/resources/application-prod.yml of technology spring or vice versa.\n",
      "Carefully evaluate whether configuration option project.groupId of type ConfigType.NAME with value com.macro.mall in mall-mbg/pom.xml of technology maven     depends on configuration option project.parent_mall.groupId of type ConfigType.NAME with value com.macro.mall in mall-mbg/pom.xml of technology maven or vice versa.\n",
      "Carefully evaluate whether configuration option spring.h2.console.enabled of type ConfigType.BOOLEAN with value true in apollo-biz/src/test/resources/application.properties of technology spring     depends on configuration option project.build.plugins.plugin_maven-jar-plugin.configuration.archive.manifest.addDefaultSpecificationEntries of type ConfigType.IP_ADDRESS with value true in pom.xml of technology maven or vice versa.\n",
      "Carefully evaluate whether configuration option project.dependencies.dependency_apollo-portal.artifactId of type ConfigType.NAME with value apollo-portal in apollo-assembly/pom.xml of technology maven     depends on configuration option COPY.src of type ConfigType.PATH with value apollo-portal in apollo-portal/src/main/docker/Dockerfile of technology docker or vice versa.\n",
      "Carefully evaluate whether configuration option project.parent_apollo.relativePath of type ConfigType.PATH with value ../pom.xml in apollo-assembly/pom.xml of technology maven     depends on configuration option project.parent_apollo.relativePath of type ConfigType.PATH with value ../pom.xml in apollo-portal/pom.xml of technology maven or vice versa.\n",
      "Carefully evaluate whether configuration option dependencies.js-cookie of type ConfigType.VERSION_NUMBER with value js-cookie:2.2.0 in litemall-admin/package.json of technology nodejs     depends on configuration option dependencies.js-cookie of type ConfigType.VERSION_NUMBER with value js-cookie:2.2.0 in litemall-vue/package.json of technology nodejs or vice versa.\n",
      "Carefully evaluate whether configuration option project.dependencies.dependency_litemall-core.artifactId of type ConfigType.NAME with value litemall-core in litemall-all/pom.xml of technology maven     depends on configuration option project.modules.module of type ConfigType.NAME with value litemall-core in pom.xml of technology maven or vice versa.\n",
      "Carefully evaluate whether configuration option project.dependencies.dependency_springfox-swagger2.groupId of type ConfigType.NAME with value io.springfox in litemall-admin-api/pom.xml of technology maven     depends on configuration option project.dependencies.dependency_springfox-swagger2.groupId of type ConfigType.NAME with value io.springfox in litemall-wx-api/pom.xml of technology maven or vice versa.\n",
      "Carefully evaluate whether configuration option project.dependencies.dependency_spring-boot-starter-data-mongodb.groupId of type ConfigType.NAME with value org.springframework.boot in auth-service/pom.xml of technology maven     depends on configuration option project.dependencies.dependency_spring-boot-starter-security.groupId of type ConfigType.NAME with value org.springframework.boot in config/pom.xml of technology maven or vice versa.\n",
      "Carefully evaluate whether configuration option project.modelVersion of type ConfigType.VERSION_NUMBER with value modelVersion:4.0.0 in gateway/pom.xml of technology maven     depends on configuration option project.modelVersion of type ConfigType.VERSION_NUMBER with value modelVersion:4.0.0 in registry/pom.xml of technology maven or vice versa.\n",
      "Carefully evaluate whether configuration option services.account-service.restart of type ConfigType.MODE with value always in docker-compose.yml of technology docker-compose     depends on configuration option services.notification-mongodb.restart of type ConfigType.MODE with value always in docker-compose.yml of technology docker-compose or vice versa.\n",
      "Carefully evaluate whether configuration option CMD.param0 of type ConfigType.UNKNOWN with value java in monitoring/Dockerfile of technology docker     depends on configuration option CMD.param0 of type ConfigType.UNKNOWN with value java in notification-service/Dockerfile of technology docker or vice versa.\n",
      "Carefully evaluate whether configuration option project.dependencies.dependency_mall-common.groupId of type ConfigType.NAME with value com.macro.mall in mall-mbg/pom.xml of technology maven     depends on configuration option project.parent_mall-swarm.groupId of type ConfigType.NAME with value com.macro.mall in mall-search/pom.xml of technology maven or vice versa.\n",
      "Carefully evaluate whether configuration option project.artifactId of type ConfigType.NAME with value mall-auth in mall-auth/pom.xml of technology maven     depends on configuration option project.name of type ConfigType.NAME with value mall-auth in mall-auth/pom.xml of technology maven or vice versa.\n",
      "Carefully evaluate whether configuration option spring.mvc.pathmatch.matching-strategy of type ConfigType.PATH with value ant_path_matcher in mall-admin/src/main/resources/application.yml of technology spring     depends on configuration option spring.mvc.pathmatch.matching-strategy of type ConfigType.PATH with value ant_path_matcher in mall-portal/src/main/resources/application.yml of technology spring or vice versa.\n",
      "Carefully evaluate whether configuration option redis.pool.maxWait of type ConfigType.NUMBER with value 1000 in ace-modules/ace-admin/src/main/resources/application.yml of technology spring     depends on configuration option hystrix.threadpool.default.maxQueueSize of type ConfigType.NUMBER with value 1000 in ace-modules/ace-sample/src/main/resources/application.yml of technology spring or vice versa.\n",
      "Carefully evaluate whether configuration option project.parent_ace-dev-base.version of type ConfigType.VERSION_NUMBER with value version:2.0-SNAPSHOT in ace-dev-base/ace-common/pom.xml of technology maven     depends on configuration option project.parent_ace-modules.version of type ConfigType.VERSION_NUMBER with value version:2.0-SNAPSHOT in ace-modules/ace-generator/pom.xml of technology maven or vice versa.\n",
      "Carefully evaluate whether configuration option project.packaging of type ConfigType.TYPE with value jar in pig-boot/pom.xml of technology maven     depends on configuration option project.packaging of type ConfigType.TYPE with value jar in pig-register/pom.xml of technology maven or vice versa.\n",
      "Carefully evaluate whether configuration option project.dependencies.dependency_mqtt-component.groupId of type ConfigType.NAME with value ${project.groupId} in jetlinks-manager/network-manager/pom.xml of technology maven     depends on configuration option project.dependencies.dependency_notify-manager.groupId of type ConfigType.NAME with value ${project.groupId} in jetlinks-standalone/pom.xml of technology maven or vice versa.\n",
      "Carefully evaluate whether configuration option compilerOptions.esModuleInterop of type ConfigType.BOOLEAN with value True in music-client/tsconfig.json of technology tsconfig     depends on configuration option compilerOptions.useDefineForClassFields of type ConfigType.BOOLEAN with value True in music-manage/tsconfig.json of technology tsconfig or vice versa.\n"
     ]
    }
   ],
   "source": [
    "from prompt_templates import TASK_PROMPT\n",
    "import pandas as pd\n",
    "\n",
    "\n",
    "df = pd.read_csv(\"../data/eval/dependencies_without_rules.csv\", sep=\";\")\n",
    "\n",
    "for x in df.to_dict(\"records\"):\n",
    "    print(TASK_PROMPT.format(\n",
    "        nameA=x[\"option_name\"],\n",
    "        typeA=x[\"option_type\"],\n",
    "        valueA=x[\"option_value\"],\n",
    "        fileA=x[\"option_file\"],\n",
    "        technologyA=x[\"option_technology\"],\n",
    "        nameB=x[\"dependent_option_name\"],\n",
    "        typeB=x[\"dependent_option_type\"],\n",
    "        valueB=x[\"dependent_option_value\"],\n",
    "        fileB=x[\"dependent_option_file\"],\n",
    "        technologyB=x[\"dependent_option_technology\"],\n",
    "    ))\n"
   ]
  },
  {
   "cell_type": "code",
   "execution_count": 4,
   "metadata": {},
   "outputs": [
    {
     "name": "stderr",
     "output_type": "stream",
     "text": [
      "/home/simisimon/GitHub/cval/env/lib/python3.9/site-packages/pinecone/data/index.py:1: TqdmWarning: IProgress not found. Please update jupyter and ipywidgets. See https://ipywidgets.readthedocs.io/en/stable/user_install.html\n",
      "  from tqdm.autonotebook import tqdm\n"
     ]
    }
   ],
   "source": [
    "from pinecone import Pinecone\n",
    "from dotenv import load_dotenv\n",
    "import os\n",
    "\n",
    "load_dotenv(dotenv_path=\"../.env\")\n",
    "\n",
    "pinecone_client = Pinecone(api_key=os.getenv(key=\"PINECONE_API_KEY\"))\n",
    "\n",
    "#index = pinecone_client.Index(\"github\")\n",
    "\n",
    "#if index:\n",
    "#    print(index.describe_index_stats())\n",
    "#    print(index.describe_index_stats()[\"total_vector_count\"])"
   ]
  },
  {
   "cell_type": "code",
   "execution_count": 5,
   "metadata": {},
   "outputs": [
    {
     "data": {
      "text/html": [
       "<pre style=\"white-space:pre;overflow-x:auto;line-height:normal;font-family:Menlo,'DejaVu Sans Mono',consolas,'Courier New',monospace\"><span style=\"color: #7fbfbf; text-decoration-color: #7fbfbf\">[06/28/24 12:48:51] </span><span style=\"color: #000080; text-decoration-color: #000080\">INFO    </span> Ingestion engine initialized.                                          <a href=\"file:///home/simisimon/GitHub/cval/src/ingestion.py\" target=\"_blank\"><span style=\"color: #7f7f7f; text-decoration-color: #7f7f7f\">ingestion.py</span></a><span style=\"color: #7f7f7f; text-decoration-color: #7f7f7f\">:</span><a href=\"file:///home/simisimon/GitHub/cval/src/ingestion.py#42\" target=\"_blank\"><span style=\"color: #7f7f7f; text-decoration-color: #7f7f7f\">42</span></a>\n",
       "</pre>\n"
      ],
      "text/plain": [
       "\u001b[2;36m[06/28/24 12:48:51]\u001b[0m\u001b[2;36m \u001b[0m\u001b[34mINFO    \u001b[0m Ingestion engine initialized.                                          \u001b]8;id=985342;file:///home/simisimon/GitHub/cval/src/ingestion.py\u001b\\\u001b[2mingestion.py\u001b[0m\u001b]8;;\u001b\\\u001b[2m:\u001b[0m\u001b]8;id=216985;file:///home/simisimon/GitHub/cval/src/ingestion.py#42\u001b\\\u001b[2m42\u001b[0m\u001b]8;;\u001b\\\n"
      ]
     },
     "metadata": {},
     "output_type": "display_data"
    },
    {
     "data": {
      "text/html": [
       "<pre style=\"white-space:pre;overflow-x:auto;line-height:normal;font-family:Menlo,'DejaVu Sans Mono',consolas,'Courier New',monospace\"><span style=\"color: #7fbfbf; text-decoration-color: #7fbfbf\">                    </span><span style=\"color: #000080; text-decoration-color: #000080\">INFO    </span> Start scraping the repository of apollo.                              <a href=\"file:///home/simisimon/GitHub/cval/src/ingestion.py\" target=\"_blank\"><span style=\"color: #7f7f7f; text-decoration-color: #7f7f7f\">ingestion.py</span></a><span style=\"color: #7f7f7f; text-decoration-color: #7f7f7f\">:</span><a href=\"file:///home/simisimon/GitHub/cval/src/ingestion.py#180\" target=\"_blank\"><span style=\"color: #7f7f7f; text-decoration-color: #7f7f7f\">180</span></a>\n",
       "</pre>\n"
      ],
      "text/plain": [
       "\u001b[2;36m                   \u001b[0m\u001b[2;36m \u001b[0m\u001b[34mINFO    \u001b[0m Start scraping the repository of apollo.                              \u001b]8;id=28137;file:///home/simisimon/GitHub/cval/src/ingestion.py\u001b\\\u001b[2mingestion.py\u001b[0m\u001b]8;;\u001b\\\u001b[2m:\u001b[0m\u001b]8;id=438315;file:///home/simisimon/GitHub/cval/src/ingestion.py#180\u001b\\\u001b[2m180\u001b[0m\u001b]8;;\u001b\\\n"
      ]
     },
     "metadata": {},
     "output_type": "display_data"
    }
   ],
   "source": [
    "from ingestion import IngestionEngine\n",
    "\n",
    "engine = IngestionEngine(\n",
    "    pinecone_client=pinecone_client,\n",
    "    splitting=\"sentence\",\n",
    "    extractors=[]\n",
    ")\n",
    "\n",
    "docs = engine.docs_from_github(project_name=\"apollo\")\n",
    "\n",
    "print(len(docs))"
   ]
  },
  {
   "cell_type": "code",
   "execution_count": 1,
   "metadata": {},
   "outputs": [
    {
     "data": {
      "text/plain": [
       "'Carefully evaluate whether configuration option EXPOSE of type PORT with value 8080 in Dockerfile of technology Dockerdepends on configuration option server.port of type PORT with value 8080 in application.yml of technology Spring-Boot or vice versa.'"
      ]
     },
     "execution_count": 1,
     "metadata": {},
     "output_type": "execute_result"
    }
   ],
   "source": [
    "from plugins.prompt_engine_factory import PromptEngineFactory\n",
    "from data import Dependency\n",
    "\n",
    "dep = Dependency(\n",
    "    project=\"piggymetrics\",\n",
    "    dependency_category=\"value-equality\",\n",
    "    option_name=\"EXPOSE\",\n",
    "    option_value=\"8080\",\n",
    "    option_type=\"PORT\",\n",
    "    option_file=\"Dockerfile\",\n",
    "    option_technology=\"Docker\",\n",
    "    dependent_option_name=\"server.port\",\n",
    "    dependent_option_value=\"8080\",\n",
    "    dependent_option_file=\"application.yml\",\n",
    "    dependent_option_type=\"PORT\",\n",
    "    dependent_option_technology=\"Spring-Boot\"\n",
    ")\n",
    "\n",
    "\n",
    "prompt_engine = PromptEngineFactory().get_prompt_engine(tool_name=\"cfgnet\")\n",
    "\n",
    "prompt_engine.get_task_str(dependency=dep)"
   ]
  }
 ],
 "metadata": {
  "kernelspec": {
   "display_name": "env",
   "language": "python",
   "name": "python3"
  },
  "language_info": {
   "codemirror_mode": {
    "name": "ipython",
    "version": 3
   },
   "file_extension": ".py",
   "mimetype": "text/x-python",
   "name": "python",
   "nbconvert_exporter": "python",
   "pygments_lexer": "ipython3",
   "version": "3.9.5"
  }
 },
 "nbformat": 4,
 "nbformat_minor": 2
}
