{
 "cells": [
  {
   "cell_type": "code",
   "execution_count": 1,
   "metadata": {},
   "outputs": [
    {
     "name": "stderr",
     "output_type": "stream",
     "text": [
      "/home/simisimon/GitHub/cval/env/lib/python3.9/site-packages/pinecone/data/index.py:1: TqdmWarning: IProgress not found. Please update jupyter and ipywidgets. See https://ipywidgets.readthedocs.io/en/stable/user_install.html\n",
      "  from tqdm.autonotebook import tqdm\n"
     ]
    },
    {
     "data": {
      "text/html": [
       "<pre style=\"white-space:pre;overflow-x:auto;line-height:normal;font-family:Menlo,'DejaVu Sans Mono',consolas,'Courier New',monospace\"><span style=\"color: #7fbfbf; text-decoration-color: #7fbfbf\">[06/17/24 14:00:16] </span><span style=\"color: #000080; text-decoration-color: #000080\">INFO    </span> Data Ingestion Engine initialized.                                     <a href=\"file:///home/simisimon/GitHub/cval/src/ingestion.py\" target=\"_blank\"><span style=\"color: #7f7f7f; text-decoration-color: #7f7f7f\">ingestion.py</span></a><span style=\"color: #7f7f7f; text-decoration-color: #7f7f7f\">:</span><a href=\"file:///home/simisimon/GitHub/cval/src/ingestion.py#31\" target=\"_blank\"><span style=\"color: #7f7f7f; text-decoration-color: #7f7f7f\">31</span></a>\n",
       "</pre>\n"
      ],
      "text/plain": [
       "\u001b[2;36m[06/17/24 14:00:16]\u001b[0m\u001b[2;36m \u001b[0m\u001b[34mINFO    \u001b[0m Data Ingestion Engine initialized.                                     \u001b]8;id=586372;file:///home/simisimon/GitHub/cval/src/ingestion.py\u001b\\\u001b[2mingestion.py\u001b[0m\u001b]8;;\u001b\\\u001b[2m:\u001b[0m\u001b]8;id=146764;file:///home/simisimon/GitHub/cval/src/ingestion.py#31\u001b\\\u001b[2m31\u001b[0m\u001b]8;;\u001b\\\n"
      ]
     },
     "metadata": {},
     "output_type": "display_data"
    },
    {
     "name": "stdout",
     "output_type": "stream",
     "text": [
      "{'index': {'tech-docs': {'type': 'url', 'path': 'data/tech_docs.json'}, 'so-posts': {'type': 'dir', 'path': 'data/so_posts/'}}}\n",
      "tech-docs\n",
      "{'type': 'url', 'path': 'data/tech_docs.json'}\n",
      "so-posts\n",
      "{'type': 'dir', 'path': 'data/so_posts/'}\n"
     ]
    }
   ],
   "source": [
    "from cval import CVal\n",
    "from data import CvalConfig\n",
    "import yaml\n",
    "\n",
    "cval_config = CvalConfig(\n",
    "    env_file_path=\"./.env\",\n",
    "    model_name=\"gpt-4o-2024-05-13\",\n",
    "    index_name=\"tech-docs\",\n",
    "    temperature=0.0,\n",
    "    top_k=5,\n",
    "    retrieval_type=\"rerank_retriever\",\n",
    "    enable_rag=True,\n",
    "    num_websites=5\n",
    ")\n",
    "\n",
    "\n",
    "with open(\"../indexing.yml\", \"r\", encoding=\"utf-8\") as file:\n",
    "    config = yaml.load(file, Loader=yaml.FullLoader)\n",
    "\n",
    "cval = CVal(cfg=cval_config)\n",
    "\n",
    "cval.ingest(indexing_config=config)"
   ]
  }
 ],
 "metadata": {
  "kernelspec": {
   "display_name": "env",
   "language": "python",
   "name": "python3"
  },
  "language_info": {
   "codemirror_mode": {
    "name": "ipython",
    "version": 3
   },
   "file_extension": ".py",
   "mimetype": "text/x-python",
   "name": "python",
   "nbconvert_exporter": "python",
   "pygments_lexer": "ipython3",
   "version": "3.9.5"
  }
 },
 "nbformat": 4,
 "nbformat_minor": 2
}
