{
 "cells": [
  {
   "cell_type": "code",
   "execution_count": 1,
   "metadata": {},
   "outputs": [
    {
     "name": "stderr",
     "output_type": "stream",
     "text": [
      "/home/ssimon/github/cval/env/lib/python3.10/site-packages/pinecone/data/index.py:1: TqdmWarning: IProgress not found. Please update jupyter and ipywidgets. See https://ipywidgets.readthedocs.io/en/stable/user_install.html\n",
      "  from tqdm.autonotebook import tqdm\n"
     ]
    },
    {
     "data": {
      "text/html": [
       "<pre style=\"white-space:pre;overflow-x:auto;line-height:normal;font-family:Menlo,'DejaVu Sans Mono',consolas,'Courier New',monospace\"><span style=\"color: #7fbfbf; text-decoration-color: #7fbfbf\">[07/02/24 21:35:20] </span><span style=\"color: #000080; text-decoration-color: #000080\">INFO    </span> Ingestion engine initialized.                                          <a href=\"file:///home/ssimon/github/cval/src/ingestion.py\" target=\"_blank\"><span style=\"color: #7f7f7f; text-decoration-color: #7f7f7f\">ingestion.py</span></a><span style=\"color: #7f7f7f; text-decoration-color: #7f7f7f\">:</span><a href=\"file:///home/ssimon/github/cval/src/ingestion.py#39\" target=\"_blank\"><span style=\"color: #7f7f7f; text-decoration-color: #7f7f7f\">39</span></a>\n",
       "</pre>\n"
      ],
      "text/plain": [
       "\u001b[2;36m[07/02/24 21:35:20]\u001b[0m\u001b[2;36m \u001b[0m\u001b[34mINFO    \u001b[0m Ingestion engine initialized.                                          \u001b]8;id=576101;file:///home/ssimon/github/cval/src/ingestion.py\u001b\\\u001b[2mingestion.py\u001b[0m\u001b]8;;\u001b\\\u001b[2m:\u001b[0m\u001b]8;id=490044;file:///home/ssimon/github/cval/src/ingestion.py#39\u001b\\\u001b[2m39\u001b[0m\u001b]8;;\u001b\\\n"
      ]
     },
     "metadata": {},
     "output_type": "display_data"
    },
    {
     "data": {
      "text/html": [
       "<pre style=\"white-space:pre;overflow-x:auto;line-height:normal;font-family:Menlo,'DejaVu Sans Mono',consolas,'Courier New',monospace\"><span style=\"color: #7fbfbf; text-decoration-color: #7fbfbf\">[07/02/24 21:35:21] </span><span style=\"color: #000080; text-decoration-color: #000080\">INFO    </span> Retrieval engine initialized.                                          <a href=\"file:///home/ssimon/github/cval/src/retrieval.py\" target=\"_blank\"><span style=\"color: #7f7f7f; text-decoration-color: #7f7f7f\">retrieval.py</span></a><span style=\"color: #7f7f7f; text-decoration-color: #7f7f7f\">:</span><a href=\"file:///home/ssimon/github/cval/src/retrieval.py#28\" target=\"_blank\"><span style=\"color: #7f7f7f; text-decoration-color: #7f7f7f\">28</span></a>\n",
       "</pre>\n"
      ],
      "text/plain": [
       "\u001b[2;36m[07/02/24 21:35:21]\u001b[0m\u001b[2;36m \u001b[0m\u001b[34mINFO    \u001b[0m Retrieval engine initialized.                                          \u001b]8;id=714887;file:///home/ssimon/github/cval/src/retrieval.py\u001b\\\u001b[2mretrieval.py\u001b[0m\u001b]8;;\u001b\\\u001b[2m:\u001b[0m\u001b]8;id=259740;file:///home/ssimon/github/cval/src/retrieval.py#28\u001b\\\u001b[2m28\u001b[0m\u001b]8;;\u001b\\\n"
      ]
     },
     "metadata": {},
     "output_type": "display_data"
    },
    {
     "data": {
      "text/html": [
       "<pre style=\"white-space:pre;overflow-x:auto;line-height:normal;font-family:Menlo,'DejaVu Sans Mono',consolas,'Courier New',monospace\"><span style=\"color: #7fbfbf; text-decoration-color: #7fbfbf\">                    </span><span style=\"color: #000080; text-decoration-color: #000080\">INFO    </span> Ingestion engine initialized.                                          <a href=\"file:///home/ssimon/github/cval/src/ingestion.py\" target=\"_blank\"><span style=\"color: #7f7f7f; text-decoration-color: #7f7f7f\">ingestion.py</span></a><span style=\"color: #7f7f7f; text-decoration-color: #7f7f7f\">:</span><a href=\"file:///home/ssimon/github/cval/src/ingestion.py#39\" target=\"_blank\"><span style=\"color: #7f7f7f; text-decoration-color: #7f7f7f\">39</span></a>\n",
       "</pre>\n"
      ],
      "text/plain": [
       "\u001b[2;36m                   \u001b[0m\u001b[2;36m \u001b[0m\u001b[34mINFO    \u001b[0m Ingestion engine initialized.                                          \u001b]8;id=897855;file:///home/ssimon/github/cval/src/ingestion.py\u001b\\\u001b[2mingestion.py\u001b[0m\u001b]8;;\u001b\\\u001b[2m:\u001b[0m\u001b]8;id=877356;file:///home/ssimon/github/cval/src/ingestion.py#39\u001b\\\u001b[2m39\u001b[0m\u001b]8;;\u001b\\\n"
      ]
     },
     "metadata": {},
     "output_type": "display_data"
    },
    {
     "data": {
      "text/html": [
       "<pre style=\"white-space:pre;overflow-x:auto;line-height:normal;font-family:Menlo,'DejaVu Sans Mono',consolas,'Courier New',monospace\"><span style=\"color: #7fbfbf; text-decoration-color: #7fbfbf\">                    </span><span style=\"color: #000080; text-decoration-color: #000080\">INFO    </span> GPT <span style=\"font-weight: bold\">(</span>gpt-<span style=\"color: #008080; text-decoration-color: #008080; font-weight: bold\">3.5</span>-turbo-<span style=\"color: #008080; text-decoration-color: #008080; font-weight: bold\">0125</span><span style=\"font-weight: bold\">)</span> generator initialized.                        <a href=\"file:///home/ssimon/github/cval/src/generator.py\" target=\"_blank\"><span style=\"color: #7f7f7f; text-decoration-color: #7f7f7f\">generator.py</span></a><span style=\"color: #7f7f7f; text-decoration-color: #7f7f7f\">:</span><a href=\"file:///home/ssimon/github/cval/src/generator.py#47\" target=\"_blank\"><span style=\"color: #7f7f7f; text-decoration-color: #7f7f7f\">47</span></a>\n",
       "</pre>\n"
      ],
      "text/plain": [
       "\u001b[2;36m                   \u001b[0m\u001b[2;36m \u001b[0m\u001b[34mINFO    \u001b[0m GPT \u001b[1m(\u001b[0mgpt-\u001b[1;36m3.5\u001b[0m-turbo-\u001b[1;36m0125\u001b[0m\u001b[1m)\u001b[0m generator initialized.                        \u001b]8;id=732237;file:///home/ssimon/github/cval/src/generator.py\u001b\\\u001b[2mgenerator.py\u001b[0m\u001b]8;;\u001b\\\u001b[2m:\u001b[0m\u001b]8;id=593402;file:///home/ssimon/github/cval/src/generator.py#47\u001b\\\u001b[2m47\u001b[0m\u001b]8;;\u001b\\\n"
      ]
     },
     "metadata": {},
     "output_type": "display_data"
    },
    {
     "data": {
      "text/html": [
       "<pre style=\"white-space:pre;overflow-x:auto;line-height:normal;font-family:Menlo,'DejaVu Sans Mono',consolas,'Courier New',monospace\"><span style=\"color: #7fbfbf; text-decoration-color: #7fbfbf\">                    </span><span style=\"color: #000080; text-decoration-color: #000080\">INFO    </span> Initialize CfgNet prompt settings.                              <a href=\"file:///home/ssimon/github/cval/src/prompt_settings.py\" target=\"_blank\"><span style=\"color: #7f7f7f; text-decoration-color: #7f7f7f\">prompt_settings.py</span></a><span style=\"color: #7f7f7f; text-decoration-color: #7f7f7f\">:</span><a href=\"file:///home/ssimon/github/cval/src/prompt_settings.py#194\" target=\"_blank\"><span style=\"color: #7f7f7f; text-decoration-color: #7f7f7f\">194</span></a>\n",
       "</pre>\n"
      ],
      "text/plain": [
       "\u001b[2;36m                   \u001b[0m\u001b[2;36m \u001b[0m\u001b[34mINFO    \u001b[0m Initialize CfgNet prompt settings.                              \u001b]8;id=736975;file:///home/ssimon/github/cval/src/prompt_settings.py\u001b\\\u001b[2mprompt_settings.py\u001b[0m\u001b]8;;\u001b\\\u001b[2m:\u001b[0m\u001b]8;id=336603;file:///home/ssimon/github/cval/src/prompt_settings.py#194\u001b\\\u001b[2m194\u001b[0m\u001b]8;;\u001b\\\n"
      ]
     },
     "metadata": {},
     "output_type": "display_data"
    },
    {
     "data": {
      "text/html": [
       "<pre style=\"white-space:pre;overflow-x:auto;line-height:normal;font-family:Menlo,'DejaVu Sans Mono',consolas,'Courier New',monospace\"><span style=\"color: #7fbfbf; text-decoration-color: #7fbfbf\">                    </span><span style=\"color: #000080; text-decoration-color: #000080\">INFO    </span> CVal initialized.                                                          <a href=\"file:///home/ssimon/github/cval/src/cval.py\" target=\"_blank\"><span style=\"color: #7f7f7f; text-decoration-color: #7f7f7f\">cval.py</span></a><span style=\"color: #7f7f7f; text-decoration-color: #7f7f7f\">:</span><a href=\"file:///home/ssimon/github/cval/src/cval.py#111\" target=\"_blank\"><span style=\"color: #7f7f7f; text-decoration-color: #7f7f7f\">111</span></a>\n",
       "</pre>\n"
      ],
      "text/plain": [
       "\u001b[2;36m                   \u001b[0m\u001b[2;36m \u001b[0m\u001b[34mINFO    \u001b[0m CVal initialized.                                                          \u001b]8;id=125085;file:///home/ssimon/github/cval/src/cval.py\u001b\\\u001b[2mcval.py\u001b[0m\u001b]8;;\u001b\\\u001b[2m:\u001b[0m\u001b]8;id=173188;file:///home/ssimon/github/cval/src/cval.py#111\u001b\\\u001b[2m111\u001b[0m\u001b]8;;\u001b\\\n"
      ]
     },
     "metadata": {},
     "output_type": "display_data"
    },
    {
     "name": "stdout",
     "output_type": "stream",
     "text": [
      "File:  mall-swarm_dependencies\n"
     ]
    },
    {
     "data": {
      "text/html": [
       "<pre style=\"white-space:pre;overflow-x:auto;line-height:normal;font-family:Menlo,'DejaVu Sans Mono',consolas,'Courier New',monospace\"><span style=\"color: #7fbfbf; text-decoration-color: #7fbfbf\">                    </span><span style=\"color: #000080; text-decoration-color: #000080\">INFO    </span> Scraping web.                                                              <a href=\"file:///home/ssimon/github/cval/src/cval.py\" target=\"_blank\"><span style=\"color: #7f7f7f; text-decoration-color: #7f7f7f\">cval.py</span></a><span style=\"color: #7f7f7f; text-decoration-color: #7f7f7f\">:</span><a href=\"file:///home/ssimon/github/cval/src/cval.py#118\" target=\"_blank\"><span style=\"color: #7f7f7f; text-decoration-color: #7f7f7f\">118</span></a>\n",
       "</pre>\n"
      ],
      "text/plain": [
       "\u001b[2;36m                   \u001b[0m\u001b[2;36m \u001b[0m\u001b[34mINFO    \u001b[0m Scraping web.                                                              \u001b]8;id=882791;file:///home/ssimon/github/cval/src/cval.py\u001b\\\u001b[2mcval.py\u001b[0m\u001b]8;;\u001b\\\u001b[2m:\u001b[0m\u001b]8;id=492323;file:///home/ssimon/github/cval/src/cval.py#118\u001b\\\u001b[2m118\u001b[0m\u001b]8;;\u001b\\\n"
      ]
     },
     "metadata": {},
     "output_type": "display_data"
    },
    {
     "data": {
      "text/html": [
       "<pre style=\"white-space:pre;overflow-x:auto;line-height:normal;font-family:Menlo,'DejaVu Sans Mono',consolas,'Courier New',monospace\"><span style=\"color: #7fbfbf; text-decoration-color: #7fbfbf\">                    </span><span style=\"color: #000080; text-decoration-color: #000080\">INFO    </span> Start scraping <span style=\"color: #008080; text-decoration-color: #008080; font-weight: bold\">5</span> websites.                                            <a href=\"file:///home/ssimon/github/cval/src/ingestion.py\" target=\"_blank\"><span style=\"color: #7f7f7f; text-decoration-color: #7f7f7f\">ingestion.py</span></a><span style=\"color: #7f7f7f; text-decoration-color: #7f7f7f\">:</span><a href=\"file:///home/ssimon/github/cval/src/ingestion.py#138\" target=\"_blank\"><span style=\"color: #7f7f7f; text-decoration-color: #7f7f7f\">138</span></a>\n",
       "</pre>\n"
      ],
      "text/plain": [
       "\u001b[2;36m                   \u001b[0m\u001b[2;36m \u001b[0m\u001b[34mINFO    \u001b[0m Start scraping \u001b[1;36m5\u001b[0m websites.                                            \u001b]8;id=766563;file:///home/ssimon/github/cval/src/ingestion.py\u001b\\\u001b[2mingestion.py\u001b[0m\u001b]8;;\u001b\\\u001b[2m:\u001b[0m\u001b]8;id=263229;file:///home/ssimon/github/cval/src/ingestion.py#138\u001b\\\u001b[2m138\u001b[0m\u001b]8;;\u001b\\\n"
      ]
     },
     "metadata": {},
     "output_type": "display_data"
    },
    {
     "data": {
      "text/html": [
       "<pre style=\"white-space:pre;overflow-x:auto;line-height:normal;font-family:Menlo,'DejaVu Sans Mono',consolas,'Courier New',monospace\"><span style=\"color: #7fbfbf; text-decoration-color: #7fbfbf\">[07/02/24 21:35:25] </span><span style=\"color: #000080; text-decoration-color: #000080\">INFO    </span> Indexing data into <span style=\"color: #008000; text-decoration-color: #008000\">'web-search'</span>.                                           <a href=\"file:///home/ssimon/github/cval/src/cval.py\" target=\"_blank\"><span style=\"color: #7f7f7f; text-decoration-color: #7f7f7f\">cval.py</span></a><span style=\"color: #7f7f7f; text-decoration-color: #7f7f7f\">:</span><a href=\"file:///home/ssimon/github/cval/src/cval.py#126\" target=\"_blank\"><span style=\"color: #7f7f7f; text-decoration-color: #7f7f7f\">126</span></a>\n",
       "</pre>\n"
      ],
      "text/plain": [
       "\u001b[2;36m[07/02/24 21:35:25]\u001b[0m\u001b[2;36m \u001b[0m\u001b[34mINFO    \u001b[0m Indexing data into \u001b[32m'web-search'\u001b[0m.                                           \u001b]8;id=302157;file:///home/ssimon/github/cval/src/cval.py\u001b\\\u001b[2mcval.py\u001b[0m\u001b]8;;\u001b\\\u001b[2m:\u001b[0m\u001b]8;id=745951;file:///home/ssimon/github/cval/src/cval.py#126\u001b\\\u001b[2m126\u001b[0m\u001b]8;;\u001b\\\n"
      ]
     },
     "metadata": {},
     "output_type": "display_data"
    },
    {
     "data": {
      "text/html": [
       "<pre style=\"white-space:pre;overflow-x:auto;line-height:normal;font-family:Menlo,'DejaVu Sans Mono',consolas,'Courier New',monospace\"><span style=\"color: #7fbfbf; text-decoration-color: #7fbfbf\">                    </span><span style=\"color: #000080; text-decoration-color: #000080\">INFO    </span> Create Index web-search.                                               <a href=\"file:///home/ssimon/github/cval/src/ingestion.py\" target=\"_blank\"><span style=\"color: #7f7f7f; text-decoration-color: #7f7f7f\">ingestion.py</span></a><span style=\"color: #7f7f7f; text-decoration-color: #7f7f7f\">:</span><a href=\"file:///home/ssimon/github/cval/src/ingestion.py#50\" target=\"_blank\"><span style=\"color: #7f7f7f; text-decoration-color: #7f7f7f\">50</span></a>\n",
       "</pre>\n"
      ],
      "text/plain": [
       "\u001b[2;36m                   \u001b[0m\u001b[2;36m \u001b[0m\u001b[34mINFO    \u001b[0m Create Index web-search.                                               \u001b]8;id=78234;file:///home/ssimon/github/cval/src/ingestion.py\u001b\\\u001b[2mingestion.py\u001b[0m\u001b]8;;\u001b\\\u001b[2m:\u001b[0m\u001b]8;id=239018;file:///home/ssimon/github/cval/src/ingestion.py#50\u001b\\\u001b[2m50\u001b[0m\u001b]8;;\u001b\\\n"
      ]
     },
     "metadata": {},
     "output_type": "display_data"
    },
    {
     "ename": "KeyboardInterrupt",
     "evalue": "",
     "output_type": "error",
     "traceback": [
      "\u001b[0;31m---------------------------------------------------------------------------\u001b[0m",
      "\u001b[0;31mKeyboardInterrupt\u001b[0m                         Traceback (most recent call last)",
      "Cell \u001b[0;32mIn[1], line 40\u001b[0m\n\u001b[1;32m     25\u001b[0m \u001b[38;5;28;01mfor\u001b[39;00m x \u001b[38;5;129;01min\u001b[39;00m df\u001b[38;5;241m.\u001b[39mto_dict(\u001b[38;5;124m\"\u001b[39m\u001b[38;5;124mrecords\u001b[39m\u001b[38;5;124m\"\u001b[39m):\n\u001b[1;32m     26\u001b[0m     dependency \u001b[38;5;241m=\u001b[39m Dependency(\n\u001b[1;32m     27\u001b[0m         project\u001b[38;5;241m=\u001b[39mx[\u001b[38;5;124m\"\u001b[39m\u001b[38;5;124mproject\u001b[39m\u001b[38;5;124m\"\u001b[39m],\n\u001b[1;32m     28\u001b[0m         option_name\u001b[38;5;241m=\u001b[39mx[\u001b[38;5;124m\"\u001b[39m\u001b[38;5;124moption_name\u001b[39m\u001b[38;5;124m\"\u001b[39m],\n\u001b[0;32m   (...)\u001b[0m\n\u001b[1;32m     37\u001b[0m         dependent_option_technology\u001b[38;5;241m=\u001b[39mx[\u001b[38;5;124m\"\u001b[39m\u001b[38;5;124mdependent_option_technology\u001b[39m\u001b[38;5;124m\"\u001b[39m]\n\u001b[1;32m     38\u001b[0m     )\n\u001b[0;32m---> 40\u001b[0m     \u001b[43mcval\u001b[49m\u001b[38;5;241;43m.\u001b[39;49m\u001b[43mscrape\u001b[49m\u001b[43m(\u001b[49m\u001b[43mdependency\u001b[49m\u001b[38;5;241;43m=\u001b[39;49m\u001b[43mdependency\u001b[49m\u001b[43m)\u001b[49m\n\u001b[1;32m     42\u001b[0m \u001b[38;5;28mprint\u001b[39m(\u001b[38;5;124m\"\u001b[39m\u001b[38;5;124mDone with: \u001b[39m\u001b[38;5;124m\"\u001b[39m, file_path)\n",
      "File \u001b[0;32m~/github/cval/src/cval.py:127\u001b[0m, in \u001b[0;36mCVal.scrape\u001b[0;34m(self, dependency)\u001b[0m\n\u001b[1;32m    119\u001b[0m web_docs \u001b[38;5;241m=\u001b[39m \u001b[38;5;28mself\u001b[39m\u001b[38;5;241m.\u001b[39mingestion_engine\u001b[38;5;241m.\u001b[39mdocs_from_web(\n\u001b[1;32m    120\u001b[0m     query_str\u001b[38;5;241m=\u001b[39m\u001b[38;5;28mself\u001b[39m\u001b[38;5;241m.\u001b[39mprompt_settings\u001b[38;5;241m.\u001b[39mget_retrieval_prompt(\n\u001b[1;32m    121\u001b[0m         dependency\u001b[38;5;241m=\u001b[39mdependency\n\u001b[1;32m    122\u001b[0m     ),\n\u001b[1;32m    123\u001b[0m     num_websites\u001b[38;5;241m=\u001b[39m\u001b[38;5;28mself\u001b[39m\u001b[38;5;241m.\u001b[39mconfig[\u001b[38;5;124m\"\u001b[39m\u001b[38;5;124mnum_websites\u001b[39m\u001b[38;5;124m\"\u001b[39m]\n\u001b[1;32m    124\u001b[0m )\n\u001b[1;32m    126\u001b[0m logging\u001b[38;5;241m.\u001b[39minfo(\u001b[38;5;124mf\u001b[39m\u001b[38;5;124m\"\u001b[39m\u001b[38;5;124mIndexing data into \u001b[39m\u001b[38;5;124m'\u001b[39m\u001b[38;5;124mweb-search\u001b[39m\u001b[38;5;124m'\u001b[39m\u001b[38;5;124m.\u001b[39m\u001b[38;5;124m\"\u001b[39m)\n\u001b[0;32m--> 127\u001b[0m \u001b[38;5;28;43mself\u001b[39;49m\u001b[38;5;241;43m.\u001b[39;49m\u001b[43mingestion_engine\u001b[49m\u001b[38;5;241;43m.\u001b[39;49m\u001b[43mindex_documents\u001b[49m\u001b[43m(\u001b[49m\n\u001b[1;32m    128\u001b[0m \u001b[43m    \u001b[49m\u001b[43mindex_name\u001b[49m\u001b[38;5;241;43m=\u001b[39;49m\u001b[38;5;124;43m\"\u001b[39;49m\u001b[38;5;124;43mweb-search\u001b[39;49m\u001b[38;5;124;43m\"\u001b[39;49m\u001b[43m,\u001b[49m\n\u001b[1;32m    129\u001b[0m \u001b[43m    \u001b[49m\u001b[43mdocuments\u001b[49m\u001b[38;5;241;43m=\u001b[39;49m\u001b[43mweb_docs\u001b[49m\u001b[43m,\u001b[49m\n\u001b[1;32m    130\u001b[0m \u001b[43m    \u001b[49m\u001b[43mdelete_index\u001b[49m\u001b[38;5;241;43m=\u001b[39;49m\u001b[38;5;28;43;01mFalse\u001b[39;49;00m\n\u001b[1;32m    131\u001b[0m \u001b[43m\u001b[49m\u001b[43m)\u001b[49m\n",
      "File \u001b[0;32m~/github/cval/src/ingestion.py:252\u001b[0m, in \u001b[0;36mIngestionEngine.index_documents\u001b[0;34m(self, index_name, documents, delete_index)\u001b[0m\n\u001b[1;32m    249\u001b[0m         logging\u001b[38;5;241m.\u001b[39minfo(\u001b[38;5;124mf\u001b[39m\u001b[38;5;124m\"\u001b[39m\u001b[38;5;124mDelete index \u001b[39m\u001b[38;5;132;01m{\u001b[39;00mindex_name\u001b[38;5;132;01m}\u001b[39;00m\u001b[38;5;124m\"\u001b[39m)\n\u001b[1;32m    251\u001b[0m \u001b[38;5;66;03m# create pinecone vector store\u001b[39;00m\n\u001b[0;32m--> 252\u001b[0m vector_store \u001b[38;5;241m=\u001b[39m \u001b[38;5;28;43mself\u001b[39;49m\u001b[38;5;241;43m.\u001b[39;49m\u001b[43m_get_vector_store\u001b[49m\u001b[43m(\u001b[49m\u001b[43mindex_name\u001b[49m\u001b[38;5;241;43m=\u001b[39;49m\u001b[43mindex_name\u001b[49m\u001b[43m)\u001b[49m\n\u001b[1;32m    254\u001b[0m \u001b[38;5;66;03m# create node splitting parser\u001b[39;00m\n\u001b[1;32m    255\u001b[0m node_parser \u001b[38;5;241m=\u001b[39m \u001b[38;5;28mself\u001b[39m\u001b[38;5;241m.\u001b[39m_create_node_parser()\n",
      "File \u001b[0;32m~/github/cval/src/ingestion.py:51\u001b[0m, in \u001b[0;36mIngestionEngine._get_vector_store\u001b[0;34m(self, index_name)\u001b[0m\n\u001b[1;32m     49\u001b[0m \u001b[38;5;28;01mif\u001b[39;00m index_name \u001b[38;5;129;01mnot\u001b[39;00m \u001b[38;5;129;01min\u001b[39;00m \u001b[38;5;28mself\u001b[39m\u001b[38;5;241m.\u001b[39m_pinecone_client\u001b[38;5;241m.\u001b[39mlist_indexes()\u001b[38;5;241m.\u001b[39mnames():\n\u001b[1;32m     50\u001b[0m     logging\u001b[38;5;241m.\u001b[39minfo(\u001b[38;5;124mf\u001b[39m\u001b[38;5;124m\"\u001b[39m\u001b[38;5;124mCreate Index \u001b[39m\u001b[38;5;132;01m{\u001b[39;00mindex_name\u001b[38;5;132;01m}\u001b[39;00m\u001b[38;5;124m.\u001b[39m\u001b[38;5;124m\"\u001b[39m)\n\u001b[0;32m---> 51\u001b[0m     \u001b[38;5;28;43mself\u001b[39;49m\u001b[38;5;241;43m.\u001b[39;49m\u001b[43m_pinecone_client\u001b[49m\u001b[38;5;241;43m.\u001b[39;49m\u001b[43mcreate_index\u001b[49m\u001b[43m(\u001b[49m\n\u001b[1;32m     52\u001b[0m \u001b[43m        \u001b[49m\u001b[43mname\u001b[49m\u001b[38;5;241;43m=\u001b[39;49m\u001b[43mindex_name\u001b[49m\u001b[43m,\u001b[49m\n\u001b[1;32m     53\u001b[0m \u001b[43m        \u001b[49m\u001b[43mdimension\u001b[49m\u001b[38;5;241;43m=\u001b[39;49m\u001b[38;5;241;43m1536\u001b[39;49m\u001b[43m,\u001b[49m\n\u001b[1;32m     54\u001b[0m \u001b[43m        \u001b[49m\u001b[43mmetric\u001b[49m\u001b[38;5;241;43m=\u001b[39;49m\u001b[38;5;124;43m\"\u001b[39;49m\u001b[38;5;124;43mdotproduct\u001b[39;49m\u001b[38;5;124;43m\"\u001b[39;49m\u001b[43m,\u001b[49m\n\u001b[1;32m     55\u001b[0m \u001b[43m        \u001b[49m\u001b[43mspec\u001b[49m\u001b[38;5;241;43m=\u001b[39;49m\u001b[43mServerlessSpec\u001b[49m\u001b[43m(\u001b[49m\n\u001b[1;32m     56\u001b[0m \u001b[43m            \u001b[49m\u001b[43mcloud\u001b[49m\u001b[38;5;241;43m=\u001b[39;49m\u001b[38;5;124;43m\"\u001b[39;49m\u001b[38;5;124;43maws\u001b[39;49m\u001b[38;5;124;43m\"\u001b[39;49m\u001b[43m,\u001b[49m\n\u001b[1;32m     57\u001b[0m \u001b[43m            \u001b[49m\u001b[43mregion\u001b[49m\u001b[38;5;241;43m=\u001b[39;49m\u001b[38;5;124;43m\"\u001b[39;49m\u001b[38;5;124;43mus-east-1\u001b[39;49m\u001b[38;5;124;43m\"\u001b[39;49m\n\u001b[1;32m     58\u001b[0m \u001b[43m        \u001b[49m\u001b[43m)\u001b[49m\n\u001b[1;32m     59\u001b[0m \u001b[43m    \u001b[49m\u001b[43m)\u001b[49m\n\u001b[1;32m     61\u001b[0m index \u001b[38;5;241m=\u001b[39m \u001b[38;5;28mself\u001b[39m\u001b[38;5;241m.\u001b[39m_pinecone_client\u001b[38;5;241m.\u001b[39mIndex(index_name)\n\u001b[1;32m     62\u001b[0m vector_store \u001b[38;5;241m=\u001b[39m PineconeVectorStore(\n\u001b[1;32m     63\u001b[0m     pinecone_index\u001b[38;5;241m=\u001b[39mindex,\n\u001b[1;32m     64\u001b[0m     add_sparse_vector\u001b[38;5;241m=\u001b[39m\u001b[38;5;28;01mTrue\u001b[39;00m\n\u001b[1;32m     65\u001b[0m )\n",
      "File \u001b[0;32m~/github/cval/env/lib/python3.10/site-packages/pinecone/control/pinecone.py:294\u001b[0m, in \u001b[0;36mPinecone.create_index\u001b[0;34m(self, name, dimension, spec, metric, timeout)\u001b[0m\n\u001b[1;32m    292\u001b[0m \u001b[38;5;28;01mif\u001b[39;00m timeout \u001b[38;5;129;01mis\u001b[39;00m \u001b[38;5;28;01mNone\u001b[39;00m:\n\u001b[1;32m    293\u001b[0m     \u001b[38;5;28;01mwhile\u001b[39;00m \u001b[38;5;129;01mnot\u001b[39;00m is_ready():\n\u001b[0;32m--> 294\u001b[0m         \u001b[43mtime\u001b[49m\u001b[38;5;241;43m.\u001b[39;49m\u001b[43msleep\u001b[49m\u001b[43m(\u001b[49m\u001b[38;5;241;43m5\u001b[39;49m\u001b[43m)\u001b[49m\n\u001b[1;32m    295\u001b[0m \u001b[38;5;28;01melse\u001b[39;00m:\n\u001b[1;32m    296\u001b[0m     \u001b[38;5;28;01mwhile\u001b[39;00m (\u001b[38;5;129;01mnot\u001b[39;00m is_ready()) \u001b[38;5;129;01mand\u001b[39;00m timeout \u001b[38;5;241m>\u001b[39m\u001b[38;5;241m=\u001b[39m \u001b[38;5;241m0\u001b[39m:\n",
      "\u001b[0;31mKeyboardInterrupt\u001b[0m: "
     ]
    }
   ],
   "source": [
    "from cval import CVal\n",
    "from data import Dependency\n",
    "import pandas as pd\n",
    "import glob\n",
    "\n",
    "\n",
    "CONFIG_FILE = \"../config.toml\"\n",
    "ENV_FILE = \"../.env\"\n",
    "EVAL_DATA_DIR = \"../data/evaluation/data\"\n",
    "\n",
    "\n",
    "cval = CVal.init(\n",
    "    config_file=CONFIG_FILE,\n",
    "    env_file=ENV_FILE\n",
    ")\n",
    "\n",
    "for file_path in glob.glob(EVAL_DATA_DIR + \"/**\"):   \n",
    "\n",
    "    file_name = file_path.split(\"/\")[-1].split(\".\")[0]\n",
    "\n",
    "    print(\"File: \", file_name)\n",
    "\n",
    "    df = pd.read_csv(file_path)\n",
    "\n",
    "    for x in df.to_dict(\"records\"):\n",
    "        dependency = Dependency(\n",
    "            project=x[\"project\"],\n",
    "            option_name=x[\"option_name\"],\n",
    "            option_value=x[\"option_value\"],\n",
    "            option_type=x[\"option_type\"].split(\".\")[-1],\n",
    "            option_file=x[\"option_file\"],\n",
    "            option_technology=x[\"option_technology\"],\n",
    "            dependent_option_name=x[\"dependent_option_name\"],\n",
    "            dependent_option_value=x[\"dependent_option_value\"],\n",
    "            dependent_option_type=x[\"dependent_option_type\"].split(\".\")[-1],\n",
    "            dependent_option_file=x[\"dependent_option_file\"],\n",
    "            dependent_option_technology=x[\"dependent_option_technology\"]\n",
    "        )\n",
    "\n",
    "        cval.scrape(dependency=dependency)\n",
    "\n",
    "    print(\"Done with: \", file_path)\n",
    "    with open(\"done.txt\", \"w\", encoding=\"utf-t\") as file:\n",
    "        file.write(f\"{file_path} done.\")\n"
   ]
  }
 ],
 "metadata": {
  "kernelspec": {
   "display_name": "env",
   "language": "python",
   "name": "python3"
  },
  "language_info": {
   "codemirror_mode": {
    "name": "ipython",
    "version": 3
   },
   "file_extension": ".py",
   "mimetype": "text/x-python",
   "name": "python",
   "nbconvert_exporter": "python",
   "pygments_lexer": "ipython3",
   "version": "3.10.12"
  }
 },
 "nbformat": 4,
 "nbformat_minor": 2
}
