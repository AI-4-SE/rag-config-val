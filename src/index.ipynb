{
 "cells": [
  {
   "cell_type": "code",
   "execution_count": null,
   "metadata": {},
   "outputs": [],
   "source": [
    "from cval import CVal\n",
    "from data import Dependency\n",
    "\n",
    "config_file = \"../config.toml\"\n",
    "env_file = \"../.env\"\n",
    "\n",
    "cval = CVal.init(\n",
    "    config_file=config_file,\n",
    "    env_file=env_file\n",
    ")\n",
    "\n",
    "dep = Dependency(\n",
    "    project=\"piggymetrics\",\n",
    "    dependency_category=\"value-equality\",\n",
    "    option_name=\"EXPOSE\",\n",
    "    option_value=\"8080\",\n",
    "    option_type=\"PORT\",\n",
    "    option_file=\"Dockerfile\",\n",
    "    option_technology=\"Docker\",\n",
    "    dependent_option_name=\"server.port\",\n",
    "    dependent_option_value=\"8080\",\n",
    "    dependent_option_file=\"application.yml\",\n",
    "    dependent_option_type=\"PORT\",\n",
    "    dependent_option_technology=\"Spring-Boot\"\n",
    ")"
   ]
  }
 ],
 "metadata": {
  "kernelspec": {
   "display_name": "env",
   "language": "python",
   "name": "python3"
  },
  "language_info": {
   "name": "python",
   "version": "3.12.3"
  }
 },
 "nbformat": 4,
 "nbformat_minor": 2
}
