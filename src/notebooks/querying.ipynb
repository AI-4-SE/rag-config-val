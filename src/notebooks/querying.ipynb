{
 "cells": [
  {
   "cell_type": "code",
   "execution_count": 3,
   "metadata": {},
   "outputs": [
    {
     "ename": "ModuleNotFoundError",
     "evalue": "No module named 'llama_index.core.postprocessor.colbert_rerank'",
     "output_type": "error",
     "traceback": [
      "\u001b[0;31m---------------------------------------------------------------------------\u001b[0m",
      "\u001b[0;31mModuleNotFoundError\u001b[0m                       Traceback (most recent call last)",
      "Cell \u001b[0;32mIn[3], line 7\u001b[0m\n\u001b[1;32m      5\u001b[0m \u001b[38;5;28;01mfrom\u001b[39;00m \u001b[38;5;21;01mllama_index\u001b[39;00m\u001b[38;5;21;01m.\u001b[39;00m\u001b[38;5;21;01mcore\u001b[39;00m \u001b[38;5;28;01mimport\u001b[39;00m Settings\n\u001b[1;32m      6\u001b[0m \u001b[38;5;28;01mfrom\u001b[39;00m \u001b[38;5;21;01mllama_index\u001b[39;00m\u001b[38;5;21;01m.\u001b[39;00m\u001b[38;5;21;01membeddings\u001b[39;00m\u001b[38;5;21;01m.\u001b[39;00m\u001b[38;5;21;01mopenai\u001b[39;00m \u001b[38;5;28;01mimport\u001b[39;00m OpenAIEmbedding\n\u001b[0;32m----> 7\u001b[0m \u001b[38;5;28;01mfrom\u001b[39;00m \u001b[38;5;21;01mllama_index\u001b[39;00m\u001b[38;5;21;01m.\u001b[39;00m\u001b[38;5;21;01mcore\u001b[39;00m\u001b[38;5;21;01m.\u001b[39;00m\u001b[38;5;21;01mpostprocessor\u001b[39;00m\u001b[38;5;21;01m.\u001b[39;00m\u001b[38;5;21;01mcolbert_rerank\u001b[39;00m \u001b[38;5;28;01mimport\u001b[39;00m ColbertRerank\n\u001b[1;32m      8\u001b[0m \u001b[38;5;28;01mfrom\u001b[39;00m \u001b[38;5;21;01mdotenv\u001b[39;00m \u001b[38;5;28;01mimport\u001b[39;00m dotenv_values\n\u001b[1;32m     11\u001b[0m config \u001b[38;5;241m=\u001b[39m dotenv_values(\u001b[38;5;124m\"\u001b[39m\u001b[38;5;124m../.env\u001b[39m\u001b[38;5;124m\"\u001b[39m)\n",
      "\u001b[0;31mModuleNotFoundError\u001b[0m: No module named 'llama_index.core.postprocessor.colbert_rerank'"
     ]
    }
   ],
   "source": [
    "from pinecone import Pinecone, ServerlessSpec\n",
    "from llama_index.vector_stores.pinecone import PineconeVectorStore\n",
    "from llama_index.core import VectorStoreIndex\n",
    "from llama_index.core.retrievers import VectorIndexRetriever\n",
    "from llama_index.core import Settings\n",
    "from llama_index.embeddings.openai import OpenAIEmbedding\n",
    "from dotenv import dotenv_values\n",
    "\n",
    "\n",
    "config = dotenv_values(\"../../.env\")\n",
    "pc = Pinecone(api_key=config[\"PINECONE_API_KEY\"])\n",
    "indexes = pc.list_indexes().names()\n",
    "print(indexes)"
   ]
  },
  {
   "cell_type": "code",
   "execution_count": 11,
   "metadata": {},
   "outputs": [
    {
     "name": "stdout",
     "output_type": "stream",
     "text": [
      "Regardless of the EXPOSE settings, you can override them at runtime by using the-p flag. For example$ docker run-p 80:80/tcp-p 80:80/udp ...To set up port redirection on the host system, see using the-P flag. The docker network command supports creating networks for communication amongcontainers without the need to expose or publish specific ports, because the containers connected to the network can communicate with each other over any port.For detailed information, see the overview of this feature.ENVENV <key>=<value> ...The ENV instruction sets the environment variable <key> to the value <value>. This value will be in the environment for all subsequent instructions in the buildstage and can be replaced inline in many as well. The value will be interpreted for other environment variables, so quote characters will be removed if they are notescaped. Like command line parsing, quotes and backslashes can be used to include spaces within values.Example:ENV MY_NAME=\"John Doe\"ENV MY_DOG=Rex\\ The\\ DogENV MY_CAT=fluffyThe ENV instruction allows for multiple <key>=<value> ... variables to be set at one time, and the example below will yield the same net results in the finalimage:ENV MY_NAME=\"John Doe\" MY_DOG=Rex\\ The\\ Dog \\ MY_CAT=fluffyThe environment variables set using ENV will persist when a container is run from the resulting image. You can view the values using docker inspect, andchange them using docker run --env <key>=<value>.A stage inherits any environment variables that were set using ENV by its parent stage or any ancestor. Refer here for more on multi-staged builds.Environment variable persistence can cause unexpected side effects. For example, setting ENV DEBIAN_FRONTEND=noninteractive changes the behaviorof apt-get, and may confuse users of your image.If an environment variable is only needed during build, and not in the final image, consider setting a value for a single command instead:RUN DEBIAN_FRONTEND=noninteractive apt-get update && apt-get install-y ...Or using ARG, which is not persisted in the final image:ARG DEBIAN_FRONTEND=noninteractiveRUN apt-get update && apt-get install-y ...Alternative syntaxThe ENV instruction also allows an alternative syntax ENV <key> <value>, omitting the =. For example:ENV MY_VAR my-valueThis syntax does not allow for multiple environment-variables to be set in a single ENV instruction, and can be confusing. \n",
      "You can specify multiple labels on a single line. Prior to Docker 1.10, this decreased the size of the final image, but thisis no longer the case. You may still choose to specify multiple labels in a single instruction, in one of the following two ways:LABEL multi.label1=\"value1\" multi.label2=\"value2\" other=\"value3\"LABEL multi.label1=\"value1\" \\ multi.label2=\"value2\" \\ other=\"value3\"NoteBe sure to use double quotes and not single quotes. Particularly when you are using string interpolation (e.g. LABEL example=\"foo-$ENV_VAR\"),single quotes will take the string as is without unpacking the variable's value.Labels included in base or parent images (images in the FROM line) are inherited by your image. If a label already exists but with a different value, themost-recently-applied value overrides any previously-set value.To view an image's labels, use the docker image inspect command. You can use the --format option to show just the labels;$ docker image inspect --format='{{json .Config.Labels}}' myimage{ \"com.example.vendor\": \"ACME Incorporated\", \"com.example.label-with-value\": \"foo\", \"version\": \"1.0\", \"description\": \"This text illustrates that label-values can span multiple lines.\", \"multi.label1\": \"value1\", \"multi.label2\": \"value2\", \"other\": \"value3\"}MAINTAINER (deprecated)MAINTAINER <name>The MAINTAINER instruction sets the Author field of the generated images. The LABEL instruction is a much more flexible version of this and you should use itinstead, as it enables setting any metadata you require, and can be viewed easily, for example with docker inspect. To set a label corresponding to theMAINTAINER field you could use:LABEL org.opencontainers.image.authors=\"SvenDowideit@home.org.au\"This will then be visible from docker inspect with the other labels.EXPOSEEXPOSE <port> [<port>/<protocol>...]The EXPOSE instruction informs Docker that the container listens on the specified network ports at runtime. You can specify whether the port listens on TCP orUDP, and the default is TCP if you don't specify a protocol.The EXPOSE instruction doesn't actually publish the port. It functions as a type of documentation between the person who builds the image and the person whoruns the container, about which ports are intended to be published. To publish the port when running the container, use the-p flag on docker run to publishand map one or more ports, or the-P flag to publish all exposed ports and map them to high-order ports.By default, EXPOSE assumes TCP. You can also specify UDP:EXPOSE 80/udpTo expose on both TCP and UDP, include two lines:EXPOSE 80/tcpEXPOSE 80/udpIn this case, if you use-P with docker run, the port will be exposed once for TCP and once for UDP. Remember that-P uses an ephemeral high-orderedhost port on the host, so TCP and UDP doesn't use the same port.\n",
      "CMDSpecify default commands. COPYCopy files and directories. ENTRYPOINTSpecify default executable. ENVSet environment variables. EXPOSEDescribe which ports your application is listening on. FROMCreate a new build stage from a base image. HEALTHCHECKCheck a container's health on startup. LABELAdd metadata to an image. MAINTAINERSpecify the author of an image. ONBUILDSpecify instructions for when the image is used in a build. RUNExecute build commands. SHELLSet the default shell of an image. STOPSIGNALSpecify the system call signal for exiting a container. USERSet user and group ID. \n",
      "root 7 0.0 0.1 15572 2164 ? R+ 08:25 0:00 ps auxAnd you can gracefully request top to shut down using docker stop test.The following Dockerfile shows using the ENTRYPOINT to run Apache in the foreground (i.e., as PID 1):FROM debian:stableRUN apt-get update && apt-get install-y --force-yes apache2EXPOSE 80 443VOLUME [\"/var/www\", \"/var/log/apache2\", \"/etc/apache2\"]ENTRYPOINT [\"/usr/sbin/apache2ctl\", \"-D\", \"FOREGROUND\"]If you need to write a starter script for a single executable, you can ensure that the final executable receives the Unix signals by using exec and gosucommands:#!/usr/bin/env bashset-eif [ \"$1\" = 'postgres' ]; then chown-R postgres \"$PGDATA\" if [ -z \"$(ls-A \"$PGDATA\")\" ]; then gosu postgres initdb fi exec gosu postgres \"$@\"fiexec \"$@\"Lastly, if you need to do some extra cleanup (or communicate with other containers) on shutdown, or are co-ordinating more than one executable, you may needto ensure that the ENTRYPOINT script receives the Unix signals, passes them on, and then does some more work:#!/bin/sh# Note: I've written this using sh so it works in the busybox container too# USE the trap if you need to also do manual cleanup after the service is stopped,# or need to start multiple services in the one containertrap \"echo TRAPed signal\" HUP INT QUIT TERM# start service in background here/usr/sbin/apachectl startecho \"[hit enter key to exit] or run 'docker stop <container>'\"read# stop service and clean up hereecho \"stopping apache\"/usr/sbin/apachectl stopecho \"exited $0\"If you run this image with docker run-it --rm-p 80:80 --name test apache, you can then examine the container's processes with docker exec,or docker top, and then ask the script to stop Apache:$ docker exec-it test ps aux USER PID %CPU %MEM VSZ RSS TTY STAT START TIME COMMAND root 1 0.1 0.0 4448 692 ? Ss+ 00:42 0:00 /bin/sh /run.sh 123 cmd cmd2 root 19 0.0 0.2 71304 4440 ? \n",
      "See Variable substitution.Environment variable substitution use the same value for each variable throughout the entire instruction. Changing the value of a variable only takes effect insubsequent instructions. Consider the following example:ENV abc=helloENV abc=bye def=$abcENV ghi=$abcThe value of def becomes helloThe value of ghi becomes bye.dockerignore fileYou can use .dockerignore file to exclude files and directories from the build context. For more information, see .dockerignore file.Shell and exec formThe RUN, CMD, and ENTRYPOINT instructions all have two possible forms:INSTRUCTION [\"executable\",\"param1\",\"param2\"] (exec form)INSTRUCTION command param1 param2 (shell form)The exec form makes it possible to avoid shell string munging, and to invoke commands using a specific command shell, or any other executable. It uses a JSONarray syntax, where each element in the array is a command, flag, or argument.The shell form is more relaxed, and emphasizes ease of use, flexibility, and readability. The shell form automatically uses a command shell, whereas the execform does not.Exec formThe exec form is parsed as a JSON array, which means that you must use double-quotes (\") around words, not single-quotes (').ENTRYPOINT [\"/bin/bash\", \"-c\", \"echo hello\"]The exec form is best used to specify an ENTRYPOINT instruction, combined with CMD for setting default arguments that can be overridden at runtime. For moreinformation, see ENTRYPOINT.Variable substitutionUsing the exec form doesn't automatically invoke a command shell. This means that normal shell processing, such as variable substitution, doesn't happen. Forexample, RUN [ \"echo\", \"$HOME\" ] won't handle variable substitution for $HOME.If you want shell processing then either use the shell form or execute a shell directly with the exec form, for example: RUN [ \"sh\", \"-c\", \"echo $HOME\" ].When using the exec form and executing a shell directly, as in the case for the shell form, it's the shell that's doing the environment variable substitution, not thebuilder.\n"
     ]
    }
   ],
   "source": [
    "pinecone_index = pc.Index(\"technology-docs\")\n",
    "\n",
    "# global\n",
    "Settings.embed_model = OpenAIEmbedding(api_key=config[\"OPENAI_KEY\"])\n",
    "\n",
    "# Initialize VectorStore\n",
    "vector_store = PineconeVectorStore(pinecone_index=pinecone_index)\n",
    "\n",
    "# Instantiate VectorStoreIndex object from your vector_store object\n",
    "vector_index = VectorStoreIndex.from_vector_store(vector_store=vector_store)\n",
    "\n",
    "# Grab 5 search results\n",
    "retriever = VectorIndexRetriever(index=vector_index, similarity_top_k=5)\n",
    "\n",
    "# Query vector DB\n",
    "answer = retriever.retrieve('EXPOSE instruction Docker')\n",
    "\n",
    "# Inspect results\n",
    "for i in answer:\n",
    "    print(i.get_content())"
   ]
  }
 ],
 "metadata": {
  "kernelspec": {
   "display_name": "env",
   "language": "python",
   "name": "python3"
  },
  "language_info": {
   "codemirror_mode": {
    "name": "ipython",
    "version": 3
   },
   "file_extension": ".py",
   "mimetype": "text/x-python",
   "name": "python",
   "nbconvert_exporter": "python",
   "pygments_lexer": "ipython3",
   "version": "3.9.5"
  }
 },
 "nbformat": 4,
 "nbformat_minor": 2
}
