{
 "cells": [
  {
   "cell_type": "code",
   "execution_count": 17,
   "metadata": {},
   "outputs": [
    {
     "name": "stdout",
     "output_type": "stream",
     "text": [
      "500\n",
      "dict_keys(['content', 'score', 'index', 'id'])\n",
      "362\n",
      "381\n"
     ]
    }
   ],
   "source": [
    "import json\n",
    "\n",
    "data_file = \"../data/evaluation/config2/all_dependencies_web-search.json\"\n",
    "\n",
    "with open(data_file, \"r\", encoding=\"utf-8\") as src:\n",
    "    data = json.load(src)\n",
    "\n",
    "    print(len(data))\n",
    "\n",
    "    print(data[0][\"context\"][0].keys())\n",
    "\n",
    "    for x in data:\n",
    "        context = x[\"context\"]\n",
    "        if len(context) == 0:\n",
    "            print(x[\"index\"])"
   ]
  },
  {
   "cell_type": "code",
   "execution_count": 7,
   "metadata": {},
   "outputs": [
    {
     "name": "stdout",
     "output_type": "stream",
     "text": [
      "\u001b[2;36m[07/14/24 08:49:14]\u001b[0m\u001b[2;36m \u001b[0m\u001b[34mINFO    \u001b[0m Initialize CfgNet prompt     \u001b]8;id=957075;file:///home/ssimon/projects/cval/src/prompt_settings.py\u001b\\\u001b[2mprompt_settings.py\u001b[0m\u001b]8;;\u001b\\\u001b[2m:\u001b[0m\u001b]8;id=893982;file:///home/ssimon/projects/cval/src/prompt_settings.py#192\u001b\\\u001b[2m192\u001b[0m\u001b]8;;\u001b\\\n",
      "\u001b[2;36m                    \u001b[0m         settings.                    \u001b[2m                      \u001b[0m\n",
      "1174923\n"
     ]
    }
   ],
   "source": [
    "import tiktoken\n",
    "import json\n",
    "from prompt_settings import PrompSettingsFactory\n",
    "\n",
    "PRICING = {\n",
    "    'gpt-3.5-turbo-0125': {\n",
    "        'prompt': 0.0005,\n",
    "        'completion': 0.0015,\n",
    "    },\n",
    "        'gpt-4-0125-preview': {\n",
    "        'prompt': 0.01,\n",
    "        'completion': 0.03,\n",
    "    },\n",
    "    'gpt-4o-2024-05-13': {\n",
    "        'prompt': 0.005,\n",
    "        'completion': 0.015,\n",
    "    }\n",
    "}\n",
    "\n",
    "def calculate_cost(input_tokens: int, model_name: str):\n",
    "\n",
    "    try:\n",
    "        model_pricing = PRICING[model_name]\n",
    "    except KeyError:\n",
    "        raise ValueError(\"Invalid model specified\")\n",
    "\n",
    "    costs = input_tokens * model_pricing['prompt'] / 1000\n",
    "\n",
    "    print(f\"Total cost for {model_name}: ${costs:.4f}\\n\")\n",
    "\n",
    "\n",
    "def num_tokens_from_string(string: str, encoding_name: str = \"cl100k_base\") -> int:\n",
    "    \"\"\"Returns the number of tokens in a text string.\"\"\"\n",
    "    encoding = tiktoken.get_encoding(encoding_name)\n",
    "    num_tokens = len(encoding.encode(string))\n",
    "    return num_tokens\n",
    "\n",
    "data_file = \"../data/evaluation/config2/all_dependencies_all.json\"\n",
    "prompt_settings = PrompSettingsFactory().get_prompt_settings(tool_name=\"cfgnet\")\n",
    "\n",
    "\n",
    "with open(data_file, \"r\", encoding=\"utf-8\") as src:\n",
    "    data = json.load(src)\n",
    "\n",
    "\n",
    "tokens = []\n",
    "for entry in data:\n",
    "    system_prompt = entry[\"system_str\"]\n",
    "    user_prompt = prompt_settings.query_prompt.format(\n",
    "        context_str=entry[\"context_str\"],\n",
    "        task_str=entry[\"task_str\"],\n",
    "        format_str=prompt_settings.get_format_prompt()\n",
    "    )\n",
    "\n",
    "    system_tokens = num_tokens_from_string(system_prompt)\n",
    "    user_tokens = num_tokens_from_string(user_prompt)\n",
    "    tokens.append(system_tokens + user_tokens)\n",
    "\n",
    "print(sum(tokens))"
   ]
  }
 ],
 "metadata": {
  "kernelspec": {
   "display_name": "cval_env",
   "language": "python",
   "name": "python3"
  },
  "language_info": {
   "codemirror_mode": {
    "name": "ipython",
    "version": 3
   },
   "file_extension": ".py",
   "mimetype": "text/x-python",
   "name": "python",
   "nbconvert_exporter": "python",
   "pygments_lexer": "ipython3",
   "version": "3.10.12"
  }
 },
 "nbformat": 4,
 "nbformat_minor": 2
}
