{
 "cells": [
  {
   "cell_type": "code",
   "execution_count": null,
   "metadata": {},
   "outputs": [],
   "source": [
    "from util import load_config, set_embedding\n",
    "from dotenv import dotenv_values\n",
    "from ingestion import IngestionEngine\n",
    "import os\n",
    "\n",
    "env_values = dotenv_values(dotenv_path=\"../.env\")\n",
    "config_file = \"../ingestion_config.toml\"\n",
    "config = load_config(config_file=config_file)\n",
    "\n",
    "os.environ[\"PINECONE_API_KEY\"] = env_values[\"PINECONE_API_KEY\"]\n",
    "os.environ[\"GITHUB_TOKEN\"] = env_values[\"GITHUB_TOKEN\"]"
   ]
  },
  {
   "cell_type": "code",
   "execution_count": null,
   "metadata": {},
   "outputs": [],
   "source": [
    "from pinecone import Pinecone\n",
    "from llama_index.core import Settings\n",
    "\n",
    "pinecone_client = Pinecone(api_key=os.getenv(\"PINECONE_API_KEY\"))\n",
    "\n",
    "set_embedding(embed_model_name=config[\"embed_model\"])\n",
    "\n",
    "ingestion_engine = IngestionEngine(\n",
    "    pinecone_client=pinecone_client,\n",
    "    dimension=config[\"dimension\"],\n",
    "    splitting=config[\"splitting\"],\n",
    "    extractors=[]\n",
    ")"
   ]
  },
  {
   "cell_type": "code",
   "execution_count": null,
   "metadata": {},
   "outputs": [],
   "source": [
    "if pinecone_client.list_indexes().names():\n",
    "    print(\"Vector Database is not empty.\")"
   ]
  },
  {
   "cell_type": "code",
   "execution_count": null,
   "metadata": {},
   "outputs": [],
   "source": [
    "print(\"Index data into 'tech-docs'.\")\n",
    "docs = ingestion_engine.docs_from_urls(urls=config[\"urls\"])\n",
    "\n",
    "for d in docs:\n",
    "    d.metadata[\"index_name\"] = \"tech-docs\"\n",
    "\n",
    "ingestion_engine.index_documents(\n",
    "    index_name=\"tech-docs\",\n",
    "    documents=docs,\n",
    "    delete_index=True\n",
    ")"
   ]
  },
  {
   "cell_type": "code",
   "execution_count": null,
   "metadata": {},
   "outputs": [],
   "source": [
    "print(\"Index data into 'so-posts'.\")\n",
    "docs = ingestion_engine.docs_from_dir(data_dir=config[\"data_dir\"])\n",
    "\n",
    "for d in docs:\n",
    "    d.metadata[\"index_name\"] = \"so-posts\"\n",
    "\n",
    "ingestion_engine.index_documents(\n",
    "    index_name=\"so-posts\",\n",
    "    documents=docs,\n",
    "        delete_index=True\n",
    ")"
   ]
  },
  {
   "cell_type": "code",
   "execution_count": null,
   "metadata": {},
   "outputs": [],
   "source": [
    "print(os.getenv(key=\"GITHUB_TOKEN\"))\n",
    "\n",
    "print(\"Index data into 'github'.\")\n",
    "docs = []\n",
    "for project_name in config[\"github\"]:\n",
    "    docs += ingestion_engine.docs_from_github(project_name=project_name)\n",
    "\n",
    "for d in docs:\n",
    "    d.metadata[\"index_name\"] = \"github\"\n",
    "\n",
    "ingestion_engine.index_documents(\n",
    "    index_name=\"github\",\n",
    "    documents=docs,\n",
    "    delete_index=True\n",
    ")"
   ]
  }
 ],
 "metadata": {
  "kernelspec": {
   "display_name": "cval_env",
   "language": "python",
   "name": "python3"
  },
  "language_info": {
   "codemirror_mode": {
    "name": "ipython",
    "version": 3
   },
   "file_extension": ".py",
   "mimetype": "text/x-python",
   "name": "python",
   "nbconvert_exporter": "python",
   "pygments_lexer": "ipython3",
   "version": "3.10.12"
  }
 },
 "nbformat": 4,
 "nbformat_minor": 2
}
