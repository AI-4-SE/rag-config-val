{
 "cells": [
  {
   "cell_type": "code",
   "execution_count": 22,
   "metadata": {},
   "outputs": [],
   "source": [
    "from typing import List\n",
    "from cfgnet.network.network import NetworkConfiguration, Network\n",
    "import random\n",
    "\n",
    "repos = [\n",
    "    \"/home/simisimon/GitHub/cval_evaluation/spring-projects/mall\",\n",
    "    \"/home/simisimon/GitHub/cval_evaluation/spring-projects/apollo\",\n",
    "    \"/home/simisimon/GitHub/cval_evaluation/spring-projects/litemall\",\n",
    "    \"/home/simisimon/GitHub/cval_evaluation/spring-projects/piggymetrics\",\n",
    "    \"/home/simisimon/GitHub/cval_evaluation/spring-projects/spring-boot-admin\",\n",
    "    \"/home/simisimon/GitHub/cval_evaluation/spring-projects/mall-swarm\",\n",
    "    \"/home/simisimon/GitHub/cval_evaluation/spring-projects/Spring-Cloud-Platform\",\n",
    "    \"/home/simisimon/GitHub/cval_evaluation/spring-projects/pig\",\n",
    "    \"/home/simisimon/GitHub/cval_evaluation/spring-projects/jetlinks-community\",\n",
    "    \"/home/simisimon/GitHub/cval_evaluation/spring-projects/music-website\"\n",
    "]\n"
   ]
  },
  {
   "cell_type": "code",
   "execution_count": 23,
   "metadata": {},
   "outputs": [],
   "source": [
    "def get_dependencies(repo_path: str) -> List:\n",
    "    cfg = NetworkConfiguration(\n",
    "        project_root_abs=repo_path,\n",
    "        enable_internal_links=True,\n",
    "        enable_static_blacklist=False,\n",
    "        enable_all_conflicts=True\n",
    "    )\n",
    "\n",
    "    network = Network.init_network(cfg=cfg)\n",
    "\n",
    "    links = list(network.links)\n",
    "\n",
    "    return links\n"
   ]
  },
  {
   "cell_type": "code",
   "execution_count": 24,
   "metadata": {},
   "outputs": [
    {
     "name": "stdout",
     "output_type": "stream",
     "text": [
      "Num links for mall: 1435\n"
     ]
    },
    {
     "name": "stderr",
     "output_type": "stream",
     "text": [
      "WARNING:root:Failed to parse yml file \"deploy/litemall/application.yml\"\" with spring parser due to \"sequence item 0: expected str instance, dict found\"\n",
      "WARNING:root:Failed to parse yml file \"docker/litemall/application.yml\"\" with spring parser due to \"sequence item 0: expected str instance, dict found\"\n"
     ]
    },
    {
     "name": "stdout",
     "output_type": "stream",
     "text": [
      "Num links for apollo: 3584\n",
      "Num links for litemall: 906\n"
     ]
    },
    {
     "name": "stderr",
     "output_type": "stream",
     "text": [
      "WARNING:root:Failed to parse yml file \"spring-boot-admin-samples/spring-boot-admin-sample-servlet-graalvm/src/main/resources/application.yml\"\" with spring parser due to \"sequence item 0: expected str instance, dict found\"\n",
      "WARNING:root:Failed to parse yml file \"spring-boot-admin-samples/spring-boot-admin-sample-servlet/src/main/resources/application.yml\"\" with spring parser due to \"expected a single document in the stream\n",
      "  in \"/home/simisimon/GitHub/cval_evaluation/spring-projects/spring-boot-admin/spring-boot-admin-samples/spring-boot-admin-sample-servlet/src/main/resources/application.yml\", line 2, column 1\n",
      "but found another document\n",
      "  in \"/home/simisimon/GitHub/cval_evaluation/spring-projects/spring-boot-admin/spring-boot-admin-samples/spring-boot-admin-sample-servlet/src/main/resources/application.yml\", line 60, column 1\"\n",
      "WARNING:root:Failed to parse yml file \"spring-boot-admin-samples/spring-boot-admin-sample-zookeeper/src/main/resources/application.yml\"\" with spring parser due to \"expected a single document in the stream\n",
      "  in \"/home/simisimon/GitHub/cval_evaluation/spring-projects/spring-boot-admin/spring-boot-admin-samples/spring-boot-admin-sample-zookeeper/src/main/resources/application.yml\", line 1, column 1\n",
      "but found another document\n",
      "  in \"/home/simisimon/GitHub/cval_evaluation/spring-projects/spring-boot-admin/spring-boot-admin-samples/spring-boot-admin-sample-zookeeper/src/main/resources/application.yml\", line 31, column 1\"\n"
     ]
    },
    {
     "name": "stdout",
     "output_type": "stream",
     "text": [
      "Num links for piggymetrics: 2913\n"
     ]
    },
    {
     "name": "stderr",
     "output_type": "stream",
     "text": [
      "WARNING:root:Failed to parse yml file \"mall-gateway/src/main/resources/application.yml\"\" with spring parser due to \"sequence item 0: expected str instance, dict found\"\n"
     ]
    },
    {
     "name": "stdout",
     "output_type": "stream",
     "text": [
      "Num links for spring-boot-admin: 7612\n",
      "Num links for mall-swarm: 1836\n"
     ]
    },
    {
     "name": "stderr",
     "output_type": "stream",
     "text": [
      "WARNING:root:Failed to parse yml file \"ace-gate/src/main/resources/application.yml\"\" with spring parser due to \"sequence item 0: expected str instance, dict found\"\n",
      "WARNING:root:Empty value in file \"ace-infrastructure/ace-nacos/nacos/conf/application.properties\"\n",
      "WARNING:root:Failed to parse yml file \"pig-auth/src/main/resources/application.yml\"\" with spring parser due to \"while scanning for the next token\n",
      "found character '@' that cannot start any token\n",
      "  in \"/home/simisimon/GitHub/cval_evaluation/spring-projects/pig/pig-auth/src/main/resources/application.yml\", line 6, column 11\"\n",
      "WARNING:root:Failed to parse yml file \"pig-boot/src/main/resources/application.yml\"\" with spring parser due to \"while scanning for the next token\n",
      "found character '@' that cannot start any token\n",
      "  in \"/home/simisimon/GitHub/cval_evaluation/spring-projects/pig/pig-boot/src/main/resources/application.yml\", line 8, column 11\"\n",
      "WARNING:root:Failed to parse yml file \"pig-gateway/src/main/resources/application.yml\"\" with spring parser due to \"while scanning for the next token\n",
      "found character '@' that cannot start any token\n",
      "  in \"/home/simisimon/GitHub/cval_evaluation/spring-projects/pig/pig-gateway/src/main/resources/application.yml\", line 6, column 11\"\n",
      "WARNING:root:Failed to parse yml file \"pig-register/src/main/resources/application.yml\"\" with spring parser due to \"'0'\"\n",
      "WARNING:root:Failed to parse yml file \"pig-upms/pig-upms-biz/src/main/resources/application.yml\"\" with spring parser due to \"while scanning for the next token\n",
      "found character '@' that cannot start any token\n",
      "  in \"/home/simisimon/GitHub/cval_evaluation/spring-projects/pig/pig-upms/pig-upms-biz/src/main/resources/application.yml\", line 6, column 11\"\n",
      "WARNING:root:Failed to parse yml file \"pig-visual/pig-codegen/src/main/resources/application.yml\"\" with spring parser due to \"while scanning for the next token\n",
      "found character '@' that cannot start any token\n",
      "  in \"/home/simisimon/GitHub/cval_evaluation/spring-projects/pig/pig-visual/pig-codegen/src/main/resources/application.yml\", line 6, column 11\"\n",
      "WARNING:root:Failed to parse yml file \"pig-visual/pig-monitor/src/main/resources/application.yml\"\" with spring parser due to \"while scanning for the next token\n",
      "found character '@' that cannot start any token\n",
      "  in \"/home/simisimon/GitHub/cval_evaluation/spring-projects/pig/pig-visual/pig-monitor/src/main/resources/application.yml\", line 6, column 11\"\n",
      "WARNING:root:Failed to parse yml file \"pig-visual/pig-quartz/src/main/resources/application.yml\"\" with spring parser due to \"while scanning for the next token\n",
      "found character '@' that cannot start any token\n",
      "  in \"/home/simisimon/GitHub/cval_evaluation/spring-projects/pig/pig-visual/pig-quartz/src/main/resources/application.yml\", line 6, column 11\"\n"
     ]
    },
    {
     "name": "stdout",
     "output_type": "stream",
     "text": [
      "Num links for Spring-Cloud-Platform: 2248\n"
     ]
    },
    {
     "name": "stderr",
     "output_type": "stream",
     "text": [
      "WARNING:root:Failed to parse yml file \"jetlinks-standalone/src/main/resources/application.yml\"\" with spring parser due to \"Assignment to invalid type for key hswebframework\"\n"
     ]
    },
    {
     "name": "stdout",
     "output_type": "stream",
     "text": [
      "Num links for pig: 6116\n",
      "Num links for jetlinks-community: 9328\n",
      "Num links for music-website: 277\n"
     ]
    }
   ],
   "source": [
    "test_set = []\n",
    "\n",
    "for repo_path in repos:\n",
    "    repo_name = repo_path.split(\"/\")[-1]\n",
    "    links = get_dependencies(repo_path=repo_path)\n",
    "    print(f\"Num links for {repo_name}: {len(links)}\")\n",
    "    random_sampled_links = random.choices(links, k=5)\n",
    "    test_set += random_sampled_links"
   ]
  },
  {
   "cell_type": "markdown",
   "metadata": {},
   "source": []
  },
  {
   "cell_type": "code",
   "execution_count": 25,
   "metadata": {},
   "outputs": [],
   "source": [
    "link_data = []\n",
    "\n",
    "for link in test_set:\n",
    "    link_data.append({\n",
    "        \"link_str\": str(link),\n",
    "        \"project\": str(link).split(\"::::\")[0],\n",
    "        \"option_name\": link.node_a.get_options(),\n",
    "        \"option_value\": link.node_a.name,\n",
    "        \"option_file\": link.artifact_a.name,\n",
    "        \"option_type\": link.node_a.config_type,\n",
    "        \"option_technology\": link.artifact_a.concept_name,\n",
    "        \"dependent_option_name\": link.node_b.get_options(),\n",
    "        \"dependent_option_value\": link.node_b.name,\n",
    "        \"dependent_option_file\": link.artifact_b.name,\n",
    "        \"dependent_option_type\": link.node_b.config_type,\n",
    "        \"dependent_option_technology\": link.artifact_b.concept_name,\n",
    "    })\n"
   ]
  },
  {
   "cell_type": "code",
   "execution_count": 26,
   "metadata": {},
   "outputs": [],
   "source": [
    "import pandas as pd\n",
    "\n",
    "df = pd.DataFrame(link_data)\n",
    "df.to_csv(\"dependencies_with_rules.csv\", index=False)"
   ]
  },
  {
   "cell_type": "code",
   "execution_count": null,
   "metadata": {},
   "outputs": [],
   "source": [
    "from llama_index.core import PromptTemplate\n",
    "\n",
    "TASK_PROMPT = PromptTemplate(\n",
    "    \"Carefully verify whether configuration option {nameA} of type {typeA} with value {valueA} in {fileA} of technology {technologyA} depends on configuration option {nameB} of type {typeB} with value {valueB} in {fileB} of technology {technologyB} or vice versa.\" \n",
    ")\n",
    "\n",
    "SYSTEM_PROMPT = PromptTemplate(\n",
    "    \"You are an expert in validating intra-technology and cross-technology configuration dependencies.\\n\" \n",
    "    \"You will be presented with configuration options found in the software project '{project}'.\\n\" \n",
    "    \"Your task is to determine whether the given configuration options actually depend on each other based on value-equality.\\n\\n\"\n",
    "    \"{definition_str}\"\n",
    ")\n",
    "\n",
    "TASK_PROMPT = PromptTemplate(\n",
    "    \"Carefully verify whether configuration option {nameA} of type {typeA} with value {valueA} in {fileA} of technology {technologyA} depends on configuration option {nameB} of type {typeB} with value {valueB} in {fileB} of technology {technologyB} or vice versa.\" \n",
    ")\n",
    "\n",
    "FORMAT_STR = \"\"\"Respond in a JSON format as shown below:\n",
    "{{\n",
    "  \"rationale\": string, // Provide a concise explanation of whether and why the configuration options depend on each other due to value-equality.\n",
    "  \"uncertainty\": integer, // Rate your certainty of this dependency on a scale from 0 (completely uncertain) to 10 (absolutely certain).\n",
    "  \"isDependency\": boolean // True if a dependency exists, or False otherwise.\n",
    "}}\"\"\"\n",
    "\n",
    "\n",
    "VALUE_EQUALITY_DEFINITION_STR = \"\"\"A value equality dependency specifies that certain configuration options must have identical values in order to function correctly.\n",
    "Inconsistencies in these configuration values can lead to dependency conflicts of varying severity.\n",
    "However, configuration dependencies based on value equality carry the risk of being false positives, as configuration options whose values are equal do not necessarily have to depend on each other.\"\"\"\n",
    "\n",
    "\n",
    "USER_PROMPT = PromptTemplate(\n",
    "    \"{task_str}\\n\\n\"\n",
    "    \"{format_str}\"\n",
    ")\n",
    "\n"
   ]
  },
  {
   "cell_type": "code",
   "execution_count": 6,
   "metadata": {},
   "outputs": [
    {
     "name": "stdout",
     "output_type": "stream",
     "text": [
      "mall::::mall-portal/pom.xml::::project::::dependencies::::dependency_spring-boot-starter-amqp::::groupId::::org.springframework.boot <-> mall::::pom.xml::::project::::dependencies::::dependency_spring-boot-starter-aop::::groupId::::org.springframework.boot;yes;\n",
      "mall::::mall-security/pom.xml::::project::::dependencies::::dependency_spring-boot-starter-security::::groupId::::org.springframework.boot <-> mall::::pom.xml::::project::::dependencies::::dependency_spring-boot-configuration-processor::::groupId::::org.springframework.boot;yes;\n",
      "mall::::mall-admin/src/main/resources/application-dev.yml::::spring.redis.timeout::::300ms <-> mall::::mall-portal/src/main/resources/application-dev.yml::::spring.redis.timeout::::300ms;yes;\n",
      "mall::::mall-mbg/pom.xml::::project::::groupId::::com.macro.mall <-> mall::::mall-security/pom.xml::::project::::parent_mall::::groupId::::com.macro.mall;yes;\n",
      "mall::::document/docker/docker-compose-app.yml::::services::::mall-portal::::volumes::::/etc/localtime:/etc/localtime <-> mall::::document/docker/docker-compose-app.yml::::services::::mall-search::::volumes::::/etc/localtime:/etc/localtime;yes;\n",
      "apollo::::pom.xml::::project::::build::::pluginManagement::::plugins::::plugin_maven-gpg-plugin::::groupId::::org.apache.maven.plugins <-> apollo::::pom.xml::::project::::build::::plugins::::plugin_maven-war-plugin::::groupId::::org.apache.maven.plugins;yes;\n",
      "apollo::::pom.xml::::project::::build::::pluginManagement::::plugins::::plugin_maven-source-plugin::::artifactId::::maven-source-plugin <-> apollo::::pom.xml::::project::::build::::plugins::::plugin_maven-source-plugin::::artifactId::::maven-source-plugin;yes;\n",
      "apollo::::apollo-biz/pom.xml::::project::::parent_apollo::::groupId::::com.ctrip.framework.apollo <-> apollo::::pom.xml::::project::::groupId::::com.ctrip.framework.apollo;yes;\n",
      "apollo::::apollo-biz/src/test/resources/application.properties::::spring.datasource.url::::jdbc:h2:mem:~/apolloconfigdb;mode=mysql;DB_CLOSE_ON_EXIT=FALSE;DB_CLOSE_DELAY=-1;BUILTIN_ALIAS_OVERRIDE=TRUE;DATABASE_TO_UPPER=FALSE <-> apollo::::apollo-configservice/src/test/resources/application.properties::::spring.datasource.url::::jdbc:h2:mem:~/apolloconfigdb;mode=mysql;DB_CLOSE_ON_EXIT=FALSE;DB_CLOSE_DELAY=-1;BUILTIN_ALIAS_OVERRIDE=TRUE;DATABASE_TO_UPPER=FALSE;yes;\n",
      "apollo::::pom.xml::::project::::dependencyManagement::::dependencies::::dependency_apollo-audit-spring-boot-starter::::groupId::::com.ctrip.framework.apollo <-> apollo::::pom.xml::::project::::dependencyManagement::::dependencies::::dependency_apollo-buildtools::::groupId::::com.ctrip.framework.apollo;yes;\n",
      "litemall::::litemall-admin-api/pom.xml::::project::::parent_litemall::::version::::version:0.1.0 <-> litemall::::litemall-wx-api/pom.xml::::project::::parent_litemall::::version::::version:0.1.0;yes;\n",
      "litemall::::litemall-all-war/src/main/resources/application.yml::::spring.profiles.active::::db core admin wx <-> litemall::::litemall-all/src/main/resources/application.yml::::spring.profiles.active::::db  core  admin  wx;yes;\n",
      "litemall::::litemall-all/pom.xml::::project::::build::::plugins::::plugin_maven-resources-plugin::::executions::::execution_copy-resources-vue::::phase::::validate <-> litemall::::litemall-all/pom.xml::::project::::build::::plugins::::plugin_maven-resources-plugin::::executions::::execution_copy-resources::::phase::::validate;no;\n",
      "litemall::::litemall-core/pom.xml::::project::::dependencies::::dependency_spring-boot-starter-json::::groupId::::org.springframework.boot <-> litemall::::litemall-wx-api/pom.xml::::project::::build::::plugins::::plugin_spring-boot-maven-plugin::::groupId::::org.springframework.boot;yes;\n",
      "litemall::::litemall-db/pom.xml::::project::::build::::plugins::::plugin_mybatis-generator-maven-plugin::::dependencies::::dependency_mysql-connector-java::::artifactId::::mysql-connector-java <-> litemall::::pom.xml::::project::::dependencyManagement::::dependencies::::dependency_mysql-connector-java::::artifactId::::mysql-connector-java;unsure;\n",
      "piggymetrics::::notification-service/pom.xml::::project::::dependencies::::dependency_spring-boot-starter-data-mongodb::::groupId::::org.springframework.boot <-> piggymetrics::::registry/pom.xml::::project::::dependencies::::dependency_spring-boot-starter-test::::groupId::::org.springframework.boot;yes;\n",
      "piggymetrics::::notification-service/pom.xml::::project::::dependencies::::dependency_spring-cloud-starter-config::::groupId::::org.springframework.cloud <-> piggymetrics::::notification-service/pom.xml::::project::::dependencies::::dependency_spring-cloud-starter-netflix-eureka-client::::groupId::::org.springframework.cloud;yes;\n",
      "piggymetrics::::registry/pom.xml::::project::::dependencies::::dependency_spring-cloud-starter-config::::groupId::::org.springframework.cloud <-> piggymetrics::::statistics-service/pom.xml::::project::::dependencies::::dependency_spring-cloud-starter-openfeign::::groupId::::org.springframework.cloud;yes;\n",
      "piggymetrics::::auth-service/pom.xml::::project::::version::::version:1.0-SNAPSHOT <-> piggymetrics::::gateway/pom.xml::::project::::parent_piggymetrics::::version::::version:1.0-SNAPSHOT;yes;\n",
      "piggymetrics::::auth-service/pom.xml::::project::::dependencies::::dependency_spring-cloud-starter-sleuth::::groupId::::org.springframework.cloud <-> piggymetrics::::monitoring/pom.xml::::project::::dependencies::::dependency_spring-cloud-starter-netflix-hystrix-dashboard::::groupId::::org.springframework.cloud;yes;\n",
      "spring-boot-admin::::spring-boot-admin-dependencies/pom.xml::::project::::dependencyManagement::::dependencies::::dependency_spring-boot-admin-server::::groupId::::de.codecentric <-> spring-boot-admin::::spring-boot-admin-samples/spring-boot-admin-sample-zookeeper/pom.xml::::project::::dependencies::::dependency_spring-boot-admin-starter-server::::groupId::::de.codecentric;yes;\n",
      "spring-boot-admin::::pom.xml::::project::::profiles::::profile_include-cloud::::activation::::property::::name::::!excludeSpringCloud <-> spring-boot-admin::::spring-boot-admin-samples/pom.xml::::project::::profiles::::profile_include-cloud::::activation::::property::::name::::!excludeSpringCloud;yes;\n",
      "spring-boot-admin::::spring-boot-admin-samples/spring-boot-admin-sample-war/pom.xml::::project::::dependencies::::dependency_spring-boot-starter-tomcat::::groupId::::org.springframework.boot <-> spring-boot-admin::::spring-boot-admin-server-cloud/pom.xml::::project::::dependencies::::dependency_spring-cloud-starter-kubernetes-fabric8::::exclusions::::exclusion_spring-boot-starter-web::::groupId::::org.springframework.boot;unsure;\n",
      "spring-boot-admin::::spring-boot-admin-samples/spring-boot-admin-sample-servlet-graalvm/pom.xml::::project::::profiles::::profile_nativeTest::::build::::plugins::::plugin_spring-boot-maven-plugin::::groupId::::org.springframework.boot <-> spring-boot-admin::::spring-boot-admin-server/pom.xml::::project::::dependencies::::dependency_spring-boot-starter-security::::groupId::::org.springframework.boot;unsure;\n",
      "spring-boot-admin::::spring-boot-admin-samples/spring-boot-admin-sample-servlet-graalvm/pom.xml::::project::::profiles::::profile_nativeTest::::build::::plugins::::plugin_spring-boot-maven-plugin::::groupId::::org.springframework.boot <-> spring-boot-admin::::spring-boot-admin-samples/spring-boot-admin-sample-servlet/pom.xml::::project::::dependencies::::dependency_spring-boot-starter-web::::groupId::::org.springframework.boot;unsure;\n",
      "mall-swarm::::pom.xml::::project::::dependencyManagement::::dependencies::::dependency_spring-cloud-alibaba-dependencies::::type::::pom <-> mall-swarm::::pom.xml::::project::::packaging::::pom;no;\n",
      "mall-swarm::::mall-search/pom.xml::::project::::build::::plugins::::plugin_spring-boot-maven-plugin::::groupId::::org.springframework.boot <-> mall-swarm::::pom.xml::::project::::dependencies::::dependency_spring-boot-configuration-processor::::groupId::::org.springframework.boot;unsure;\n",
      "mall-swarm::::mall-admin/pom.xml::::project::::dependencies::::dependency_spring-cloud-starter-openfeign::::groupId::::org.springframework.cloud <-> mall-swarm::::mall-gateway/pom.xml::::project::::dependencies::::dependency_spring-cloud-starter-gateway::::groupId::::org.springframework.cloud;yes;\n",
      "mall-swarm::::mall-admin/src/main/resources/application.yml::::spring.datasource.url::::jdbc:mysql://localhost:3306/mall?useUnicode=true&characterEncoding=utf-8&serverTimezone=Asia/Shanghai&useSSL=false <-> mall-swarm::::mall-demo/src/main/resources/application.yml::::spring.datasource.url::::jdbc:mysql://localhost:3306/mall?useUnicode=true&characterEncoding=utf-8&serverTimezone=Asia/Shanghai&useSSL=false;yes;\n",
      "mall-swarm::::mall-portal/pom.xml::::project::::dependencies::::dependency_spring-boot-starter-amqp::::groupId::::org.springframework.boot <-> mall-swarm::::mall-portal/pom.xml::::project::::dependencies::::dependency_spring-boot-starter-data-redis::::groupId::::org.springframework.boot;yes;\n",
      "Spring-Cloud-Platform::::ace-modules/ace-generator/pom.xml::::project::::dependencies::::dependency_spring-boot-starter-web::::groupId::::org.springframework.boot <-> Spring-Cloud-Platform::::ace-modules/ace-sample/pom.xml::::project::::dependencies::::dependency_spring-boot-starter-jdbc::::groupId::::org.springframework.boot;yes;\n",
      "Spring-Cloud-Platform::::ace-modules/ace-admin/pom.xml::::project::::dependencies::::dependency_ace-api::::artifactId::::ace-api <-> Spring-Cloud-Platform::::pom.xml::::project::::modules::::module::::ace-api;unsure;\n",
      "Spring-Cloud-Platform::::ace-modules/ace-admin/pom.xml::::project::::build::::plugins::::plugin_maven-compiler-plugin::::artifactId::::maven-compiler-plugin <-> Spring-Cloud-Platform::::ace-modules/ace-generator/pom.xml::::project::::build::::plugins::::plugin_maven-compiler-plugin::::artifactId::::maven-compiler-plugin;yes;\n",
      "Spring-Cloud-Platform::::ace-modules/ace-tool/pom.xml::::project::::dependencies::::dependency_lucene-analyzers-common::::groupId::::org.apache.lucene <-> Spring-Cloud-Platform::::ace-modules/ace-tool/pom.xml::::project::::dependencies::::dependency_lucene-core::::groupId::::org.apache.lucene;yes;\n",
      "Spring-Cloud-Platform::::ace-gate/pom.xml::::project::::dependencies::::dependency_spring-boot-starter-test::::artifactId::::spring-boot-starter-test <-> Spring-Cloud-Platform::::ace-modules/ace-admin/pom.xml::::project::::dependencies::::dependency_spring-boot-starter-test::::artifactId::::spring-boot-starter-test;yes;\n",
      "pig::::pig-common/pig-common-security/pom.xml::::project::::dependencies::::dependency_pig-upms-api::::groupId::::com.pig4cloud <-> pig::::pig-upms/pig-upms-biz/pom.xml::::project::::dependencies::::dependency_pig-common-log::::groupId::::com.pig4cloud;yes;\n",
      "pig::::pig-common/pig-common-seata/pom.xml::::project::::parent_pig-common::::groupId::::com.pig4cloud <-> pig::::pig-visual/pig-quartz/pom.xml::::project::::parent_pig-visual::::groupId::::com.pig4cloud;yes;\n",
      "pig::::pig-common/pig-common-bom/pom.xml::::project::::dependencyManagement::::dependencies::::dependency_pig-common-log::::groupId::::com.pig4cloud <-> pig::::pig-upms/pig-upms-api/pom.xml::::project::::parent_pig-upms::::groupId::::com.pig4cloud;yes;\n",
      "pig::::pig-common/pig-common-swagger/pom.xml::::project::::dependencies::::dependency_spring-cloud-gateway-server::::groupId::::org.springframework.cloud <-> pig::::pig-gateway/pom.xml::::project::::dependencies::::dependency_spring-cloud-starter-loadbalancer::::groupId::::org.springframework.cloud;yes;\n",
      "pig::::pig-common/pig-common-swagger/pom.xml::::project::::parent_pig-common::::groupId::::com.pig4cloud <-> pig::::pig-upms/pig-upms-biz/pom.xml::::project::::dependencies::::dependency_pig-common-feign::::groupId::::com.pig4cloud;yes;\n",
      "jetlinks-community::::jetlinks-components/notify-component/notify-webhook/pom.xml::::project::::modelVersion::::modelVersion:4.0.0 <-> jetlinks-community::::jetlinks-components/pom.xml::::project::::modelVersion::::modelVersion:4.0.0;yes;\n",
      "jetlinks-community::::jetlinks-components/notify-component/notify-webhook/pom.xml::::project::::parent_notify-component::::groupId::::org.jetlinks.community <-> jetlinks-community::::jetlinks-manager/notify-manager/pom.xml::::project::::parent_jetlinks-manager::::groupId::::org.jetlinks.community;yes;\n",
      "jetlinks-community::::jetlinks-components/network-component/tcp-component/pom.xml::::project::::parent_network-component::::groupId::::org.jetlinks.community <-> jetlinks-community::::jetlinks-components/notify-component/notify-webhook/pom.xml::::project::::parent_notify-component::::groupId::::org.jetlinks.community;yes;\n",
      "jetlinks-community::::jetlinks-components/gateway-component/pom.xml::::project::::dependencies::::dependency_timeseries-component::::groupId::::${project.groupId} <-> jetlinks-community::::jetlinks-standalone/pom.xml::::project::::dependencies::::dependency_gateway-component::::groupId::::${project.groupId};yes;\n",
      "jetlinks-community::::jetlinks-components/elasticsearch-component/pom.xml::::project::::dependencies::::dependency_timeseries-component::::groupId::::${project.groupId} <-> jetlinks-community::::jetlinks-manager/notify-manager/pom.xml::::project::::dependencies::::dependency_notify-sms::::groupId::::${project.groupId};yes;\n",
      "music-website::::music-client/package.json::::devDependencies::::@vue/cli-plugin-router::::@vue/cli-plugin-router:~5.0.0 <-> music-website::::music-manage/package.json::::devDependencies::::@vue/cli-plugin-router::::@vue/cli-plugin-router:~5.0.0;yes;\n",
      "music-website::::music-server/pom.xml::::project::::build::::plugins::::plugin_spring-boot-maven-plugin::::groupId::::org.springframework.boot <-> music-website::::music-server/pom.xml::::project::::dependencies::::dependency_spring-boot-starter-mail::::groupId::::org.springframework.boot;yes;\n",
      "music-website::::music-server/docker-server/docker-compose.yml::::services::::db::::environment::::MYSQL_PASSWORD::::123456 <-> music-website::::music-server/src/main/resources/application-prod.properties::::spring.datasource.password::::123456;yes;\n",
      "music-website::::music-client/tsconfig.json::::include::::include/tests/**/*.ts::::tests/**/*.ts <-> music-website::::music-manage/tsconfig.json::::include::::include/tests/**/*.ts::::tests/**/*.ts;yes;\n",
      "music-website::::music-server/docker-server/docker-compose.yml::::services::::db::::environment::::MYSQL_PASSWORD::::123456 <-> music-website::::music-server/src/main/resources/application-prod.properties::::spring.datasource.password::::123456;yes;\n"
     ]
    },
    {
     "name": "stderr",
     "output_type": "stream",
     "text": [
      "/tmp/ipykernel_4182/4001302433.py:45: FutureWarning: Series.__getitem__ treating keys as positions is deprecated. In a future version, integer keys will always be treated as labels (consistent with DataFrame behavior). To access a value by position, use `ser.iloc[pos]`\n",
      "  print(row[0])\n"
     ]
    }
   ],
   "source": [
    "from openai import OpenAI\n",
    "from dotenv import load_dotenv\n",
    "import os\n",
    "import pandas as pd\n",
    "\n",
    "load_dotenv(\"./.env\")\n",
    "\n",
    "\n",
    "\n",
    "OpenAI(api_key=os.getenv(\"OPENAI_KEY\"))\n",
    "df = pd.read_csv(\"test_dependencies.csv\")\n",
    "\n",
    "\n",
    "for index, row in df.iterrows():\n",
    "    print(row[0])\n",
    "    dependency = transform_link(link_str=row[0])\n",
    "\n"
   ]
  },
  {
   "cell_type": "code",
   "execution_count": null,
   "metadata": {},
   "outputs": [],
   "source": [
    "chat_completion = client.chat.completions.create(\n",
    "    messages=[\n",
    "        {\n",
    "            \"role\": \"system\",\n",
    "            \"content\": SYSTEM_PROMPT.format()\n",
    "        },\n",
    "        {\n",
    "            \"role\": \"user\",\n",
    "            \"content\": \"Say this is a test\",\n",
    "        }\n",
    "    ],\n",
    "    model=\"gpt-3.5-turbo\",\n",
    ")\n"
   ]
  }
 ],
 "metadata": {
  "kernelspec": {
   "display_name": "env",
   "language": "python",
   "name": "python3"
  },
  "language_info": {
   "codemirror_mode": {
    "name": "ipython",
    "version": 3
   },
   "file_extension": ".py",
   "mimetype": "text/x-python",
   "name": "python",
   "nbconvert_exporter": "python",
   "pygments_lexer": "ipython3",
   "version": "3.9.5"
  }
 },
 "nbformat": 4,
 "nbformat_minor": 2
}
