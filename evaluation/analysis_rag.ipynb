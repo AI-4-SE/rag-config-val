{
 "cells": [
  {
   "cell_type": "code",
   "execution_count": 55,
   "metadata": {},
   "outputs": [
    {
     "name": "stdout",
     "output_type": "stream",
     "text": [
      "Entry:  177 Expecting ':' delimiter: line 71 column 1 (char 1069)\n",
      "Entry:  210 Expecting ':' delimiter: line 6 column 34 (char 762)\n",
      "Invalid JSON count:  2\n",
      "KeyError count:  88\n"
     ]
    }
   ],
   "source": [
    "from typing import List, Dict\n",
    "import tiktoken\n",
    "import json\n",
    "import pandas as pd\n",
    "\n",
    "def get_context_length(entry: Dict, encoding_name: str = \"cl100k_base\") -> int:\n",
    "    encoding = tiktoken.get_encoding(encoding_name)\n",
    "    num_tokens = len(encoding.encode(entry[\"context_str\"]))\n",
    "    return num_tokens\n",
    "\n",
    "\n",
    "def get_source_types(entry: Dict) -> List[str]:\n",
    "    context = entry[\"context\"]\n",
    "    source_types = [x[\"index\"] for x in context]\n",
    "    return source_types\n",
    "\n",
    "\n",
    "def get_df_stats(model_name: str, config_str: str):\n",
    "\n",
    "    data_file = f\"../data/results/{config_str}/all_dependencies_all_{model_name}.json\"\n",
    "    baseline_file = \"../data/results/all_dependencies.csv\"\n",
    "\n",
    "    with open(data_file, \"r\", encoding=\"utf-8\") as src:\n",
    "        data = json.load(src)\n",
    "\n",
    "    df = pd.read_csv(baseline_file)\n",
    "\n",
    "    invalid_json_count = 0\n",
    "    key_error_count = 0\n",
    "    \n",
    "    for entry, (index, row) in zip(data, df.iterrows()):\n",
    "\n",
    "        assert entry[\"index\"] == index\n",
    "        \n",
    "        response_dict = None\n",
    "        is_Dependency = None\n",
    "\n",
    "        try:\n",
    "            if \"responses\" in entry:\n",
    "                response = entry[\"responses\"][0]\n",
    "            else:\n",
    "                response = entry[\"response\"]\n",
    "            response_dict = json.loads(response, strict=False)\n",
    "        except json.JSONDecodeError as error:\n",
    "            print(\"Entry: \", entry[\"index\"], error)\n",
    "\n",
    "            invalid_json_count += 1\n",
    "            continue\n",
    "        \n",
    "        if not response_dict:\n",
    "            print(\"empty\")\n",
    "\n",
    "        if \"isDependency\" not in response_dict:\n",
    "            key_error_count += 1\n",
    "    \n",
    "    print(\"Invalid JSON count: \", invalid_json_count)\n",
    "    print(\"KeyError count: \", key_error_count)\n",
    "\n",
    "\n",
    "model_names = [\"gpt-3.5-turbo-0125\", \"gpt-4o-2024-05-13\", \"llama3:8b\", \"llama3:70b\"]\n",
    "config_str = \"config2\"\n",
    "\n",
    "#for name in model_names:\n",
    "#    df = get_df_stats(model_name=name, config_str=config_str)\n",
    "#    df.to_csv(f\"../data/analysis/{config_str}/{name}.csv\", index=False)\n",
    "\n",
    "get_df_stats(model_name=\"llama3:8b\", config_str=config_str)\n",
    "#df.to_csv(f\"../data/analysis/{config_str}/llama3:70b.csv\", index=False)"
   ]
  },
  {
   "cell_type": "code",
   "execution_count": null,
   "metadata": {},
   "outputs": [],
   "source": []
  }
 ],
 "metadata": {
  "kernelspec": {
   "display_name": "env",
   "language": "python",
   "name": "python3"
  },
  "language_info": {
   "codemirror_mode": {
    "name": "ipython",
    "version": 3
   },
   "file_extension": ".py",
   "mimetype": "text/x-python",
   "name": "python",
   "nbconvert_exporter": "python",
   "pygments_lexer": "ipython3",
   "version": "3.9.5"
  }
 },
 "nbformat": 4,
 "nbformat_minor": 2
}
