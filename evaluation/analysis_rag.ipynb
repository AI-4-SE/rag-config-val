{
 "cells": [
  {
   "cell_type": "code",
   "execution_count": null,
   "metadata": {},
   "outputs": [],
   "source": [
    "from typing import List, Dict\n",
    "import tiktoken\n",
    "\n",
    "def get_context_length(entry: Dict, encoding_name: str = \"cl100k_base\") -> int:\n",
    "    encoding = tiktoken.get_encoding(encoding_name)\n",
    "    num_tokens = len(encoding.encode(entry[\"context_str\"]))\n",
    "    return num_tokens\n",
    "\n",
    "\n",
    "def get_source_types(entry: Dict) -> List[str]:\n",
    "    context = entry[\"context\"]\n",
    "    source_types = [x[\"index\"] for x in context]\n",
    "    return source_types"
   ]
  }
 ],
 "metadata": {
  "language_info": {
   "name": "python"
  }
 },
 "nbformat": 4,
 "nbformat_minor": 2
}
