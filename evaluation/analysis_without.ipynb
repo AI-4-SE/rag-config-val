{
 "cells": [
  {
   "cell_type": "markdown",
   "metadata": {},
   "source": [
    "**Qualitative Analysis of Validation Responses**"
   ]
  },
  {
   "cell_type": "code",
   "execution_count": 5,
   "metadata": {},
   "outputs": [],
   "source": [
    "import json\n",
    "import pandas as pd\n",
    "import os\n",
    "\n",
    "\n",
    "def get_df_stats(model_name: str):\n",
    "\n",
    "    data_file = f\"../data/evaluation/without/all_dependencies_without_{model_name}.json\"\n",
    "    baseline_file = \"../data/evaluation/all_dependencies.csv\"\n",
    "\n",
    "    with open(data_file, \"r\", encoding=\"utf-8\") as src:\n",
    "        data = json.load(src)\n",
    "\n",
    "    df = pd.read_csv(baseline_file)\n",
    "\n",
    "    response_rating = []\n",
    "    classification = []\n",
    "    rationale = []\n",
    "    plan = []\n",
    "    uncertainty = []\n",
    "    \n",
    "\n",
    "    for entry, (index, row) in zip(data, df.iterrows()):\n",
    "\n",
    "        assert entry[\"index\"] == index\n",
    "        \n",
    "        if \"responses\" in entry:\n",
    "            response = entry[\"responses\"][0]\n",
    "        else:\n",
    "            response = entry[\"response\"]\n",
    "\n",
    "        try:\n",
    "            if \"responses\" in entry:\n",
    "                response = entry[\"responses\"][0]\n",
    "            else:\n",
    "                response = entry[\"response\"]\n",
    "            response_dict = json.loads(response)\n",
    "            isDependency = response_dict[\"isDependency\"]\n",
    "        except json.JSONDecodeError:\n",
    "            pass\n",
    "        except KeyError:\n",
    "            return\n",
    "\n",
    "        rating = row[\"final_rating\"]\n",
    "        \n",
    "        if str(rating).lower() == \"borderline\":\n",
    "            if isDependency:\n",
    "                response_rating.append(str(isDependency))\n",
    "                classification.append(\"TP\")\n",
    "                plan.append(response_dict[\"plan\"])\n",
    "                rationale.append(response_dict[\"rationale\"])\n",
    "                uncertainty.append(response_dict[\"uncertainty\"])\n",
    "            if not isDependency:\n",
    "                response_rating.append(str(isDependency))\n",
    "                classification.append(\"TN\")\n",
    "                plan.append(response_dict[\"plan\"])\n",
    "                rationale.append(response_dict[\"rationale\"])\n",
    "                uncertainty.append(response_dict[\"uncertainty\"])\n",
    "\n",
    "        # FP: The LLM validates a dependency as correct, but the dependency is actually incorrect\n",
    "        if isDependency and str(rating).lower() == \"false\":\n",
    "            response_rating.append(str(isDependency))\n",
    "            classification.append(\"FP\")\n",
    "            plan.append(response_dict[\"plan\"])\n",
    "            rationale.append(response_dict[\"rationale\"])\n",
    "            uncertainty.append(response_dict[\"uncertainty\"])\n",
    "\n",
    "\n",
    "        # FN: The LLM validates a dependency as incorrect, but the dependency is actually correct\n",
    "        if not isDependency and  str(rating).lower() == \"true\":\n",
    "            response_rating.append(str(isDependency))\n",
    "            classification.append(\"FN\")\n",
    "            plan.append(response_dict[\"plan\"])\n",
    "            rationale.append(response_dict[\"rationale\"])\n",
    "            uncertainty.append(response_dict[\"uncertainty\"])\n",
    "\n",
    "        # TP: The LLM validates a dependency as correct and the dependency is correct\n",
    "        if isDependency and str(rating).lower() == \"true\":\n",
    "            response_rating.append(str(isDependency))\n",
    "            classification.append(\"TP\")\n",
    "            plan.append(response_dict[\"plan\"])\n",
    "            rationale.append(response_dict[\"rationale\"])\n",
    "            uncertainty.append(response_dict[\"uncertainty\"])\n",
    "\n",
    "        # TN: The LLM validates a dependency as incorrect and the dependency is incorrect\n",
    "        if not isDependency and str(rating).lower() == \"false\":\n",
    "            response_rating.append(str(isDependency))\n",
    "            classification.append(\"TN\")\n",
    "            plan.append(response_dict[\"plan\"])\n",
    "            rationale.append(response_dict[\"rationale\"])\n",
    "            uncertainty.append(response_dict[\"uncertainty\"])\n",
    "\n",
    "    df[f\"response_rating\"] = response_rating\n",
    "    df[\"classification\"] = classification\n",
    "    df[\"plan\"] = plan\n",
    "    df[\"rationale\"] = rationale\n",
    "    df[\"uncertainty\"] = uncertainty\n",
    "\n",
    "    return df\n",
    "\n",
    "\n",
    "model_names = [\"gpt-3.5-turbo-0125\", \"gpt-4o-2024-05-13\", \"llama3:8b\", \"llama3:70b\"]\n",
    "\n",
    "\n",
    "for name in model_names:\n",
    "    df = get_df_stats(model_name=name)\n",
    "    df.to_csv(f\"../data/evaluation/analysis/without/{name}.csv\", index=False)\n"
   ]
  },
  {
   "cell_type": "markdown",
   "metadata": {},
   "source": [
    "**Merge entry with corresponding dependencies**"
   ]
  },
  {
   "cell_type": "code",
   "execution_count": 3,
   "metadata": {},
   "outputs": [],
   "source": [
    "import pandas as pd\n",
    "import json\n",
    "\n",
    "df = pd.read_csv('../data/evaluation/analysis/without/all.csv')\n",
    "\n",
    "with open(\"../data/evaluation/config5/all_dependencies_all.json\", \"r\", encoding=\"utf-8\") as src:\n",
    "    data = json.load(src)\n",
    "\n",
    "\n",
    "merged_data = []\n",
    "\n",
    "for entry in df.to_dict(\"records\"):\n",
    "    dependency = next(filter(lambda x: x[\"index\"] == entry[\"index\"], data))\n",
    "\n",
    "    for key, value in dependency[\"dependency\"].items():\n",
    "        if key not in [\"dependency_type\", \"dependency_category\", \"dependency_level\"]:\n",
    "            entry[key] = value\n",
    "\n",
    "    merged_data.append(entry)\n",
    "\n",
    "\n",
    "df_merged = pd.DataFrame(merged_data)\n",
    "\n",
    "\n",
    "df_merged.to_csv('../data/evaluation/analysis/without/all.csv', index=False)"
   ]
  },
  {
   "cell_type": "markdown",
   "metadata": {},
   "source": [
    "**Get all failures**"
   ]
  },
  {
   "cell_type": "code",
   "execution_count": 4,
   "metadata": {},
   "outputs": [
    {
     "name": "stderr",
     "output_type": "stream",
     "text": [
      "/tmp/ipykernel_1143313/102757066.py:14: SettingWithCopyWarning: \n",
      "A value is trying to be set on a copy of a slice from a DataFrame.\n",
      "Try using .loc[row_indexer,col_indexer] = value instead\n",
      "\n",
      "See the caveats in the documentation: https://pandas.pydata.org/pandas-docs/stable/user_guide/indexing.html#returning-a-view-versus-a-copy\n",
      "  filtered_df_all['FP_FN_count'] = filtered_df_all[model_columns].apply(lambda row: row.isin(['FP', 'FN']).sum(), axis=1)\n"
     ]
    }
   ],
   "source": [
    "import pandas as pd\n",
    "\n",
    "df = pd.read_csv(\"../data/evaluation/analysis/without/all.csv\")\n",
    "\n",
    "# List of model columns to check\n",
    "model_columns = ['llama3:70b', 'gpt-4o-2024-05-13', 'gpt-3.5-turbo-0125', 'llama3:8b']\n",
    "\n",
    "# Create a boolean mask where True indicates the presence of 'FP' or 'FN' in any of the specified model columns\n",
    "mask = df[model_columns].apply(lambda x: x.isin(['FP', 'FN']), axis=1).any(axis=1)\n",
    "\n",
    "# Filter the dataframe using the mask\n",
    "filtered_df_all = df[mask]\n",
    "\n",
    "filtered_df_all['FP_FN_count'] = filtered_df_all[model_columns].apply(lambda row: row.isin(['FP', 'FN']).sum(), axis=1)\n",
    "\n",
    "#sorted_df_all =  filtered_df_all.sort_values(by='FP_FN_count', ascending=False)\n",
    "\n",
    "# Save the filtered dataframe if needed\n",
    "filtered_df_all.to_csv('../data/evaluation/analysis/without/failures.csv', index=False)"
   ]
  },
  {
   "cell_type": "markdown",
   "metadata": {},
   "source": [
    "**Get all successess**"
   ]
  },
  {
   "cell_type": "code",
   "execution_count": 5,
   "metadata": {},
   "outputs": [
    {
     "name": "stderr",
     "output_type": "stream",
     "text": [
      "/tmp/ipykernel_1143313/1734041071.py:14: SettingWithCopyWarning: \n",
      "A value is trying to be set on a copy of a slice from a DataFrame.\n",
      "Try using .loc[row_indexer,col_indexer] = value instead\n",
      "\n",
      "See the caveats in the documentation: https://pandas.pydata.org/pandas-docs/stable/user_guide/indexing.html#returning-a-view-versus-a-copy\n",
      "  filtered_df_all['TP_TN_count'] = filtered_df_all[model_columns].apply(lambda row: row.isin(['TP', 'TN']).sum(), axis=1)\n"
     ]
    }
   ],
   "source": [
    "import pandas as pd\n",
    "\n",
    "df = pd.read_csv(\"../data/evaluation/analysis/without/all.csv\")\n",
    "\n",
    "# List of model columns to check\n",
    "model_columns = ['llama3:70b', 'gpt-4o-2024-05-13', 'gpt-3.5-turbo-0125', 'llama3:8b']\n",
    "\n",
    "# Create a boolean mask where True indicates the presence of 'FP' or 'FN' in any of the specified model columns\n",
    "mask = df[model_columns].apply(lambda x: x.isin(['TP', 'TN']), axis=1).any(axis=1)\n",
    "\n",
    "# Filter the dataframe using the mask\n",
    "filtered_df_all = df[mask]\n",
    "\n",
    "filtered_df_all['TP_TN_count'] = filtered_df_all[model_columns].apply(lambda row: row.isin(['TP', 'TN']).sum(), axis=1)\n",
    "\n",
    "#sorted_df_all =  filtered_df_all.sort_values(by='FP_FN_count', ascending=False)\n",
    "\n",
    "# Save the filtered dataframe if needed\n",
    "filtered_df_all.to_csv('../data/evaluation/analysis/without/successess.csv', index=False)"
   ]
  },
  {
   "cell_type": "markdown",
   "metadata": {},
   "source": [
    "**Create failure and success counter**"
   ]
  },
  {
   "cell_type": "code",
   "execution_count": 6,
   "metadata": {},
   "outputs": [
    {
     "name": "stdout",
     "output_type": "stream",
     "text": [
      "Failure counter:  Counter({1: 153, 2: 101, 3: 36, 4: 3})\n",
      "Success coutner:  Counter({4: 161, 3: 153, 2: 101, 1: 36})\n"
     ]
    }
   ],
   "source": [
    "import pandas as pd\n",
    "from collections import Counter\n",
    "\n",
    "df_fail = pd.read_csv('../data/evaluation/analysis/without/failures.csv')\n",
    "df_success = pd.read_csv('../data/evaluation/analysis/without/successess.csv')\n",
    "\n",
    "failure_count = df_fail[\"FP_FN_count\"].to_list()\n",
    "success_count = df_success[\"TP_TN_count\"].to_list()\n",
    "\n",
    "failure_counter = Counter(failure_count)\n",
    "success_counter = Counter(success_count)\n",
    "\n",
    "print(\"Failure counter: \", failure_counter)\n",
    "print(\"Success coutner: \", success_counter)"
   ]
  },
  {
   "cell_type": "markdown",
   "metadata": {},
   "source": [
    "**Get results per model**"
   ]
  },
  {
   "cell_type": "code",
   "execution_count": 10,
   "metadata": {},
   "outputs": [
    {
     "name": "stdout",
     "output_type": "stream",
     "text": [
      "['gpt-4o-2024-05-13', 'gpt-3.5-turbo-0125', 'llama3:8b']\n"
     ]
    },
    {
     "ename": "JSONDecodeError",
     "evalue": "Invalid control character at: line 2 column 236 (char 237)",
     "output_type": "error",
     "traceback": [
      "\u001b[0;31m---------------------------------------------------------------------------\u001b[0m",
      "\u001b[0;31mJSONDecodeError\u001b[0m                           Traceback (most recent call last)",
      "Cell \u001b[0;32mIn[10], line 27\u001b[0m\n\u001b[1;32m     25\u001b[0m data_entry \u001b[38;5;241m=\u001b[39m response \u001b[38;5;241m=\u001b[39m \u001b[38;5;28mnext\u001b[39m(\u001b[38;5;28mfilter\u001b[39m(\u001b[38;5;28;01mlambda\u001b[39;00m x: x[\u001b[38;5;124m\"\u001b[39m\u001b[38;5;124mindex\u001b[39m\u001b[38;5;124m\"\u001b[39m] \u001b[38;5;241m==\u001b[39m entry[\u001b[38;5;124m\"\u001b[39m\u001b[38;5;124mindex\u001b[39m\u001b[38;5;124m\"\u001b[39m], data))\n\u001b[1;32m     26\u001b[0m response \u001b[38;5;241m=\u001b[39m data_entry[\u001b[38;5;124m\"\u001b[39m\u001b[38;5;124mresponse\u001b[39m\u001b[38;5;124m\"\u001b[39m]\n\u001b[0;32m---> 27\u001b[0m response_dict \u001b[38;5;241m=\u001b[39m \u001b[43mjson\u001b[49m\u001b[38;5;241;43m.\u001b[39;49m\u001b[43mloads\u001b[49m\u001b[43m(\u001b[49m\u001b[43mresponse\u001b[49m\u001b[43m)\u001b[49m\n\u001b[1;32m     29\u001b[0m plan \u001b[38;5;241m=\u001b[39m response_dict[\u001b[38;5;124m\"\u001b[39m\u001b[38;5;124mplan\u001b[39m\u001b[38;5;124m\"\u001b[39m]\n\u001b[1;32m     30\u001b[0m rationale \u001b[38;5;241m=\u001b[39m response_dict[\u001b[38;5;124m\"\u001b[39m\u001b[38;5;124mrationale\u001b[39m\u001b[38;5;124m\"\u001b[39m]\n",
      "File \u001b[0;32m/usr/lib/python3.10/json/__init__.py:346\u001b[0m, in \u001b[0;36mloads\u001b[0;34m(s, cls, object_hook, parse_float, parse_int, parse_constant, object_pairs_hook, **kw)\u001b[0m\n\u001b[1;32m    341\u001b[0m     s \u001b[38;5;241m=\u001b[39m s\u001b[38;5;241m.\u001b[39mdecode(detect_encoding(s), \u001b[38;5;124m'\u001b[39m\u001b[38;5;124msurrogatepass\u001b[39m\u001b[38;5;124m'\u001b[39m)\n\u001b[1;32m    343\u001b[0m \u001b[38;5;28;01mif\u001b[39;00m (\u001b[38;5;28mcls\u001b[39m \u001b[38;5;129;01mis\u001b[39;00m \u001b[38;5;28;01mNone\u001b[39;00m \u001b[38;5;129;01mand\u001b[39;00m object_hook \u001b[38;5;129;01mis\u001b[39;00m \u001b[38;5;28;01mNone\u001b[39;00m \u001b[38;5;129;01mand\u001b[39;00m\n\u001b[1;32m    344\u001b[0m         parse_int \u001b[38;5;129;01mis\u001b[39;00m \u001b[38;5;28;01mNone\u001b[39;00m \u001b[38;5;129;01mand\u001b[39;00m parse_float \u001b[38;5;129;01mis\u001b[39;00m \u001b[38;5;28;01mNone\u001b[39;00m \u001b[38;5;129;01mand\u001b[39;00m\n\u001b[1;32m    345\u001b[0m         parse_constant \u001b[38;5;129;01mis\u001b[39;00m \u001b[38;5;28;01mNone\u001b[39;00m \u001b[38;5;129;01mand\u001b[39;00m object_pairs_hook \u001b[38;5;129;01mis\u001b[39;00m \u001b[38;5;28;01mNone\u001b[39;00m \u001b[38;5;129;01mand\u001b[39;00m \u001b[38;5;129;01mnot\u001b[39;00m kw):\n\u001b[0;32m--> 346\u001b[0m     \u001b[38;5;28;01mreturn\u001b[39;00m \u001b[43m_default_decoder\u001b[49m\u001b[38;5;241;43m.\u001b[39;49m\u001b[43mdecode\u001b[49m\u001b[43m(\u001b[49m\u001b[43ms\u001b[49m\u001b[43m)\u001b[49m\n\u001b[1;32m    347\u001b[0m \u001b[38;5;28;01mif\u001b[39;00m \u001b[38;5;28mcls\u001b[39m \u001b[38;5;129;01mis\u001b[39;00m \u001b[38;5;28;01mNone\u001b[39;00m:\n\u001b[1;32m    348\u001b[0m     \u001b[38;5;28mcls\u001b[39m \u001b[38;5;241m=\u001b[39m JSONDecoder\n",
      "File \u001b[0;32m/usr/lib/python3.10/json/decoder.py:337\u001b[0m, in \u001b[0;36mJSONDecoder.decode\u001b[0;34m(self, s, _w)\u001b[0m\n\u001b[1;32m    332\u001b[0m \u001b[38;5;28;01mdef\u001b[39;00m \u001b[38;5;21mdecode\u001b[39m(\u001b[38;5;28mself\u001b[39m, s, _w\u001b[38;5;241m=\u001b[39mWHITESPACE\u001b[38;5;241m.\u001b[39mmatch):\n\u001b[1;32m    333\u001b[0m \u001b[38;5;250m    \u001b[39m\u001b[38;5;124;03m\"\"\"Return the Python representation of ``s`` (a ``str`` instance\u001b[39;00m\n\u001b[1;32m    334\u001b[0m \u001b[38;5;124;03m    containing a JSON document).\u001b[39;00m\n\u001b[1;32m    335\u001b[0m \n\u001b[1;32m    336\u001b[0m \u001b[38;5;124;03m    \"\"\"\u001b[39;00m\n\u001b[0;32m--> 337\u001b[0m     obj, end \u001b[38;5;241m=\u001b[39m \u001b[38;5;28;43mself\u001b[39;49m\u001b[38;5;241;43m.\u001b[39;49m\u001b[43mraw_decode\u001b[49m\u001b[43m(\u001b[49m\u001b[43ms\u001b[49m\u001b[43m,\u001b[49m\u001b[43m \u001b[49m\u001b[43midx\u001b[49m\u001b[38;5;241;43m=\u001b[39;49m\u001b[43m_w\u001b[49m\u001b[43m(\u001b[49m\u001b[43ms\u001b[49m\u001b[43m,\u001b[49m\u001b[43m \u001b[49m\u001b[38;5;241;43m0\u001b[39;49m\u001b[43m)\u001b[49m\u001b[38;5;241;43m.\u001b[39;49m\u001b[43mend\u001b[49m\u001b[43m(\u001b[49m\u001b[43m)\u001b[49m\u001b[43m)\u001b[49m\n\u001b[1;32m    338\u001b[0m     end \u001b[38;5;241m=\u001b[39m _w(s, end)\u001b[38;5;241m.\u001b[39mend()\n\u001b[1;32m    339\u001b[0m     \u001b[38;5;28;01mif\u001b[39;00m end \u001b[38;5;241m!=\u001b[39m \u001b[38;5;28mlen\u001b[39m(s):\n",
      "File \u001b[0;32m/usr/lib/python3.10/json/decoder.py:353\u001b[0m, in \u001b[0;36mJSONDecoder.raw_decode\u001b[0;34m(self, s, idx)\u001b[0m\n\u001b[1;32m    344\u001b[0m \u001b[38;5;250m\u001b[39m\u001b[38;5;124;03m\"\"\"Decode a JSON document from ``s`` (a ``str`` beginning with\u001b[39;00m\n\u001b[1;32m    345\u001b[0m \u001b[38;5;124;03ma JSON document) and return a 2-tuple of the Python\u001b[39;00m\n\u001b[1;32m    346\u001b[0m \u001b[38;5;124;03mrepresentation and the index in ``s`` where the document ended.\u001b[39;00m\n\u001b[0;32m   (...)\u001b[0m\n\u001b[1;32m    350\u001b[0m \n\u001b[1;32m    351\u001b[0m \u001b[38;5;124;03m\"\"\"\u001b[39;00m\n\u001b[1;32m    352\u001b[0m \u001b[38;5;28;01mtry\u001b[39;00m:\n\u001b[0;32m--> 353\u001b[0m     obj, end \u001b[38;5;241m=\u001b[39m \u001b[38;5;28;43mself\u001b[39;49m\u001b[38;5;241;43m.\u001b[39;49m\u001b[43mscan_once\u001b[49m\u001b[43m(\u001b[49m\u001b[43ms\u001b[49m\u001b[43m,\u001b[49m\u001b[43m \u001b[49m\u001b[43midx\u001b[49m\u001b[43m)\u001b[49m\n\u001b[1;32m    354\u001b[0m \u001b[38;5;28;01mexcept\u001b[39;00m \u001b[38;5;167;01mStopIteration\u001b[39;00m \u001b[38;5;28;01mas\u001b[39;00m err:\n\u001b[1;32m    355\u001b[0m     \u001b[38;5;28;01mraise\u001b[39;00m JSONDecodeError(\u001b[38;5;124m\"\u001b[39m\u001b[38;5;124mExpecting value\u001b[39m\u001b[38;5;124m\"\u001b[39m, s, err\u001b[38;5;241m.\u001b[39mvalue) \u001b[38;5;28;01mfrom\u001b[39;00m \u001b[38;5;28;01mNone\u001b[39;00m\n",
      "\u001b[0;31mJSONDecodeError\u001b[0m: Invalid control character at: line 2 column 236 (char 237)"
     ]
    }
   ],
   "source": [
    "import pandas as pd\n",
    "import json\n",
    "\n",
    "model_columns = ['llama3:70b', 'gpt-4o-2024-05-13', 'gpt-3.5-turbo-0125', 'llama3:8b']\n",
    "\n",
    "\n",
    "\n",
    "for model in model_columns:\n",
    "    \n",
    "    df = pd.read_csv('../data/evaluation/analysis/without/all.csv')\n",
    "    columns_to_remove = [x for x in model_columns if x != model]\n",
    "    df = df.drop(columns_to_remove, axis=1)\n",
    "    #df.to_csv(f\"../data/evaluation/analysis/without/{model}.csv\", index=False)\n",
    "\n",
    "    data_file = f\"../data/evaluation/without/all_dependencies_without_{model_name}.json\"\n",
    "    with open(data_file, \"r\", encoding=\"utf-8\") as src:\n",
    "        data = json.load(src)\n",
    "\n",
    "    columns_to_remove = [x for x in model_columns if x != model]\n",
    "    print(columns_to_remove)\n",
    "\n",
    "    merged_data = []\n",
    "\n",
    "    for entry in df.to_dict(\"records\"):\n",
    "        data_entry = response = next(filter(lambda x: x[\"index\"] == entry[\"index\"], data))\n",
    "        response = data_entry[\"response\"]\n",
    "        response_dict = json.loads(response)\n",
    "\n",
    "        plan = response_dict[\"plan\"]\n",
    "        rationale = response_dict[\"rationale\"]\n",
    "        uncertainty = response_dict[\"uncertainty\"]\n",
    "\n",
    "        entry[\"plan\"] = response_dict[\"plan\"]\n",
    "        entry[\"rationale\"] = response_dict[\"rationale\"]\n",
    "        entry[\"uncertainty\"] = response_dict[\"uncertainty\"]\n",
    "\n",
    "        merged_data.append(entry)\n",
    "\n",
    "    df_merged = pd.DataFrame(merged_data)\n",
    "    df_merged.to_csv(f\"../data/evaluation/analysis/without/{model}.csv\", index=False)\n"
   ]
  }
 ],
 "metadata": {
  "kernelspec": {
   "display_name": "cval_env",
   "language": "python",
   "name": "python3"
  },
  "language_info": {
   "codemirror_mode": {
    "name": "ipython",
    "version": 3
   },
   "file_extension": ".py",
   "mimetype": "text/x-python",
   "name": "python",
   "nbconvert_exporter": "python",
   "pygments_lexer": "ipython3",
   "version": "3.10.12"
  }
 },
 "nbformat": 4,
 "nbformat_minor": 2
}
