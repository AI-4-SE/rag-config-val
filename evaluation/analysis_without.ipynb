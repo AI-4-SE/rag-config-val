{
 "cells": [
  {
   "cell_type": "markdown",
   "metadata": {},
   "source": [
    "**Qualitative Analysis of Validation Responses**"
   ]
  },
  {
   "cell_type": "code",
   "execution_count": 6,
   "metadata": {},
   "outputs": [],
   "source": [
    "from typing import List, Dict\n",
    "import tiktoken\n",
    "\n",
    "def get_context_length(entry: Dict, encoding_name: str = \"cl100k_base\") -> int:\n",
    "    encoding = tiktoken.get_encoding(encoding_name)\n",
    "    num_tokens = len(encoding.encode(entry[\"context_str\"]))\n",
    "    return num_tokens\n",
    "\n",
    "\n",
    "def get_source_types(entry: Dict) -> List[str]:\n",
    "    context = entry[\"context\"]\n",
    "    source_types = [x[\"index\"] for x in context]\n",
    "    return source_types"
   ]
  },
  {
   "cell_type": "code",
   "execution_count": 14,
   "metadata": {},
   "outputs": [],
   "source": [
    "import json\n",
    "import pandas as pd\n",
    "import os\n",
    "\n",
    "\n",
    "def get_df_stats(model_name: str):\n",
    "\n",
    "    data_file = f\"../data/evaluation/without/all_dependencies_without_{model_name}.json\"\n",
    "    baseline_file = \"../data/evaluation/all_dependencies.csv\"\n",
    "    output_dir = \"../data/evaluation/analysis/without\"\n",
    "\n",
    "    with open(data_file, \"r\", encoding=\"utf-8\") as src:\n",
    "        data = json.load(src)\n",
    "\n",
    "    df = pd.read_csv(baseline_file)\n",
    "\n",
    "    stats = []\n",
    "\n",
    "    for entry, (index, row) in zip(data, df.iterrows()):\n",
    "        \n",
    "        if \"responses\" in entry:\n",
    "            response = entry[\"responses\"][0]\n",
    "        else:\n",
    "            response = entry[\"response\"]\n",
    "\n",
    "        try:\n",
    "            if \"responses\" in entry:\n",
    "                response = entry[\"responses\"][0]\n",
    "            else:\n",
    "                response = entry[\"response\"]\n",
    "            response_dict = json.loads(response)\n",
    "            isDependency = response_dict[\"isDependency\"]\n",
    "        except json.JSONDecodeError as error:\n",
    "            pass\n",
    "        except KeyError:\n",
    "            return\n",
    "\n",
    "        rating = row[\"final_rating\"]\n",
    "        \n",
    "        # checl borderline cases\n",
    "        if str(rating) == \"Borderline\":\n",
    "            continue\n",
    "            #errors.append({\n",
    "            #    \"index\": index,\n",
    "            #    \"model_name\": model_name,\n",
    "            #    \"rating\": \"borderline\",\n",
    "            #    \"response_rating\": str(isDependency),\n",
    "            #    \"term\": \"None\"\n",
    "            #})\n",
    "\n",
    "        \n",
    "        # FP: The LLM validates a dependency as correct, but the dependency is actually incorrect\n",
    "        if isDependency and str(rating).lower() == \"false\":\n",
    "            stats.append({\n",
    "                \"index\": index,\n",
    "                \"rating\": rating,\n",
    "                \"response_rating\": str(isDependency),\n",
    "                model_name: \"FP\",\n",
    "            })\n",
    "\n",
    "        # FN: The LLM validates a dependency as incorrect, but the dependency is actually correct\n",
    "        if not isDependency and  str(rating).lower() == \"true\":\n",
    "            stats.append({\n",
    "                \"index\": index,\n",
    "                \"rating\": rating,\n",
    "                \"response_rating\": str(isDependency),\n",
    "                model_name: \"FN\",\n",
    "            })\n",
    "\n",
    "\n",
    "        # TP: The LLM validates a dependency as correct and the dependency is correct\n",
    "        if isDependency and str(rating).lower() == \"true\":\n",
    "            stats.append({\n",
    "                \"index\": index,\n",
    "                \"rating\": rating,\n",
    "                \"response_rating\": str(isDependency),\n",
    "                model_name: \"TP\",\n",
    "            })\n",
    "\n",
    "\n",
    "        # TN: The LLM validates a dependency as incorrect and the dependency is incorrect\n",
    "        if not isDependency and str(rating).lower() == \"false\":\n",
    "            stats.append({\n",
    "                \"index\": index,\n",
    "                \"rating\": rating,\n",
    "                \"response_rating\": str(isDependency),\n",
    "                model_name: \"TN\",\n",
    "            })\n",
    "\n",
    "\n",
    "    df_stats = pd.DataFrame(stats)   \n",
    "    return df_stats\n",
    "\n",
    "\n",
    "model_names = [\"gpt-3.5-turbo-0125\", \"gpt-4o-2024-05-13\", \"llama3:8b\", \"llama3:70b\"]\n",
    "\n",
    "dfs = []\n",
    "\n",
    "for name in model_names:\n",
    "    dfs.append(get_df_stats(model_name=name))\n",
    "    \n",
    "\n",
    "df_base = dfs[0]\n",
    "df_base = df_base.drop(\"response_rating\", axis=1)\n",
    "\n",
    "for model_name, df in zip(model_names, dfs):\n",
    "    df_base[model_name] = df[model_name]\n",
    "\n",
    "\n",
    "df_base.to_csv(\"../data/evaluation/analysis/without/all.csv\", index=False)"
   ]
  },
  {
   "cell_type": "markdown",
   "metadata": {},
   "source": [
    "**Merge entry with corresponding dependencies**"
   ]
  },
  {
   "cell_type": "code",
   "execution_count": 15,
   "metadata": {},
   "outputs": [],
   "source": [
    "import pandas as pd\n",
    "import json\n",
    "\n",
    "df = pd.read_csv('../data/evaluation/analysis/without/all.csv')\n",
    "\n",
    "with open(\"../data/evaluation/config5/all_dependencies_all.json\", \"r\", encoding=\"utf-8\") as src:\n",
    "    data = json.load(src)\n",
    "\n",
    "\n",
    "merged_data = []\n",
    "\n",
    "for entry in df.to_dict(\"records\"):\n",
    "    dependency = next(filter(lambda x: x[\"index\"] == entry[\"index\"], data))\n",
    "\n",
    "    for key, value in dependency[\"dependency\"].items():\n",
    "        if key not in [\"dependency_type\", \"dependency_category\", \"dependency_level\"]:\n",
    "            entry[key] = value\n",
    "\n",
    "    merged_data.append(entry)\n",
    "\n",
    "\n",
    "df_merged = pd.DataFrame(merged_data)\n",
    "\n",
    "\n",
    "df_merged.to_csv('../data/evaluation/analysis/without/all.csv', index=False)"
   ]
  },
  {
   "cell_type": "markdown",
   "metadata": {},
   "source": [
    "**Get all failures**"
   ]
  },
  {
   "cell_type": "code",
   "execution_count": 45,
   "metadata": {},
   "outputs": [
    {
     "name": "stderr",
     "output_type": "stream",
     "text": [
      "/tmp/ipykernel_1109457/102757066.py:14: SettingWithCopyWarning: \n",
      "A value is trying to be set on a copy of a slice from a DataFrame.\n",
      "Try using .loc[row_indexer,col_indexer] = value instead\n",
      "\n",
      "See the caveats in the documentation: https://pandas.pydata.org/pandas-docs/stable/user_guide/indexing.html#returning-a-view-versus-a-copy\n",
      "  filtered_df_all['FP_FN_count'] = filtered_df_all[model_columns].apply(lambda row: row.isin(['FP', 'FN']).sum(), axis=1)\n"
     ]
    }
   ],
   "source": [
    "import pandas as pd\n",
    "\n",
    "df = pd.read_csv(\"../data/evaluation/analysis/without/all.csv\")\n",
    "\n",
    "# List of model columns to check\n",
    "model_columns = ['llama3:70b', 'gpt-4o-2024-05-13', 'gpt-3.5-turbo-0125', 'llama3:8b']\n",
    "\n",
    "# Create a boolean mask where True indicates the presence of 'FP' or 'FN' in any of the specified model columns\n",
    "mask = df[model_columns].apply(lambda x: x.isin(['FP', 'FN']), axis=1).any(axis=1)\n",
    "\n",
    "# Filter the dataframe using the mask\n",
    "filtered_df_all = df[mask]\n",
    "\n",
    "filtered_df_all['FP_FN_count'] = filtered_df_all[model_columns].apply(lambda row: row.isin(['FP', 'FN']).sum(), axis=1)\n",
    "\n",
    "#sorted_df_all =  filtered_df_all.sort_values(by='FP_FN_count', ascending=False)\n",
    "\n",
    "# Save the filtered dataframe if needed\n",
    "filtered_df_all.to_csv('../data/evaluation/analysis/without/failures.csv', index=False)"
   ]
  },
  {
   "cell_type": "markdown",
   "metadata": {},
   "source": [
    "**Get all successess**"
   ]
  },
  {
   "cell_type": "code",
   "execution_count": 46,
   "metadata": {},
   "outputs": [
    {
     "name": "stderr",
     "output_type": "stream",
     "text": [
      "/tmp/ipykernel_1109457/1734041071.py:14: SettingWithCopyWarning: \n",
      "A value is trying to be set on a copy of a slice from a DataFrame.\n",
      "Try using .loc[row_indexer,col_indexer] = value instead\n",
      "\n",
      "See the caveats in the documentation: https://pandas.pydata.org/pandas-docs/stable/user_guide/indexing.html#returning-a-view-versus-a-copy\n",
      "  filtered_df_all['TP_TN_count'] = filtered_df_all[model_columns].apply(lambda row: row.isin(['TP', 'TN']).sum(), axis=1)\n"
     ]
    }
   ],
   "source": [
    "import pandas as pd\n",
    "\n",
    "df = pd.read_csv(\"../data/evaluation/analysis/without/all.csv\")\n",
    "\n",
    "# List of model columns to check\n",
    "model_columns = ['llama3:70b', 'gpt-4o-2024-05-13', 'gpt-3.5-turbo-0125', 'llama3:8b']\n",
    "\n",
    "# Create a boolean mask where True indicates the presence of 'FP' or 'FN' in any of the specified model columns\n",
    "mask = df[model_columns].apply(lambda x: x.isin(['TP', 'TN']), axis=1).any(axis=1)\n",
    "\n",
    "# Filter the dataframe using the mask\n",
    "filtered_df_all = df[mask]\n",
    "\n",
    "filtered_df_all['TP_TN_count'] = filtered_df_all[model_columns].apply(lambda row: row.isin(['TP', 'TN']).sum(), axis=1)\n",
    "\n",
    "#sorted_df_all =  filtered_df_all.sort_values(by='FP_FN_count', ascending=False)\n",
    "\n",
    "# Save the filtered dataframe if needed\n",
    "filtered_df_all.to_csv('../data/evaluation/analysis/without/successess.csv', index=False)"
   ]
  },
  {
   "cell_type": "markdown",
   "metadata": {},
   "source": [
    "**Create failure and success counter**"
   ]
  },
  {
   "cell_type": "code",
   "execution_count": 47,
   "metadata": {},
   "outputs": [
    {
     "name": "stdout",
     "output_type": "stream",
     "text": [
      "Failure counter:  Counter({1: 159, 2: 109, 3: 47, 4: 7})\n",
      "Success coutner:  Counter({4: 160, 3: 159, 2: 109, 1: 47})\n"
     ]
    }
   ],
   "source": [
    "import pandas as pd\n",
    "from collections import Counter\n",
    "\n",
    "df_fail = pd.read_csv('../data/evaluation/analysis/without/failures.csv')\n",
    "df_success = pd.read_csv('../data/evaluation/analysis/without/successess.csv')\n",
    "\n",
    "failure_count = df_fail[\"FP_FN_count\"].to_list()\n",
    "success_count = df_success[\"TP_TN_count\"].to_list()\n",
    "\n",
    "failure_counter = Counter(failure_count)\n",
    "success_counter = Counter(success_count)\n",
    "\n",
    "print(\"Failure counter: \", failure_counter)\n",
    "print(\"Success coutner: \", success_counter)"
   ]
  },
  {
   "cell_type": "markdown",
   "metadata": {},
   "source": [
    "**Get failures per model**"
   ]
  },
  {
   "cell_type": "code",
   "execution_count": 16,
   "metadata": {},
   "outputs": [],
   "source": [
    "import pandas as pd\n",
    "\n",
    "df_fail = pd.read_csv('../data/evaluation/analysis/without/failures.csv')\n",
    "model_columns = ['llama3:70b', 'gpt-4o-2024-05-13', 'gpt-3.5-turbo-0125', 'llama3:8b']\n",
    "\n",
    "for model in model_columns:\n",
    "    \n",
    "    mask = df_fail[[model]].apply(lambda x: x.isin(['FN', 'FP']), axis=1).any(axis=1)\n",
    "    df_masked = df_fail[mask]\n",
    "\n",
    "    columns_to_remove = [x for x in model_columns if x != model]\n",
    "    \n",
    "    df_masked = df_masked.drop(columns_to_remove, axis=1)\n",
    "  \n",
    "    df_masked.to_csv(f\"../data/evaluation/analysis/without/failures_{model}.csv\", index=False)"
   ]
  }
 ],
 "metadata": {
  "kernelspec": {
   "display_name": "cval_env",
   "language": "python",
   "name": "python3"
  },
  "language_info": {
   "codemirror_mode": {
    "name": "ipython",
    "version": 3
   },
   "file_extension": ".py",
   "mimetype": "text/x-python",
   "name": "python",
   "nbconvert_exporter": "python",
   "pygments_lexer": "ipython3",
   "version": "3.10.12"
  }
 },
 "nbformat": 4,
 "nbformat_minor": 2
}
