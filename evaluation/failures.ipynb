{
 "cells": [
  {
   "cell_type": "code",
   "execution_count": 2,
   "metadata": {},
   "outputs": [
    {
     "name": "stdout",
     "output_type": "stream",
     "text": [
      "Len without:  561\n",
      "Len Rag Config 2:  642\n",
      "Sum:  1203\n"
     ]
    }
   ],
   "source": [
    "import pandas as pd\n",
    "\n",
    "df = pd.read_csv(\"../data/analysis/failures/failures_annotated.csv\")\n",
    "\n",
    "df_without = df[df[\"config\"].isin([\"without\"])]\n",
    "\n",
    "df_rag = df[df[\"config\"].isin([\"config2\"])]\n",
    "\n",
    "print(\"Len without: \", len(df_without))\n",
    "print(\"Len Rag Config 2: \", len(df_rag))\n",
    "print(\"Sum: \", len(df_rag) + len(df_without))"
   ]
  },
  {
   "cell_type": "code",
   "execution_count": 3,
   "metadata": {},
   "outputs": [
    {
     "name": "stdout",
     "output_type": "stream",
     "text": [
      "gpt-4o-2024-05-13\n",
      "91\n",
      "Counter({'Inheritance and Overrides': 44, 'Configuration Consistency': 25, 'Context Uilization and Retrieval': 17, 'Others': 3, 'Resource Sharing': 1, 'Ambiguous Option Values': 1})\n",
      "gpt-3.5-turbo-0125\n",
      "157\n",
      "Counter({'Inheritance and Overrides': 52, 'Configuration Consistency': 46, 'Others': 19, 'Resource Sharing': 11, 'Independent Technologies and Services': 10, 'Context Uilization and Retrieval': 9, 'Port Mapping': 7, 'Ambiguous Option Values': 3})\n",
      "llama3:8b\n",
      "159\n",
      "Counter({'Configuration Consistency': 54, 'Inheritance and Overrides': 26, 'Others': 24, 'Independent Technologies and Services': 17, 'Port Mapping': 12, 'Ambiguous Option Values': 11, 'Resource Sharing': 11, 'Context Uilization and Retrieval': 4})\n",
      "llama3:70b\n",
      "154\n",
      "Counter({'Inheritance and Overrides': 50, 'Configuration Consistency': 46, 'Others': 21, 'Context Uilization and Retrieval': 11, 'Independent Technologies and Services': 10, 'Port Mapping': 8, 'Ambiguous Option Values': 4, 'Resource Sharing': 4})\n"
     ]
    }
   ],
   "source": [
    "from collections import Counter\n",
    "\n",
    "models = [\"gpt-4o-2024-05-13\", \"gpt-3.5-turbo-0125\", \"llama3:8b\", \"llama3:70b\"]\n",
    "\n",
    "for model_name in models:\n",
    "    print(model_name)\n",
    "    df_model = df_without[df_without[\"llm\"] == model_name]\n",
    "    print(len(df_model))\n",
    "    counter = df_model[\"final_failure_category\"].to_list()\n",
    "    print(Counter(counter))\n",
    "\n"
   ]
  },
  {
   "cell_type": "code",
   "execution_count": 4,
   "metadata": {},
   "outputs": [
    {
     "name": "stdout",
     "output_type": "stream",
     "text": [
      "gpt-4o-2024-05-13\n",
      "116\n",
      "Counter({'Inheritance and Overrides': 49, 'Configuration Consistency': 36, 'Context Uilization and Retrieval': 15, 'Port Mapping': 7, 'Resource Sharing': 6, 'Ambiguous Option Values': 2, 'Others': 1})\n",
      "gpt-3.5-turbo-0125\n",
      "185\n",
      "Counter({'Configuration Consistency': 69, 'Inheritance and Overrides': 42, 'Others': 21, 'Independent Technologies and Services': 17, 'Resource Sharing': 15, 'Port Mapping': 10, 'Ambiguous Option Values': 8, 'Context Uilization and Retrieval': 3})\n",
      "llama3:8b\n",
      "189\n",
      "Counter({'Configuration Consistency': 67, 'Others': 41, 'Inheritance and Overrides': 30, 'Resource Sharing': 15, 'Ambiguous Option Values': 12, 'Independent Technologies and Services': 10, 'Port Mapping': 8, 'Context Uilization and Retrieval': 6})\n",
      "llama3:70b\n",
      "152\n",
      "Counter({'Configuration Consistency': 55, 'Inheritance and Overrides': 36, 'Context Uilization and Retrieval': 18, 'Others': 14, 'Resource Sharing': 9, 'Ambiguous Option Values': 7, 'Port Mapping': 7, 'Independent Technologies and Services': 6})\n"
     ]
    }
   ],
   "source": [
    "from collections import Counter\n",
    "\n",
    "models = [\"gpt-4o-2024-05-13\", \"gpt-3.5-turbo-0125\", \"llama3:8b\", \"llama3:70b\"]\n",
    "\n",
    "for model_name in models:\n",
    "    print(model_name)\n",
    "    df_model = df_rag[df_rag[\"llm\"] == model_name]\n",
    "    print(len(df_model))\n",
    "    counter = df_model[\"final_failure_category\"].to_list()\n",
    "    print(Counter(counter))"
   ]
  }
 ],
 "metadata": {
  "kernelspec": {
   "display_name": "cval_env",
   "language": "python",
   "name": "python3"
  },
  "language_info": {
   "codemirror_mode": {
    "name": "ipython",
    "version": 3
   },
   "file_extension": ".py",
   "mimetype": "text/x-python",
   "name": "python",
   "nbconvert_exporter": "python",
   "pygments_lexer": "ipython3",
   "version": "3.10.12"
  }
 },
 "nbformat": 4,
 "nbformat_minor": 2
}
