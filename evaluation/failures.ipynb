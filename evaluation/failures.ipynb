{
 "cells": [
  {
   "cell_type": "code",
   "execution_count": 12,
   "metadata": {},
   "outputs": [
    {
     "name": "stdout",
     "output_type": "stream",
     "text": [
      "Len without:  557\n",
      "Len Rag Config 2:  629\n",
      "Sum:  1186\n"
     ]
    }
   ],
   "source": [
    "import pandas as pd\n",
    "\n",
    "df = pd.read_csv(\"../data/analysis/failures_annotated.csv\")\n",
    "\n",
    "df_without = df[df[\"config\"].isin([\"without\"])]\n",
    "\n",
    "df_rag = df[df[\"config\"].isin([\"config2\"])]\n",
    "\n",
    "print(\"Len without: \", len(df_without))\n",
    "print(\"Len Rag Config 2: \", len(df_rag))\n",
    "print(\"Sum: \", len(df_rag) + len(df_without))"
   ]
  },
  {
   "cell_type": "code",
   "execution_count": 15,
   "metadata": {},
   "outputs": [
    {
     "name": "stdout",
     "output_type": "stream",
     "text": [
      "gpt-4o-2024-05-13\n",
      "91\n",
      "Counter({'Inheritance and Overrides': 45, 'Configuration Consistency': 26, 'Context Uilization and Retrieval': 17, 'Inferring Dependencies': 3})\n",
      "gpt-3.5-turbo-0125\n",
      "154\n",
      "Counter({'Inheritance and Overrides': 50, 'Configuration Consistency': 46, 'Inferring Dependencies': 22, 'Exclusive Dependencies': 10, 'Context Uilization and Retrieval': 9, 'Resource Sharing': 9, 'Port Mapping': 5, 'Ambiguous Option Values': 3})\n",
      "llama3:8b\n",
      "158\n",
      "Counter({'Configuration Consistency': 53, 'Inferring Dependencies': 29, 'Inheritance and Overrides': 25, 'Exclusive Dependencies': 15, 'Resource Sharing': 11, 'Ambiguous Option Values': 11, 'Port Mapping': 10, 'Context Uilization and Retrieval': 4})\n",
      "llama3:70b\n",
      "154\n",
      "Counter({'Inheritance and Overrides': 49, 'Configuration Consistency': 46, 'Inferring Dependencies': 25, 'Context Uilization and Retrieval': 11, 'Exclusive Dependencies': 8, 'Port Mapping': 7, 'Resource Sharing': 4, 'Ambiguous Option Values': 4})\n"
     ]
    }
   ],
   "source": [
    "from collections import Counter\n",
    "\n",
    "models = [\"gpt-4o-2024-05-13\", \"gpt-3.5-turbo-0125\", \"llama3:8b\", \"llama3:70b\"]\n",
    "\n",
    "for model_name in models:\n",
    "    print(model_name)\n",
    "    df_model = df_without[df_without[\"llm\"] == model_name]\n",
    "    print(len(df_model))\n",
    "    counter = df_model[\"final_failure_category\"].to_list()\n",
    "    print(Counter(counter))\n",
    "\n"
   ]
  },
  {
   "cell_type": "code",
   "execution_count": 16,
   "metadata": {},
   "outputs": [
    {
     "name": "stdout",
     "output_type": "stream",
     "text": [
      "gpt-4o-2024-05-13\n",
      "116\n",
      "Counter({'Inheritance and Overrides': 50, 'Configuration Consistency': 38, 'Context Uilization and Retrieval': 15, 'Port Mapping': 7, 'Resource Sharing': 5, 'Ambiguous Option Values': 1})\n",
      "gpt-3.5-turbo-0125\n",
      "180\n",
      "Counter({'Configuration Consistency': 68, 'Inheritance and Overrides': 41, 'Inferring Dependencies': 25, 'Exclusive Dependencies': 16, 'Resource Sharing': 12, 'Port Mapping': 8, 'Ambiguous Option Values': 8, 'Context Uilization and Retrieval': 2})\n",
      "llama3:8b\n",
      "185\n",
      "Counter({'Configuration Consistency': 65, 'Inferring Dependencies': 45, 'Inheritance and Overrides': 29, 'Resource Sharing': 12, 'Ambiguous Option Values': 12, 'Exclusive Dependencies': 9, 'Port Mapping': 8, 'Context Uilization and Retrieval': 5})\n",
      "llama3:70b\n",
      "148\n",
      "Counter({'Configuration Consistency': 53, 'Inheritance and Overrides': 36, 'Context Uilization and Retrieval': 17, 'Inferring Dependencies': 15, 'Resource Sharing': 10, 'Ambiguous Option Values': 7, 'Port Mapping': 6, 'Exclusive Dependencies': 4})\n"
     ]
    }
   ],
   "source": [
    "from collections import Counter\n",
    "\n",
    "models = [\"gpt-4o-2024-05-13\", \"gpt-3.5-turbo-0125\", \"llama3:8b\", \"llama3:70b\"]\n",
    "\n",
    "for model_name in models:\n",
    "    print(model_name)\n",
    "    df_model = df_rag[df_rag[\"llm\"] == model_name]\n",
    "    print(len(df_model))\n",
    "    counter = df_model[\"final_failure_category\"].to_list()\n",
    "    print(Counter(counter))"
   ]
  }
 ],
 "metadata": {
  "kernelspec": {
   "display_name": "cval_env",
   "language": "python",
   "name": "python3"
  },
  "language_info": {
   "codemirror_mode": {
    "name": "ipython",
    "version": 3
   },
   "file_extension": ".py",
   "mimetype": "text/x-python",
   "name": "python",
   "nbconvert_exporter": "python",
   "pygments_lexer": "ipython3",
   "version": "3.10.12"
  }
 },
 "nbformat": 4,
 "nbformat_minor": 2
}
