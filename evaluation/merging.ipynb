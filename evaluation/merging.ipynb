{
 "cells": [
  {
   "cell_type": "code",
   "execution_count": 14,
   "metadata": {},
   "outputs": [
    {
     "ename": "FileNotFoundError",
     "evalue": "[Errno 2] No such file or directory: '../data/evaluation/results/llama3:8b/litemall_dependencies_all.json'",
     "output_type": "error",
     "traceback": [
      "\u001b[0;31m---------------------------------------------------------------------------\u001b[0m",
      "\u001b[0;31mFileNotFoundError\u001b[0m                         Traceback (most recent call last)",
      "Cell \u001b[0;32mIn[14], line 47\u001b[0m\n\u001b[1;32m     43\u001b[0m     df[\u001b[38;5;124m\"\u001b[39m\u001b[38;5;124mrag-gpt-3.5-turbo\u001b[39m\u001b[38;5;124m\"\u001b[39m] \u001b[38;5;241m=\u001b[39m isDependency\n\u001b[1;32m     46\u001b[0m \u001b[38;5;66;03m# rag-llama3:8b\u001b[39;00m\n\u001b[0;32m---> 47\u001b[0m \u001b[38;5;28;01mwith\u001b[39;00m \u001b[38;5;28;43mopen\u001b[39;49m\u001b[43m(\u001b[49m\u001b[43mllama38b_file\u001b[49m\u001b[43m,\u001b[49m\u001b[43m \u001b[49m\u001b[38;5;124;43m\"\u001b[39;49m\u001b[38;5;124;43mr\u001b[39;49m\u001b[38;5;124;43m\"\u001b[39;49m\u001b[43m,\u001b[49m\u001b[43m \u001b[49m\u001b[43mencoding\u001b[49m\u001b[38;5;241;43m=\u001b[39;49m\u001b[38;5;124;43m\"\u001b[39;49m\u001b[38;5;124;43mutf-8\u001b[39;49m\u001b[38;5;124;43m\"\u001b[39;49m\u001b[43m)\u001b[49m \u001b[38;5;28;01mas\u001b[39;00m src:\n\u001b[1;32m     48\u001b[0m     isDependency \u001b[38;5;241m=\u001b[39m []\n\u001b[1;32m     49\u001b[0m     data \u001b[38;5;241m=\u001b[39m json\u001b[38;5;241m.\u001b[39mload(src)\n",
      "File \u001b[0;32m~/GitHub/cval/env/lib/python3.9/site-packages/IPython/core/interactiveshell.py:310\u001b[0m, in \u001b[0;36m_modified_open\u001b[0;34m(file, *args, **kwargs)\u001b[0m\n\u001b[1;32m    303\u001b[0m \u001b[38;5;28;01mif\u001b[39;00m file \u001b[38;5;129;01min\u001b[39;00m {\u001b[38;5;241m0\u001b[39m, \u001b[38;5;241m1\u001b[39m, \u001b[38;5;241m2\u001b[39m}:\n\u001b[1;32m    304\u001b[0m     \u001b[38;5;28;01mraise\u001b[39;00m \u001b[38;5;167;01mValueError\u001b[39;00m(\n\u001b[1;32m    305\u001b[0m         \u001b[38;5;124mf\u001b[39m\u001b[38;5;124m\"\u001b[39m\u001b[38;5;124mIPython won\u001b[39m\u001b[38;5;124m'\u001b[39m\u001b[38;5;124mt let you open fd=\u001b[39m\u001b[38;5;132;01m{\u001b[39;00mfile\u001b[38;5;132;01m}\u001b[39;00m\u001b[38;5;124m by default \u001b[39m\u001b[38;5;124m\"\u001b[39m\n\u001b[1;32m    306\u001b[0m         \u001b[38;5;124m\"\u001b[39m\u001b[38;5;124mas it is likely to crash IPython. If you know what you are doing, \u001b[39m\u001b[38;5;124m\"\u001b[39m\n\u001b[1;32m    307\u001b[0m         \u001b[38;5;124m\"\u001b[39m\u001b[38;5;124myou can use builtins\u001b[39m\u001b[38;5;124m'\u001b[39m\u001b[38;5;124m open.\u001b[39m\u001b[38;5;124m\"\u001b[39m\n\u001b[1;32m    308\u001b[0m     )\n\u001b[0;32m--> 310\u001b[0m \u001b[38;5;28;01mreturn\u001b[39;00m \u001b[43mio_open\u001b[49m\u001b[43m(\u001b[49m\u001b[43mfile\u001b[49m\u001b[43m,\u001b[49m\u001b[43m \u001b[49m\u001b[38;5;241;43m*\u001b[39;49m\u001b[43margs\u001b[49m\u001b[43m,\u001b[49m\u001b[43m \u001b[49m\u001b[38;5;241;43m*\u001b[39;49m\u001b[38;5;241;43m*\u001b[39;49m\u001b[43mkwargs\u001b[49m\u001b[43m)\u001b[49m\n",
      "\u001b[0;31mFileNotFoundError\u001b[0m: [Errno 2] No such file or directory: '../data/evaluation/results/llama3:8b/litemall_dependencies_all.json'"
     ]
    }
   ],
   "source": [
    "import pandas as pd\n",
    "import json\n",
    "\n",
    "\n",
    "projects = [\"piggymetrics\", \"litemall\", \"mall\", \"mall-swarm\", \"jetlinks-community\", \"music-website\", \"pig\", \"spring-boot-admin\", \"Spring-Cloud-Platform\", \"apollo\"]\n",
    "\n",
    "\n",
    "\n",
    "for name in projects:\n",
    "\n",
    "    baseline_file = f\"../data/evaluation/data/{name}_dependencies.csv\"\n",
    "    gpt40_file = f\"../data/evaluation/results/gpt4o/{name}_dependencies_all.json\"\n",
    "    gpt35_file = f\"../data/evaluation/results/gpt3.5/{name}_dependencies_all.json\"\n",
    "    llama38b_file = f\"../data/evaluation/results/llama3:8b/{name}_dependencies_all.json\"\n",
    "    #llama370b_file = f\"../data/evaluation/results/llama3:70b/piggymetrics_dependencies.csv\"\n",
    "\n",
    "    df = pd.read_csv(baseline_file)\n",
    "\n",
    "    # rag-gtp-4\n",
    "    with open(gpt40_file, \"r\", encoding=\"utf-8\") as src:\n",
    "        isDependency = []\n",
    "        data = json.load(src)\n",
    "        for x in data:\n",
    "            try:\n",
    "                response = json.loads(x[\"response\"])\n",
    "                isDependency.append(response[\"isDependency\"])\n",
    "            except json.JSONDecodeError:\n",
    "                isDependency.append(None)\n",
    "\n",
    "        df[\"rag-gpt-4o\"] = isDependency\n",
    "    \n",
    "    # rag-gpt-3.5-turbo\n",
    "    with open(gpt35_file, \"r\", encoding=\"utf-8\") as src:\n",
    "        isDependency = []\n",
    "        data = json.load(src)\n",
    "        for x in data:\n",
    "            try:\n",
    "                response = json.loads(x[\"response\"])\n",
    "                isDependency.append(response[\"isDependency\"])\n",
    "            except json.JSONDecodeError:\n",
    "                isDependency.append(None)\n",
    "\n",
    "        df[\"rag-gpt-3.5-turbo\"] = isDependency\n",
    "\n",
    "    \n",
    "    # rag-llama3:8b\n",
    "    with open(llama38b_file, \"r\", encoding=\"utf-8\") as src:\n",
    "        isDependency = []\n",
    "        data = json.load(src)\n",
    "        for x in data:\n",
    "            try:\n",
    "                response = json.loads(x[\"response\"])\n",
    "                isDependency.append(response[\"isDependency\"])\n",
    "            except json.JSONDecodeError:\n",
    "                isDependency.append(None)\n",
    "\n",
    "        df[\"rag-llama3:8b\"] = isDependency\n",
    "\n",
    "    df.to_csv(baseline_file, index=False)"
   ]
  },
  {
   "cell_type": "code",
   "execution_count": null,
   "metadata": {},
   "outputs": [],
   "source": []
  }
 ],
 "metadata": {
  "kernelspec": {
   "display_name": "env",
   "language": "python",
   "name": "python3"
  },
  "language_info": {
   "codemirror_mode": {
    "name": "ipython",
    "version": 3
   },
   "file_extension": ".py",
   "mimetype": "text/x-python",
   "name": "python",
   "nbconvert_exporter": "python",
   "pygments_lexer": "ipython3",
   "version": "3.9.5"
  }
 },
 "nbformat": 4,
 "nbformat_minor": 2
}
