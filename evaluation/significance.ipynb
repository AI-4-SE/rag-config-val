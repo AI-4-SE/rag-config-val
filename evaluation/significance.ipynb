{
 "cells": [
  {
   "cell_type": "code",
   "execution_count": 23,
   "metadata": {},
   "outputs": [
    {
     "name": "stdout",
     "output_type": "stream",
     "text": [
      "500\n",
      "500\n",
      "Paired t-test p-value: 0.4860478256879981\n",
      "0.6971272230461244\n"
     ]
    }
   ],
   "source": [
    "import json\n",
    "import scipy.stats as stats\n",
    "from typing import List\n",
    "\n",
    "file_variant_1 = \"../data/evaluation/config1/all_dependencies_all_gpt-4o-2024-05-13.json\"\n",
    "file_variant_2 = \"../data/evaluation/config2/all_dependencies_all_gpt-4o-2024-05-13.json\"\n",
    "file_variant_3 = \"../data/evaluation/config3/all_dependencies_all_gpt-4o-2024-05-13.json\"\n",
    "file_variant_5 = \"../data/evaluation/config5/all_dependencies_all_gpt-4o-2024-05-13.json\"\n",
    "file_without =  \"../data/evaluation/without/all_dependencies_without_gpt-4o-2024-05-13.json\"\n",
    "\n",
    "def get_dependencies(file_path: str) -> List:\n",
    "    dependencies = []\n",
    "\n",
    "    with open(file_path, \"r\", encoding=\"utf-8\") as src:\n",
    "        data = json.load(src)[:100]\n",
    "\n",
    "        for entry in data:\n",
    "            if \"responses\" in entry:\n",
    "                response = entry[\"responses\"][0]\n",
    "                response_dict = json.loads(response)\n",
    "                if str(response_dict[\"isDependency\"]).lower() == \"true\":\n",
    "                    dependencies.append(1)\n",
    "                if str(response_dict[\"isDependency\"]).lower() == \"false\":\n",
    "                    dependencies.append(2)\n",
    "            else:\n",
    "                response = entry[\"response\"]\n",
    "                response_dict = json.loads(response)\n",
    "                if str(response_dict[\"isDependency\"]).lower() == \"true\":\n",
    "                    dependencies.append(1)\n",
    "                elif str(response_dict[\"isDependency\"]).lower() == \"false\":\n",
    "                    dependencies.append(2)\n",
    "\n",
    "    return dependencies\n",
    "\n",
    "\n",
    "variant_1_results = get_dependencies(file_path=file_variant_1)\n",
    "variant_2_results = get_dependencies(file_path=file_variant_2)\n",
    "variant_3_results = get_dependencies(file_path=file_variant_3)\n",
    "variant_5_results = get_dependencies(file_path=file_variant_5)\n",
    "without_results = get_dependencies(file_path=file_without)\n",
    "\n",
    "\n",
    "print(len(variant_3_results))\n",
    "print(len(without_results))\n",
    "\n",
    "t_statistic, p_value = stats.ttest_rel(without_results, variant_5_results)\n",
    "print(f\"Paired t-test p-value: {p_value}\")\n",
    "print(t_statistic)"
   ]
  }
 ],
 "metadata": {
  "kernelspec": {
   "display_name": "env",
   "language": "python",
   "name": "python3"
  },
  "language_info": {
   "codemirror_mode": {
    "name": "ipython",
    "version": 3
   },
   "file_extension": ".py",
   "mimetype": "text/x-python",
   "name": "python",
   "nbconvert_exporter": "python",
   "pygments_lexer": "ipython3",
   "version": "3.9.5"
  }
 },
 "nbformat": 4,
 "nbformat_minor": 2
}
