{
 "cells": [
  {
   "cell_type": "markdown",
   "metadata": {},
   "source": [
    "**Qualitative Analysis of Validation Responses**"
   ]
  },
  {
   "cell_type": "code",
   "execution_count": 6,
   "metadata": {},
   "outputs": [],
   "source": [
    "from typing import List, Dict\n",
    "import tiktoken\n",
    "\n",
    "def get_context_length(entry: Dict, encoding_name: str = \"cl100k_base\") -> int:\n",
    "    encoding = tiktoken.get_encoding(encoding_name)\n",
    "    num_tokens = len(encoding.encode(entry[\"context_str\"]))\n",
    "    return num_tokens\n",
    "\n",
    "\n",
    "def get_source_types(entry: Dict) -> List[str]:\n",
    "    context = entry[\"context\"]\n",
    "    source_types = [x[\"index\"] for x in context]\n",
    "    return source_types"
   ]
  },
  {
   "cell_type": "code",
   "execution_count": 70,
   "metadata": {},
   "outputs": [
    {
     "name": "stdout",
     "output_type": "stream",
     "text": [
      "Invalid control character at: line 2 column 236 (char 237)\n",
      "Invalid control character at: line 2 column 333 (char 334)\n",
      "Invalid control character at: line 2 column 190 (char 191)\n",
      "Invalid control character at: line 2 column 241 (char 242)\n",
      "Invalid control character at: line 2 column 140 (char 141)\n"
     ]
    }
   ],
   "source": [
    "import json\n",
    "import pandas as pd\n",
    "import os\n",
    "\n",
    "\n",
    "def get_stats(model_name: str):\n",
    "\n",
    "    data_file = f\"../data/evaluation/without/all_dependencies_without_{model_name}.json\"\n",
    "    baseline_file = \"../data/evaluation/all_dependencies.csv\"\n",
    "    output_dir = \"../data/evaluation/analysis\"\n",
    "    output_file = os.path.join(output_dir, \"without_\" + model_name + \"_stats.csv\")\n",
    "\n",
    "    with open(data_file, \"r\", encoding=\"utf-8\") as src:\n",
    "        data = json.load(src)\n",
    "\n",
    "    df = pd.read_csv(baseline_file)\n",
    "\n",
    "    stats = []\n",
    "\n",
    "    for entry, (index, row) in zip(data, df.iterrows()):\n",
    "        \n",
    "        if \"responses\" in entry:\n",
    "            response = entry[\"responses\"][0]\n",
    "        else:\n",
    "            response = entry[\"response\"]\n",
    "\n",
    "        try:\n",
    "            if \"responses\" in entry:\n",
    "                response = entry[\"responses\"][0]\n",
    "            else:\n",
    "                response = entry[\"response\"]\n",
    "            response_dict = json.loads(response)\n",
    "            isDependency = response_dict[\"isDependency\"]\n",
    "        except json.JSONDecodeError as error:\n",
    "            print(error)\n",
    "        except KeyError:\n",
    "            return\n",
    "\n",
    "        rating = row[\"final_rating\"]\n",
    "        \n",
    "        # checl borderline cases\n",
    "        if str(rating) == \"Borderline\":\n",
    "            continue\n",
    "            #errors.append({\n",
    "            #    \"index\": index,\n",
    "            #    \"model_name\": model_name,\n",
    "            #    \"rating\": \"borderline\",\n",
    "            #    \"response_rating\": str(isDependency),\n",
    "            #    \"term\": \"None\"\n",
    "            #})\n",
    "\n",
    "        \n",
    "        # FP: The LLM validates a dependency as correct, but the dependency is actually incorrect\n",
    "        if isDependency and str(rating).lower() == \"false\":\n",
    "            stats.append({\n",
    "                \"index\": index,\n",
    "                \"rating\": rating,\n",
    "                \"response_rating\": str(isDependency),\n",
    "                model_name: \"FP\",\n",
    "            })\n",
    "\n",
    "        # FN: The LLM validates a dependency as incorrect, but the dependency is actually correct\n",
    "        if not isDependency and  str(rating).lower() == \"true\":\n",
    "            stats.append({\n",
    "                \"index\": index,\n",
    "                \"rating\": rating,\n",
    "                \"response_rating\": str(isDependency),\n",
    "                model_name: \"FN\",\n",
    "            })\n",
    "\n",
    "\n",
    "        # TP: The LLM validates a dependency as correct and the dependency is correct\n",
    "        if isDependency and str(rating).lower() == \"true\":\n",
    "            stats.append({\n",
    "                \"index\": index,\n",
    "                \"rating\": rating,\n",
    "                \"response_rating\": str(isDependency),\n",
    "                model_name: \"TP\",\n",
    "            })\n",
    "\n",
    "\n",
    "        # TN: The LLM validates a dependency as incorrect and the dependency is incorrect\n",
    "        if not isDependency and str(rating).lower() == \"false\":\n",
    "            stats.append({\n",
    "                \"index\": index,\n",
    "                \"rating\": rating,\n",
    "                \"response_rating\": str(isDependency),\n",
    "                model_name: \"TN\",\n",
    "            })\n",
    "\n",
    "\n",
    "    df_stats = pd.DataFrame(stats)   \n",
    "    df_stats.to_csv(output_file, index=False)\n",
    "\n",
    "\n",
    "model_names = [\"gpt-3.5-turbo-0125\", \"gpt-4o-2024-05-13\", \"llama3:8b\", \"llama3:70b\"]\n",
    "for name in model_names:\n",
    "    get_stats(model_name=name)\n",
    "    "
   ]
  },
  {
   "cell_type": "code",
   "execution_count": 59,
   "metadata": {},
   "outputs": [],
   "source": [
    "import pandas as pd\n",
    "\n",
    "df_gpt4o = pd.read_csv(\"../data/evaluation/analysis/without_gpt-4o-2024-05-13_stats.csv\")\n",
    "df_gpt35_turbo = pd.read_csv(\"../data/evaluation/analysis/without_gpt-3.5-turbo-0125_stats.csv\")\n",
    "df_llama70b = pd.read_csv(\"../data/evaluation/analysis/without_llama3:70b_stats.csv\")\n",
    "#df_llama8b = pd.read_csv(\"../data/evaluation/analysis/without_llama3:8b_stats.csv\")\n",
    "\n",
    "\n",
    "df_all = df_gpt4o\n",
    "\n",
    "df_all[\"gpt-3.5-turbo-0125\"] = df_gpt35_turbo[\"gpt-3.5-turbo-0125\"]\n",
    "df_all[\"llama3:70b\"] = df_llama70b[\"llama3:70b\"]\n",
    "#df_baseline[\"llama3:8b\"] = df_llama8b[\"llama3:8b\"\"]\n",
    "\n",
    "df_all.to_csv(\"../data/evaluation/analysis/all.csv\", index=False)"
   ]
  },
  {
   "cell_type": "code",
   "execution_count": 66,
   "metadata": {},
   "outputs": [
    {
     "name": "stderr",
     "output_type": "stream",
     "text": [
      "/tmp/ipykernel_1080063/1211512494.py:14: SettingWithCopyWarning: \n",
      "A value is trying to be set on a copy of a slice from a DataFrame.\n",
      "Try using .loc[row_indexer,col_indexer] = value instead\n",
      "\n",
      "See the caveats in the documentation: https://pandas.pydata.org/pandas-docs/stable/user_guide/indexing.html#returning-a-view-versus-a-copy\n",
      "  filtered_df_all['FP_FN_count'] = filtered_df_all[model_columns].apply(lambda row: row.isin(['FP', 'FN']).sum(), axis=1)\n"
     ]
    }
   ],
   "source": [
    "import pandas as pd\n",
    "\n",
    "df = pd.read_csv(\"../data/evaluation/analysis/all.csv\")\n",
    "\n",
    "# List of model columns to check\n",
    "model_columns = ['llama3:70b', 'gpt-4o-2024-05-13', 'gpt-3.5-turbo-0125']\n",
    "\n",
    "# Create a boolean mask where True indicates the presence of 'FP' or 'FN' in any of the specified model columns\n",
    "mask = df[model_columns].apply(lambda x: x.isin(['FP', 'FN']), axis=1).any(axis=1)\n",
    "\n",
    "# Filter the dataframe using the mask\n",
    "filtered_df_all = df[mask]\n",
    "\n",
    "filtered_df_all['FP_FN_count'] = filtered_df_all[model_columns].apply(lambda row: row.isin(['FP', 'FN']).sum(), axis=1)\n",
    "\n",
    "sorted_df_all =  filtered_df_all.sort_values(by='FP_FN_count', ascending=False)\n",
    "\n",
    "# Save the filtered dataframe if needed\n",
    "sorted_df_all.to_csv('../data/evaluation/analysis/failures.csv', index=False)"
   ]
  },
  {
   "cell_type": "code",
   "execution_count": 67,
   "metadata": {},
   "outputs": [
    {
     "data": {
      "text/plain": [
       "Counter({1: 160, 2: 77, 3: 17})"
      ]
     },
     "execution_count": 67,
     "metadata": {},
     "output_type": "execute_result"
    }
   ],
   "source": [
    "import pandas as pd\n",
    "from collections import Counter\n",
    "\n",
    "df = pd.read_csv('../data/evaluation/analysis/failures.csv')\n",
    "\n",
    "count = df[\"FP_FN_count\"].to_list()\n",
    "\n",
    "counter = Counter(count)\n",
    "\n",
    "counter"
   ]
  },
  {
   "cell_type": "code",
   "execution_count": 69,
   "metadata": {},
   "outputs": [],
   "source": [
    "import pandas as pd\n",
    "import json\n",
    "\n",
    "df_failures = pd.read_csv('../data/evaluation/analysis/failures.csv')\n",
    "indices = df[\"index\"].to_list()\n",
    "\n",
    "with open(\"../data/evaluation/config1/all_dependencies_all.json\", \"r\", encoding=\"utf-8\") as src:\n",
    "    data = json.load(src)\n",
    "\n",
    "\n",
    "dependencies = []\n",
    "\n",
    "for entry in data:\n",
    "    if entry[\"index\"] in indices:\n",
    "        dependencies.append(\n",
    "            {\n",
    "                \"index\": entry[\"index\"],\n",
    "                \"dependency\": entry[\"dependency\"]\n",
    "            }\n",
    "        )\n",
    "\n",
    "with open('../data/evaluation/analysis/failures.json', \"w\", encoding=\"utf-8\") as dest:\n",
    "    json.dump(dependencies, dest, indent=2)\n"
   ]
  }
 ],
 "metadata": {
  "kernelspec": {
   "display_name": "cval_env",
   "language": "python",
   "name": "python3"
  },
  "language_info": {
   "codemirror_mode": {
    "name": "ipython",
    "version": 3
   },
   "file_extension": ".py",
   "mimetype": "text/x-python",
   "name": "python",
   "nbconvert_exporter": "python",
   "pygments_lexer": "ipython3",
   "version": "3.10.12"
  }
 },
 "nbformat": 4,
 "nbformat_minor": 2
}
