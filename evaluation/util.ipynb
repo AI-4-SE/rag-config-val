{
 "cells": [
  {
   "cell_type": "code",
   "execution_count": 4,
   "metadata": {},
   "outputs": [
    {
     "name": "stdout",
     "output_type": "stream",
     "text": [
      "Base URL: http://172.26.92.115\n",
      "Proxy Server Key: 0ad58c3e-b9f4-4913-b8c9-7cd8e2fec7ab\n",
      "GPT (gpt-4o-mini-2024-07-18) generator initialized.\n",
      "Start generation using gpt-4o-mini-2024-07-18\n"
     ]
    },
    {
     "data": {
      "text/html": [
       "<pre style=\"white-space:pre;overflow-x:auto;line-height:normal;font-family:Menlo,'DejaVu Sans Mono',consolas,'Courier New',monospace\"><span style=\"color: #7fbfbf; text-decoration-color: #7fbfbf\">[02/05/25 17:15:07] </span><span style=\"color: #000080; text-decoration-color: #000080\">INFO    </span> HTTP Request: <span style=\"color: #808000; text-decoration-color: #808000; font-weight: bold\">POST</span> <span style=\"color: #0000ff; text-decoration-color: #0000ff; text-decoration: underline\">http://172.26.92.115/chat/completions</span> <span style=\"color: #008000; text-decoration-color: #008000\">\"HTTP/1.1 200</span> <a href=\"file:///Users/sebastiansimon/GitHub/rag-config-val/env/lib/python3.12/site-packages/httpx/_client.py\" target=\"_blank\"><span style=\"color: #7f7f7f; text-decoration-color: #7f7f7f\">_client.py</span></a><span style=\"color: #7f7f7f; text-decoration-color: #7f7f7f\">:</span><a href=\"file:///Users/sebastiansimon/GitHub/rag-config-val/env/lib/python3.12/site-packages/httpx/_client.py#1025\" target=\"_blank\"><span style=\"color: #7f7f7f; text-decoration-color: #7f7f7f\">1025</span></a>\n",
       "<span style=\"color: #7fbfbf; text-decoration-color: #7fbfbf\">                    </span>         <span style=\"color: #008000; text-decoration-color: #008000\">OK\"</span>                                                                    <span style=\"color: #7f7f7f; text-decoration-color: #7f7f7f\">               </span>\n",
       "</pre>\n"
      ],
      "text/plain": [
       "\u001b[2;36m[02/05/25 17:15:07]\u001b[0m\u001b[2;36m \u001b[0m\u001b[34mINFO    \u001b[0m HTTP Request: \u001b[1;33mPOST\u001b[0m \u001b[4;94mhttp://172.26.92.115/chat/completions\u001b[0m \u001b[32m\"HTTP/1.1 200\u001b[0m \u001b]8;id=250922;file:///Users/sebastiansimon/GitHub/rag-config-val/env/lib/python3.12/site-packages/httpx/_client.py\u001b\\\u001b[2m_client.py\u001b[0m\u001b]8;;\u001b\\\u001b[2m:\u001b[0m\u001b]8;id=415583;file:///Users/sebastiansimon/GitHub/rag-config-val/env/lib/python3.12/site-packages/httpx/_client.py#1025\u001b\\\u001b[2m1025\u001b[0m\u001b]8;;\u001b\\\n",
       "\u001b[2;36m                    \u001b[0m         \u001b[32mOK\"\u001b[0m                                                                    \u001b[2m               \u001b[0m\n"
      ]
     },
     "metadata": {},
     "output_type": "display_data"
    },
    {
     "name": "stdout",
     "output_type": "stream",
     "text": [
      "Add response to answer pool.\n",
      "Start generation using gpt-4o-mini-2024-07-18\n"
     ]
    },
    {
     "data": {
      "text/html": [
       "<pre style=\"white-space:pre;overflow-x:auto;line-height:normal;font-family:Menlo,'DejaVu Sans Mono',consolas,'Courier New',monospace\"><span style=\"color: #7fbfbf; text-decoration-color: #7fbfbf\">[02/05/25 17:15:11] </span><span style=\"color: #000080; text-decoration-color: #000080\">INFO    </span> HTTP Request: <span style=\"color: #808000; text-decoration-color: #808000; font-weight: bold\">POST</span> <span style=\"color: #0000ff; text-decoration-color: #0000ff; text-decoration: underline\">http://172.26.92.115/chat/completions</span> <span style=\"color: #008000; text-decoration-color: #008000\">\"HTTP/1.1 200</span> <a href=\"file:///Users/sebastiansimon/GitHub/rag-config-val/env/lib/python3.12/site-packages/httpx/_client.py\" target=\"_blank\"><span style=\"color: #7f7f7f; text-decoration-color: #7f7f7f\">_client.py</span></a><span style=\"color: #7f7f7f; text-decoration-color: #7f7f7f\">:</span><a href=\"file:///Users/sebastiansimon/GitHub/rag-config-val/env/lib/python3.12/site-packages/httpx/_client.py#1025\" target=\"_blank\"><span style=\"color: #7f7f7f; text-decoration-color: #7f7f7f\">1025</span></a>\n",
       "<span style=\"color: #7fbfbf; text-decoration-color: #7fbfbf\">                    </span>         <span style=\"color: #008000; text-decoration-color: #008000\">OK\"</span>                                                                    <span style=\"color: #7f7f7f; text-decoration-color: #7f7f7f\">               </span>\n",
       "</pre>\n"
      ],
      "text/plain": [
       "\u001b[2;36m[02/05/25 17:15:11]\u001b[0m\u001b[2;36m \u001b[0m\u001b[34mINFO    \u001b[0m HTTP Request: \u001b[1;33mPOST\u001b[0m \u001b[4;94mhttp://172.26.92.115/chat/completions\u001b[0m \u001b[32m\"HTTP/1.1 200\u001b[0m \u001b]8;id=565554;file:///Users/sebastiansimon/GitHub/rag-config-val/env/lib/python3.12/site-packages/httpx/_client.py\u001b\\\u001b[2m_client.py\u001b[0m\u001b]8;;\u001b\\\u001b[2m:\u001b[0m\u001b]8;id=779334;file:///Users/sebastiansimon/GitHub/rag-config-val/env/lib/python3.12/site-packages/httpx/_client.py#1025\u001b\\\u001b[2m1025\u001b[0m\u001b]8;;\u001b\\\n",
       "\u001b[2;36m                    \u001b[0m         \u001b[32mOK\"\u001b[0m                                                                    \u001b[2m               \u001b[0m\n"
      ]
     },
     "metadata": {},
     "output_type": "display_data"
    },
    {
     "name": "stdout",
     "output_type": "stream",
     "text": [
      "Add response to answer pool.\n",
      "Start generation using gpt-4o-mini-2024-07-18\n"
     ]
    },
    {
     "data": {
      "text/html": [
       "<pre style=\"white-space:pre;overflow-x:auto;line-height:normal;font-family:Menlo,'DejaVu Sans Mono',consolas,'Courier New',monospace\"><span style=\"color: #7fbfbf; text-decoration-color: #7fbfbf\">[02/05/25 17:15:15] </span><span style=\"color: #000080; text-decoration-color: #000080\">INFO    </span> HTTP Request: <span style=\"color: #808000; text-decoration-color: #808000; font-weight: bold\">POST</span> <span style=\"color: #0000ff; text-decoration-color: #0000ff; text-decoration: underline\">http://172.26.92.115/chat/completions</span> <span style=\"color: #008000; text-decoration-color: #008000\">\"HTTP/1.1 200</span> <a href=\"file:///Users/sebastiansimon/GitHub/rag-config-val/env/lib/python3.12/site-packages/httpx/_client.py\" target=\"_blank\"><span style=\"color: #7f7f7f; text-decoration-color: #7f7f7f\">_client.py</span></a><span style=\"color: #7f7f7f; text-decoration-color: #7f7f7f\">:</span><a href=\"file:///Users/sebastiansimon/GitHub/rag-config-val/env/lib/python3.12/site-packages/httpx/_client.py#1025\" target=\"_blank\"><span style=\"color: #7f7f7f; text-decoration-color: #7f7f7f\">1025</span></a>\n",
       "<span style=\"color: #7fbfbf; text-decoration-color: #7fbfbf\">                    </span>         <span style=\"color: #008000; text-decoration-color: #008000\">OK\"</span>                                                                    <span style=\"color: #7f7f7f; text-decoration-color: #7f7f7f\">               </span>\n",
       "</pre>\n"
      ],
      "text/plain": [
       "\u001b[2;36m[02/05/25 17:15:15]\u001b[0m\u001b[2;36m \u001b[0m\u001b[34mINFO    \u001b[0m HTTP Request: \u001b[1;33mPOST\u001b[0m \u001b[4;94mhttp://172.26.92.115/chat/completions\u001b[0m \u001b[32m\"HTTP/1.1 200\u001b[0m \u001b]8;id=563364;file:///Users/sebastiansimon/GitHub/rag-config-val/env/lib/python3.12/site-packages/httpx/_client.py\u001b\\\u001b[2m_client.py\u001b[0m\u001b]8;;\u001b\\\u001b[2m:\u001b[0m\u001b]8;id=328209;file:///Users/sebastiansimon/GitHub/rag-config-val/env/lib/python3.12/site-packages/httpx/_client.py#1025\u001b\\\u001b[2m1025\u001b[0m\u001b]8;;\u001b\\\n",
       "\u001b[2;36m                    \u001b[0m         \u001b[32mOK\"\u001b[0m                                                                    \u001b[2m               \u001b[0m\n"
      ]
     },
     "metadata": {},
     "output_type": "display_data"
    },
    {
     "name": "stdout",
     "output_type": "stream",
     "text": [
      "Add response to answer pool.\n",
      "Get dominant response.\n",
      "{'plan': \"1. Identify the configuration options in question: project.modelVersion from both apollo-audit/apollo-audit-api/pom.xml and apollo-biz/pom.xml. 2. Check the values of both configuration options; both have the value 'modelVersion:4.0.0'. 3. Evaluate whether the identical values indicate a value-equality dependency; since both options have the same value, they could be considered dependent on each other. 4. Consider the context of the configuration options within Maven; since both are modelVersion configurations and are identical in value, conclude the evaluation.\", 'rationale': 'The configuration options project.modelVersion in both files have identical values (modelVersion:4.0.0). In Maven, the modelVersion typically indicates the version of the POM model being used. Since both configurations are related to defining the same aspect of the Maven project structure and have the same value, they depend on each other due to value-equality.', 'isDependency': True} <class 'dict'>\n",
      "Start generation using gpt-4o-mini-2024-07-18\n"
     ]
    },
    {
     "data": {
      "text/html": [
       "<pre style=\"white-space:pre;overflow-x:auto;line-height:normal;font-family:Menlo,'DejaVu Sans Mono',consolas,'Courier New',monospace\"><span style=\"color: #7fbfbf; text-decoration-color: #7fbfbf\">[02/05/25 17:15:25] </span><span style=\"color: #000080; text-decoration-color: #000080\">INFO    </span> HTTP Request: <span style=\"color: #808000; text-decoration-color: #808000; font-weight: bold\">POST</span> <span style=\"color: #0000ff; text-decoration-color: #0000ff; text-decoration: underline\">http://172.26.92.115/chat/completions</span> <span style=\"color: #008000; text-decoration-color: #008000\">\"HTTP/1.1 200</span> <a href=\"file:///Users/sebastiansimon/GitHub/rag-config-val/env/lib/python3.12/site-packages/httpx/_client.py\" target=\"_blank\"><span style=\"color: #7f7f7f; text-decoration-color: #7f7f7f\">_client.py</span></a><span style=\"color: #7f7f7f; text-decoration-color: #7f7f7f\">:</span><a href=\"file:///Users/sebastiansimon/GitHub/rag-config-val/env/lib/python3.12/site-packages/httpx/_client.py#1025\" target=\"_blank\"><span style=\"color: #7f7f7f; text-decoration-color: #7f7f7f\">1025</span></a>\n",
       "<span style=\"color: #7fbfbf; text-decoration-color: #7fbfbf\">                    </span>         <span style=\"color: #008000; text-decoration-color: #008000\">OK\"</span>                                                                    <span style=\"color: #7f7f7f; text-decoration-color: #7f7f7f\">               </span>\n",
       "</pre>\n"
      ],
      "text/plain": [
       "\u001b[2;36m[02/05/25 17:15:25]\u001b[0m\u001b[2;36m \u001b[0m\u001b[34mINFO    \u001b[0m HTTP Request: \u001b[1;33mPOST\u001b[0m \u001b[4;94mhttp://172.26.92.115/chat/completions\u001b[0m \u001b[32m\"HTTP/1.1 200\u001b[0m \u001b]8;id=875493;file:///Users/sebastiansimon/GitHub/rag-config-val/env/lib/python3.12/site-packages/httpx/_client.py\u001b\\\u001b[2m_client.py\u001b[0m\u001b]8;;\u001b\\\u001b[2m:\u001b[0m\u001b]8;id=376715;file:///Users/sebastiansimon/GitHub/rag-config-val/env/lib/python3.12/site-packages/httpx/_client.py#1025\u001b\\\u001b[2m1025\u001b[0m\u001b]8;;\u001b\\\n",
       "\u001b[2;36m                    \u001b[0m         \u001b[32mOK\"\u001b[0m                                                                    \u001b[2m               \u001b[0m\n"
      ]
     },
     "metadata": {},
     "output_type": "display_data"
    },
    {
     "name": "stdout",
     "output_type": "stream",
     "text": [
      "Add response to answer pool.\n",
      "Start generation using gpt-4o-mini-2024-07-18\n"
     ]
    },
    {
     "data": {
      "text/html": [
       "<pre style=\"white-space:pre;overflow-x:auto;line-height:normal;font-family:Menlo,'DejaVu Sans Mono',consolas,'Courier New',monospace\"><span style=\"color: #7fbfbf; text-decoration-color: #7fbfbf\">[02/05/25 17:15:29] </span><span style=\"color: #000080; text-decoration-color: #000080\">INFO    </span> HTTP Request: <span style=\"color: #808000; text-decoration-color: #808000; font-weight: bold\">POST</span> <span style=\"color: #0000ff; text-decoration-color: #0000ff; text-decoration: underline\">http://172.26.92.115/chat/completions</span> <span style=\"color: #008000; text-decoration-color: #008000\">\"HTTP/1.1 200</span> <a href=\"file:///Users/sebastiansimon/GitHub/rag-config-val/env/lib/python3.12/site-packages/httpx/_client.py\" target=\"_blank\"><span style=\"color: #7f7f7f; text-decoration-color: #7f7f7f\">_client.py</span></a><span style=\"color: #7f7f7f; text-decoration-color: #7f7f7f\">:</span><a href=\"file:///Users/sebastiansimon/GitHub/rag-config-val/env/lib/python3.12/site-packages/httpx/_client.py#1025\" target=\"_blank\"><span style=\"color: #7f7f7f; text-decoration-color: #7f7f7f\">1025</span></a>\n",
       "<span style=\"color: #7fbfbf; text-decoration-color: #7fbfbf\">                    </span>         <span style=\"color: #008000; text-decoration-color: #008000\">OK\"</span>                                                                    <span style=\"color: #7f7f7f; text-decoration-color: #7f7f7f\">               </span>\n",
       "</pre>\n"
      ],
      "text/plain": [
       "\u001b[2;36m[02/05/25 17:15:29]\u001b[0m\u001b[2;36m \u001b[0m\u001b[34mINFO    \u001b[0m HTTP Request: \u001b[1;33mPOST\u001b[0m \u001b[4;94mhttp://172.26.92.115/chat/completions\u001b[0m \u001b[32m\"HTTP/1.1 200\u001b[0m \u001b]8;id=158834;file:///Users/sebastiansimon/GitHub/rag-config-val/env/lib/python3.12/site-packages/httpx/_client.py\u001b\\\u001b[2m_client.py\u001b[0m\u001b]8;;\u001b\\\u001b[2m:\u001b[0m\u001b]8;id=349728;file:///Users/sebastiansimon/GitHub/rag-config-val/env/lib/python3.12/site-packages/httpx/_client.py#1025\u001b\\\u001b[2m1025\u001b[0m\u001b]8;;\u001b\\\n",
       "\u001b[2;36m                    \u001b[0m         \u001b[32mOK\"\u001b[0m                                                                    \u001b[2m               \u001b[0m\n"
      ]
     },
     "metadata": {},
     "output_type": "display_data"
    },
    {
     "name": "stdout",
     "output_type": "stream",
     "text": [
      "Add response to answer pool.\n",
      "Start generation using gpt-4o-mini-2024-07-18\n"
     ]
    },
    {
     "data": {
      "text/html": [
       "<pre style=\"white-space:pre;overflow-x:auto;line-height:normal;font-family:Menlo,'DejaVu Sans Mono',consolas,'Courier New',monospace\"><span style=\"color: #7fbfbf; text-decoration-color: #7fbfbf\">[02/05/25 17:15:32] </span><span style=\"color: #000080; text-decoration-color: #000080\">INFO    </span> HTTP Request: <span style=\"color: #808000; text-decoration-color: #808000; font-weight: bold\">POST</span> <span style=\"color: #0000ff; text-decoration-color: #0000ff; text-decoration: underline\">http://172.26.92.115/chat/completions</span> <span style=\"color: #008000; text-decoration-color: #008000\">\"HTTP/1.1 200</span> <a href=\"file:///Users/sebastiansimon/GitHub/rag-config-val/env/lib/python3.12/site-packages/httpx/_client.py\" target=\"_blank\"><span style=\"color: #7f7f7f; text-decoration-color: #7f7f7f\">_client.py</span></a><span style=\"color: #7f7f7f; text-decoration-color: #7f7f7f\">:</span><a href=\"file:///Users/sebastiansimon/GitHub/rag-config-val/env/lib/python3.12/site-packages/httpx/_client.py#1025\" target=\"_blank\"><span style=\"color: #7f7f7f; text-decoration-color: #7f7f7f\">1025</span></a>\n",
       "<span style=\"color: #7fbfbf; text-decoration-color: #7fbfbf\">                    </span>         <span style=\"color: #008000; text-decoration-color: #008000\">OK\"</span>                                                                    <span style=\"color: #7f7f7f; text-decoration-color: #7f7f7f\">               </span>\n",
       "</pre>\n"
      ],
      "text/plain": [
       "\u001b[2;36m[02/05/25 17:15:32]\u001b[0m\u001b[2;36m \u001b[0m\u001b[34mINFO    \u001b[0m HTTP Request: \u001b[1;33mPOST\u001b[0m \u001b[4;94mhttp://172.26.92.115/chat/completions\u001b[0m \u001b[32m\"HTTP/1.1 200\u001b[0m \u001b]8;id=541818;file:///Users/sebastiansimon/GitHub/rag-config-val/env/lib/python3.12/site-packages/httpx/_client.py\u001b\\\u001b[2m_client.py\u001b[0m\u001b]8;;\u001b\\\u001b[2m:\u001b[0m\u001b]8;id=387608;file:///Users/sebastiansimon/GitHub/rag-config-val/env/lib/python3.12/site-packages/httpx/_client.py#1025\u001b\\\u001b[2m1025\u001b[0m\u001b]8;;\u001b\\\n",
       "\u001b[2;36m                    \u001b[0m         \u001b[32mOK\"\u001b[0m                                                                    \u001b[2m               \u001b[0m\n"
      ]
     },
     "metadata": {},
     "output_type": "display_data"
    },
    {
     "name": "stdout",
     "output_type": "stream",
     "text": [
      "Add response to answer pool.\n",
      "Get dominant response.\n",
      "{'plan': \"1. Identify the configuration options to compare: 'spring.cloud.zookeeper.enabled' from application.properties and 'project.build.pluginManagement.plugins.plugin_findbugs-maven-plugin.configuration.failOnError' from pom.xml. 2. Note the values of both options: both are of type BOOLEAN and have the value FALSE. 3. Determine if the two options are functionally related by analyzing their purpose and the context in which they are used. 4. Conclude if the same value indicates a functional dependency or if it is merely coincidental. 5. Provide the final assessment in a structured format.\", 'rationale': \"The two configuration options 'spring.cloud.zookeeper.enabled' and 'project.build.pluginManagement.plugins.plugin_findbugs-maven-plugin.configuration.failOnError' are both set to FALSE. However, they serve different functions: one is related to enabling Zookeeper integration in a Spring application while the other controls whether the FindBugs plugin fails on errors during the build process in Maven. Since their purposes are unrelated, the identical values do not indicate a dependency. Therefore, there is no functional dependency based solely on value equality.\", 'isDependency': False} <class 'dict'>\n",
      "Start generation using gpt-4o-mini-2024-07-18\n"
     ]
    },
    {
     "data": {
      "text/html": [
       "<pre style=\"white-space:pre;overflow-x:auto;line-height:normal;font-family:Menlo,'DejaVu Sans Mono',consolas,'Courier New',monospace\"><span style=\"color: #7fbfbf; text-decoration-color: #7fbfbf\">[02/05/25 17:15:35] </span><span style=\"color: #000080; text-decoration-color: #000080\">INFO    </span> HTTP Request: <span style=\"color: #808000; text-decoration-color: #808000; font-weight: bold\">POST</span> <span style=\"color: #0000ff; text-decoration-color: #0000ff; text-decoration: underline\">http://172.26.92.115/chat/completions</span> <span style=\"color: #008000; text-decoration-color: #008000\">\"HTTP/1.1 200</span> <a href=\"file:///Users/sebastiansimon/GitHub/rag-config-val/env/lib/python3.12/site-packages/httpx/_client.py\" target=\"_blank\"><span style=\"color: #7f7f7f; text-decoration-color: #7f7f7f\">_client.py</span></a><span style=\"color: #7f7f7f; text-decoration-color: #7f7f7f\">:</span><a href=\"file:///Users/sebastiansimon/GitHub/rag-config-val/env/lib/python3.12/site-packages/httpx/_client.py#1025\" target=\"_blank\"><span style=\"color: #7f7f7f; text-decoration-color: #7f7f7f\">1025</span></a>\n",
       "<span style=\"color: #7fbfbf; text-decoration-color: #7fbfbf\">                    </span>         <span style=\"color: #008000; text-decoration-color: #008000\">OK\"</span>                                                                    <span style=\"color: #7f7f7f; text-decoration-color: #7f7f7f\">               </span>\n",
       "</pre>\n"
      ],
      "text/plain": [
       "\u001b[2;36m[02/05/25 17:15:35]\u001b[0m\u001b[2;36m \u001b[0m\u001b[34mINFO    \u001b[0m HTTP Request: \u001b[1;33mPOST\u001b[0m \u001b[4;94mhttp://172.26.92.115/chat/completions\u001b[0m \u001b[32m\"HTTP/1.1 200\u001b[0m \u001b]8;id=14687;file:///Users/sebastiansimon/GitHub/rag-config-val/env/lib/python3.12/site-packages/httpx/_client.py\u001b\\\u001b[2m_client.py\u001b[0m\u001b]8;;\u001b\\\u001b[2m:\u001b[0m\u001b]8;id=977477;file:///Users/sebastiansimon/GitHub/rag-config-val/env/lib/python3.12/site-packages/httpx/_client.py#1025\u001b\\\u001b[2m1025\u001b[0m\u001b]8;;\u001b\\\n",
       "\u001b[2;36m                    \u001b[0m         \u001b[32mOK\"\u001b[0m                                                                    \u001b[2m               \u001b[0m\n"
      ]
     },
     "metadata": {},
     "output_type": "display_data"
    },
    {
     "name": "stdout",
     "output_type": "stream",
     "text": [
      "Add response to answer pool.\n",
      "Start generation using gpt-4o-mini-2024-07-18\n"
     ]
    },
    {
     "data": {
      "text/html": [
       "<pre style=\"white-space:pre;overflow-x:auto;line-height:normal;font-family:Menlo,'DejaVu Sans Mono',consolas,'Courier New',monospace\"><span style=\"color: #7fbfbf; text-decoration-color: #7fbfbf\">[02/05/25 17:15:40] </span><span style=\"color: #000080; text-decoration-color: #000080\">INFO    </span> HTTP Request: <span style=\"color: #808000; text-decoration-color: #808000; font-weight: bold\">POST</span> <span style=\"color: #0000ff; text-decoration-color: #0000ff; text-decoration: underline\">http://172.26.92.115/chat/completions</span> <span style=\"color: #008000; text-decoration-color: #008000\">\"HTTP/1.1 200</span> <a href=\"file:///Users/sebastiansimon/GitHub/rag-config-val/env/lib/python3.12/site-packages/httpx/_client.py\" target=\"_blank\"><span style=\"color: #7f7f7f; text-decoration-color: #7f7f7f\">_client.py</span></a><span style=\"color: #7f7f7f; text-decoration-color: #7f7f7f\">:</span><a href=\"file:///Users/sebastiansimon/GitHub/rag-config-val/env/lib/python3.12/site-packages/httpx/_client.py#1025\" target=\"_blank\"><span style=\"color: #7f7f7f; text-decoration-color: #7f7f7f\">1025</span></a>\n",
       "<span style=\"color: #7fbfbf; text-decoration-color: #7fbfbf\">                    </span>         <span style=\"color: #008000; text-decoration-color: #008000\">OK\"</span>                                                                    <span style=\"color: #7f7f7f; text-decoration-color: #7f7f7f\">               </span>\n",
       "</pre>\n"
      ],
      "text/plain": [
       "\u001b[2;36m[02/05/25 17:15:40]\u001b[0m\u001b[2;36m \u001b[0m\u001b[34mINFO    \u001b[0m HTTP Request: \u001b[1;33mPOST\u001b[0m \u001b[4;94mhttp://172.26.92.115/chat/completions\u001b[0m \u001b[32m\"HTTP/1.1 200\u001b[0m \u001b]8;id=442308;file:///Users/sebastiansimon/GitHub/rag-config-val/env/lib/python3.12/site-packages/httpx/_client.py\u001b\\\u001b[2m_client.py\u001b[0m\u001b]8;;\u001b\\\u001b[2m:\u001b[0m\u001b]8;id=377235;file:///Users/sebastiansimon/GitHub/rag-config-val/env/lib/python3.12/site-packages/httpx/_client.py#1025\u001b\\\u001b[2m1025\u001b[0m\u001b]8;;\u001b\\\n",
       "\u001b[2;36m                    \u001b[0m         \u001b[32mOK\"\u001b[0m                                                                    \u001b[2m               \u001b[0m\n"
      ]
     },
     "metadata": {},
     "output_type": "display_data"
    },
    {
     "name": "stdout",
     "output_type": "stream",
     "text": [
      "Add response to answer pool.\n",
      "Start generation using gpt-4o-mini-2024-07-18\n"
     ]
    },
    {
     "data": {
      "text/html": [
       "<pre style=\"white-space:pre;overflow-x:auto;line-height:normal;font-family:Menlo,'DejaVu Sans Mono',consolas,'Courier New',monospace\"><span style=\"color: #7fbfbf; text-decoration-color: #7fbfbf\">[02/05/25 17:15:44] </span><span style=\"color: #000080; text-decoration-color: #000080\">INFO    </span> HTTP Request: <span style=\"color: #808000; text-decoration-color: #808000; font-weight: bold\">POST</span> <span style=\"color: #0000ff; text-decoration-color: #0000ff; text-decoration: underline\">http://172.26.92.115/chat/completions</span> <span style=\"color: #008000; text-decoration-color: #008000\">\"HTTP/1.1 200</span> <a href=\"file:///Users/sebastiansimon/GitHub/rag-config-val/env/lib/python3.12/site-packages/httpx/_client.py\" target=\"_blank\"><span style=\"color: #7f7f7f; text-decoration-color: #7f7f7f\">_client.py</span></a><span style=\"color: #7f7f7f; text-decoration-color: #7f7f7f\">:</span><a href=\"file:///Users/sebastiansimon/GitHub/rag-config-val/env/lib/python3.12/site-packages/httpx/_client.py#1025\" target=\"_blank\"><span style=\"color: #7f7f7f; text-decoration-color: #7f7f7f\">1025</span></a>\n",
       "<span style=\"color: #7fbfbf; text-decoration-color: #7fbfbf\">                    </span>         <span style=\"color: #008000; text-decoration-color: #008000\">OK\"</span>                                                                    <span style=\"color: #7f7f7f; text-decoration-color: #7f7f7f\">               </span>\n",
       "</pre>\n"
      ],
      "text/plain": [
       "\u001b[2;36m[02/05/25 17:15:44]\u001b[0m\u001b[2;36m \u001b[0m\u001b[34mINFO    \u001b[0m HTTP Request: \u001b[1;33mPOST\u001b[0m \u001b[4;94mhttp://172.26.92.115/chat/completions\u001b[0m \u001b[32m\"HTTP/1.1 200\u001b[0m \u001b]8;id=425976;file:///Users/sebastiansimon/GitHub/rag-config-val/env/lib/python3.12/site-packages/httpx/_client.py\u001b\\\u001b[2m_client.py\u001b[0m\u001b]8;;\u001b\\\u001b[2m:\u001b[0m\u001b]8;id=592190;file:///Users/sebastiansimon/GitHub/rag-config-val/env/lib/python3.12/site-packages/httpx/_client.py#1025\u001b\\\u001b[2m1025\u001b[0m\u001b]8;;\u001b\\\n",
       "\u001b[2;36m                    \u001b[0m         \u001b[32mOK\"\u001b[0m                                                                    \u001b[2m               \u001b[0m\n"
      ]
     },
     "metadata": {},
     "output_type": "display_data"
    },
    {
     "name": "stdout",
     "output_type": "stream",
     "text": [
      "Add response to answer pool.\n",
      "Get dominant response.\n",
      "{'plan': '1. Identify the values of the configuration options being compared: project.build.pluginManagement.plugins.plugin_spring-boot-maven-plugin.configuration.attach and project.repositories.repository_sonatype-nexus-snapshots.releases.enabled. 2. Check the type of both configuration options to confirm they are both BOOLEAN. 3. Assess the values of both options: both are set to FALSE. 4. Determine if having the same value of FALSE indicates a value-equality dependency between the two configuration options. 5. Conclude whether the options depend on each other based on their values.', 'rationale': 'Both configuration options have the same value of FALSE. However, having identical values does not necessarily imply that they depend on each other. A value-equality dependency requires that the options must have identical values to function correctly, which cannot be inferred solely from them being FALSE. Therefore, there is no true dependency based on value-equality.', 'isDependency': False} <class 'dict'>\n",
      "Start generation using gpt-4o-mini-2024-07-18\n"
     ]
    },
    {
     "data": {
      "text/html": [
       "<pre style=\"white-space:pre;overflow-x:auto;line-height:normal;font-family:Menlo,'DejaVu Sans Mono',consolas,'Courier New',monospace\"><span style=\"color: #7fbfbf; text-decoration-color: #7fbfbf\">[02/05/25 17:15:48] </span><span style=\"color: #000080; text-decoration-color: #000080\">INFO    </span> HTTP Request: <span style=\"color: #808000; text-decoration-color: #808000; font-weight: bold\">POST</span> <span style=\"color: #0000ff; text-decoration-color: #0000ff; text-decoration: underline\">http://172.26.92.115/chat/completions</span> <span style=\"color: #008000; text-decoration-color: #008000\">\"HTTP/1.1 200</span> <a href=\"file:///Users/sebastiansimon/GitHub/rag-config-val/env/lib/python3.12/site-packages/httpx/_client.py\" target=\"_blank\"><span style=\"color: #7f7f7f; text-decoration-color: #7f7f7f\">_client.py</span></a><span style=\"color: #7f7f7f; text-decoration-color: #7f7f7f\">:</span><a href=\"file:///Users/sebastiansimon/GitHub/rag-config-val/env/lib/python3.12/site-packages/httpx/_client.py#1025\" target=\"_blank\"><span style=\"color: #7f7f7f; text-decoration-color: #7f7f7f\">1025</span></a>\n",
       "<span style=\"color: #7fbfbf; text-decoration-color: #7fbfbf\">                    </span>         <span style=\"color: #008000; text-decoration-color: #008000\">OK\"</span>                                                                    <span style=\"color: #7f7f7f; text-decoration-color: #7f7f7f\">               </span>\n",
       "</pre>\n"
      ],
      "text/plain": [
       "\u001b[2;36m[02/05/25 17:15:48]\u001b[0m\u001b[2;36m \u001b[0m\u001b[34mINFO    \u001b[0m HTTP Request: \u001b[1;33mPOST\u001b[0m \u001b[4;94mhttp://172.26.92.115/chat/completions\u001b[0m \u001b[32m\"HTTP/1.1 200\u001b[0m \u001b]8;id=297608;file:///Users/sebastiansimon/GitHub/rag-config-val/env/lib/python3.12/site-packages/httpx/_client.py\u001b\\\u001b[2m_client.py\u001b[0m\u001b]8;;\u001b\\\u001b[2m:\u001b[0m\u001b]8;id=51636;file:///Users/sebastiansimon/GitHub/rag-config-val/env/lib/python3.12/site-packages/httpx/_client.py#1025\u001b\\\u001b[2m1025\u001b[0m\u001b]8;;\u001b\\\n",
       "\u001b[2;36m                    \u001b[0m         \u001b[32mOK\"\u001b[0m                                                                    \u001b[2m               \u001b[0m\n"
      ]
     },
     "metadata": {},
     "output_type": "display_data"
    },
    {
     "name": "stdout",
     "output_type": "stream",
     "text": [
      "Add response to answer pool.\n",
      "Start generation using gpt-4o-mini-2024-07-18\n"
     ]
    },
    {
     "data": {
      "text/html": [
       "<pre style=\"white-space:pre;overflow-x:auto;line-height:normal;font-family:Menlo,'DejaVu Sans Mono',consolas,'Courier New',monospace\"><span style=\"color: #7fbfbf; text-decoration-color: #7fbfbf\">[02/05/25 17:15:51] </span><span style=\"color: #000080; text-decoration-color: #000080\">INFO    </span> HTTP Request: <span style=\"color: #808000; text-decoration-color: #808000; font-weight: bold\">POST</span> <span style=\"color: #0000ff; text-decoration-color: #0000ff; text-decoration: underline\">http://172.26.92.115/chat/completions</span> <span style=\"color: #008000; text-decoration-color: #008000\">\"HTTP/1.1 200</span> <a href=\"file:///Users/sebastiansimon/GitHub/rag-config-val/env/lib/python3.12/site-packages/httpx/_client.py\" target=\"_blank\"><span style=\"color: #7f7f7f; text-decoration-color: #7f7f7f\">_client.py</span></a><span style=\"color: #7f7f7f; text-decoration-color: #7f7f7f\">:</span><a href=\"file:///Users/sebastiansimon/GitHub/rag-config-val/env/lib/python3.12/site-packages/httpx/_client.py#1025\" target=\"_blank\"><span style=\"color: #7f7f7f; text-decoration-color: #7f7f7f\">1025</span></a>\n",
       "<span style=\"color: #7fbfbf; text-decoration-color: #7fbfbf\">                    </span>         <span style=\"color: #008000; text-decoration-color: #008000\">OK\"</span>                                                                    <span style=\"color: #7f7f7f; text-decoration-color: #7f7f7f\">               </span>\n",
       "</pre>\n"
      ],
      "text/plain": [
       "\u001b[2;36m[02/05/25 17:15:51]\u001b[0m\u001b[2;36m \u001b[0m\u001b[34mINFO    \u001b[0m HTTP Request: \u001b[1;33mPOST\u001b[0m \u001b[4;94mhttp://172.26.92.115/chat/completions\u001b[0m \u001b[32m\"HTTP/1.1 200\u001b[0m \u001b]8;id=646919;file:///Users/sebastiansimon/GitHub/rag-config-val/env/lib/python3.12/site-packages/httpx/_client.py\u001b\\\u001b[2m_client.py\u001b[0m\u001b]8;;\u001b\\\u001b[2m:\u001b[0m\u001b]8;id=639373;file:///Users/sebastiansimon/GitHub/rag-config-val/env/lib/python3.12/site-packages/httpx/_client.py#1025\u001b\\\u001b[2m1025\u001b[0m\u001b]8;;\u001b\\\n",
       "\u001b[2;36m                    \u001b[0m         \u001b[32mOK\"\u001b[0m                                                                    \u001b[2m               \u001b[0m\n"
      ]
     },
     "metadata": {},
     "output_type": "display_data"
    },
    {
     "name": "stdout",
     "output_type": "stream",
     "text": [
      "Add response to answer pool.\n",
      "Start generation using gpt-4o-mini-2024-07-18\n"
     ]
    },
    {
     "data": {
      "text/html": [
       "<pre style=\"white-space:pre;overflow-x:auto;line-height:normal;font-family:Menlo,'DejaVu Sans Mono',consolas,'Courier New',monospace\"><span style=\"color: #7fbfbf; text-decoration-color: #7fbfbf\">[02/05/25 17:15:55] </span><span style=\"color: #000080; text-decoration-color: #000080\">INFO    </span> HTTP Request: <span style=\"color: #808000; text-decoration-color: #808000; font-weight: bold\">POST</span> <span style=\"color: #0000ff; text-decoration-color: #0000ff; text-decoration: underline\">http://172.26.92.115/chat/completions</span> <span style=\"color: #008000; text-decoration-color: #008000\">\"HTTP/1.1 200</span> <a href=\"file:///Users/sebastiansimon/GitHub/rag-config-val/env/lib/python3.12/site-packages/httpx/_client.py\" target=\"_blank\"><span style=\"color: #7f7f7f; text-decoration-color: #7f7f7f\">_client.py</span></a><span style=\"color: #7f7f7f; text-decoration-color: #7f7f7f\">:</span><a href=\"file:///Users/sebastiansimon/GitHub/rag-config-val/env/lib/python3.12/site-packages/httpx/_client.py#1025\" target=\"_blank\"><span style=\"color: #7f7f7f; text-decoration-color: #7f7f7f\">1025</span></a>\n",
       "<span style=\"color: #7fbfbf; text-decoration-color: #7fbfbf\">                    </span>         <span style=\"color: #008000; text-decoration-color: #008000\">OK\"</span>                                                                    <span style=\"color: #7f7f7f; text-decoration-color: #7f7f7f\">               </span>\n",
       "</pre>\n"
      ],
      "text/plain": [
       "\u001b[2;36m[02/05/25 17:15:55]\u001b[0m\u001b[2;36m \u001b[0m\u001b[34mINFO    \u001b[0m HTTP Request: \u001b[1;33mPOST\u001b[0m \u001b[4;94mhttp://172.26.92.115/chat/completions\u001b[0m \u001b[32m\"HTTP/1.1 200\u001b[0m \u001b]8;id=534725;file:///Users/sebastiansimon/GitHub/rag-config-val/env/lib/python3.12/site-packages/httpx/_client.py\u001b\\\u001b[2m_client.py\u001b[0m\u001b]8;;\u001b\\\u001b[2m:\u001b[0m\u001b]8;id=836185;file:///Users/sebastiansimon/GitHub/rag-config-val/env/lib/python3.12/site-packages/httpx/_client.py#1025\u001b\\\u001b[2m1025\u001b[0m\u001b]8;;\u001b\\\n",
       "\u001b[2;36m                    \u001b[0m         \u001b[32mOK\"\u001b[0m                                                                    \u001b[2m               \u001b[0m\n"
      ]
     },
     "metadata": {},
     "output_type": "display_data"
    },
    {
     "name": "stdout",
     "output_type": "stream",
     "text": [
      "Add response to answer pool.\n",
      "Get dominant response.\n",
      "{'plan': '1. Identify the two configuration options: spring.cloud.zookeeper.enabled from apollo-assembly/src/main/resources/application.yml and eureka.client.fetch-registry from apollo-configservice/src/main/resources/application.yml. 2. Check the types of both configuration options to confirm they are BOOLEAN. 3. Verify the values of both options: spring.cloud.zookeeper.enabled has a value of FALSE and eureka.client.fetch-registry also has a value of FALSE. 4. Determine if the identical values (both FALSE) create a dependency based on value-equality. 5. Conclude whether a true dependency exists or if the similarity in values is coincidental.', 'rationale': 'Both configuration options are of BOOLEAN type and share the same value of FALSE. However, even though they have equal values, there is no indication from the context that these options directly depend on each other for functionality. Therefore, the equal values do not imply a necessary dependency.', 'isDependency': False} <class 'dict'>\n"
     ]
    }
   ],
   "source": [
    "import json\n",
    "from src.generator import GeneratorFactory\n",
    "from src.prompts import CfgNetPromptSettings\n",
    "from src.util import transform\n",
    "from dotenv import load_dotenv\n",
    "import os\n",
    "\n",
    "load_dotenv(dotenv_path=\".env\")\n",
    "\n",
    "print(f\"Base URL: {os.getenv(\"BASE_URL\")}\")\n",
    "print(f\"Proxy Server Key: {os.getenv(\"PROXY_SERVER_API_KEY\")}\")\n",
    "\n",
    "\n",
    "# TODO: define genrators\n",
    "generator = GeneratorFactory().get_generator(model_name=\"gpt-4o-mini-2024-07-18\", temperature=0.7)\n",
    "\n",
    "with open(\"data/evaluation/retrieval_results/test_dependencies_config1.json\", \"r\", encoding=\"utf-8\") as src:\n",
    "    data = json.load(src)\n",
    "\n",
    "for sample in data:\n",
    "    dependency = transform(entry=sample)\n",
    "\n",
    "    # create prompt parts\n",
    "    system_str = CfgNetPromptSettings.get_system_str(dependency=dependency)\n",
    "    task_str = CfgNetPromptSettings.get_task_str(dependency=dependency)\n",
    "    context_str = \"\\n\\n\".join([x[\"text\"] for x in sample[\"context\"]])\n",
    "    format_str = CfgNetPromptSettings.get_format_prompt()\n",
    "\n",
    "    query_str = CfgNetPromptSettings.query_prompt.format(\n",
    "        context_str=context_str,\n",
    "        task_str=task_str,\n",
    "        format_str=format_str\n",
    "    )\n",
    "\n",
    "    messages = [\n",
    "        {\"role\": \"system\", \"content\": system_str},\n",
    "        {\"role\": \"user\", \"content\": query_str }\n",
    "    ]\n",
    "\n",
    "    response = generator.generate(messages=messages)\n",
    "\n",
    "    print(response, type(response))\n",
    "\n",
    "    sample[\"genrations\"] = {generator.model_name: response} \n",
    "\n"
   ]
  },
  {
   "cell_type": "code",
   "execution_count": 5,
   "metadata": {},
   "outputs": [
    {
     "data": {
      "text/plain": [
       "[{'dependency_category': 'value-equality',\n",
       "  'index': 0,\n",
       "  'link_str': 'apollo::::apollo-audit/apollo-audit-api/pom.xml::::project::::modelVersion::::modelVersion:4.0.0 <-> apollo::::apollo-biz/pom.xml::::project::::modelVersion::::modelVersion:4.0.0',\n",
       "  'project': 'apollo',\n",
       "  'option_name': 'project.modelVersion',\n",
       "  'option_value': 'modelVersion:4.0.0',\n",
       "  'option_type': 'ConfigType.VERSION_NUMBER',\n",
       "  'option_file': 'apollo-audit/apollo-audit-api/pom.xml',\n",
       "  'option_technology': 'maven',\n",
       "  'dependent_option_name': 'project.modelVersion',\n",
       "  'dependent_option_value': 'modelVersion:4.0.0',\n",
       "  'dependent_option_type': 'ConfigType.VERSION_NUMBER',\n",
       "  'dependent_option_file': 'apollo-biz/pom.xml',\n",
       "  'dependent_option_technology': 'maven',\n",
       "  'config_type': 'correct',\n",
       "  'rating': True,\n",
       "  'final_rating': True,\n",
       "  'final_category': 'Version Numbers',\n",
       "  'sub_category': 'POM Version',\n",
       "  'explanation': 'modelVersion has to be consistent across all modules and is generally set to 4.0.0 since it is the only supported version',\n",
       "  'context': [{'text': '# [![](../../images/apache-maven-project.png)](https://www.apache.org/)\\n\\n# [![](../../images/maven-logo-black-on-white.png)](../.././)\\n\\n* * *\\n\\n  * [Apache](https://www.apache.org/)/\\n  * [Maven](../../index.html)/\\n  * Maven CI Friendly Versions [![Edit](../../images/accessories-text-editor.png)](https://github.com/apache/maven-site/tree/master/content/markdown/guides/mini/guide-maven-ci-friendly.md)\\n  * | Last Published: 2025-02-04\\n  * | [Get Sources](../../scm.html)\\n  * [Download](../../download.cgi)\\n\\n  * [Welcome](../../index.html)\\n  * [License](https://www.apache.org/licenses/)\\n  * About Maven\\n  * [What is Maven?](././what-is-maven.html)\\n  * [Features](././maven-features.html)\\n  * [Download](././download.html)\\n  * [Use](././users/index.html)\\n  * [Release Notes](././docs/history.html)\\n  * Documentation\\n  * [Maven Plugins](./.',\n",
       "    'score': '-6.555485248565674',\n",
       "    'source': 'web',\n",
       "    'id': 'c3a4e261-e8ff-46e5-b013-87b229d87413'},\n",
       "   {'text': '# [![](../../images/apache-maven-project.png)](https://www.apache.org/)\\n\\n# [![](../../images/maven-logo-black-on-white.png)](../.././)\\n\\n* * *\\n\\n  * [Apache](https://www.apache.org/)/\\n  * [Maven](../../index.html)/\\n  * Maven Getting Started Guide [![Edit](../../images/accessories-text-editor.png)](https://github.com/apache/maven-site/tree/master/content/apt/guides/getting-started/index.apt)\\n  * | Last Published: 2025-02-04\\n  * | [Get Sources](../../scm.html)\\n  * [Download](../../download.cgi)\\n\\n  * [Welcome](../../index.html)\\n  * [License](https://www.apache.org/licenses/)\\n  * About Maven\\n  * [What is Maven?](././what-is-maven.html)\\n  * [Features](././maven-features.html)\\n  * [Download](././download.html)\\n  * [Use](././users/index.html)\\n  * [Release Notes](././docs/history.html)\\n  * Documentation\\n  * [Maven Plugins](./.',\n",
       "    'score': '-6.7526350021362305',\n",
       "    'source': 'tech-docs',\n",
       "    'id': 'e5cf76a1-9dac-4890-b72a-dbd59b31016a'},\n",
       "   {'text': 'support.AbstractApplicationContext.getBean(AbstractApplicationContext.java:1083) ~[spring-context-5.0.0.RC3.jar!/:5.0.0.RC3]         at org.springframework.context.support.AbstractApplicationContext.finishBeanFactoryInitialization(AbstractApplicationContext.java:858) ~[spring-context-5.0.0.RC3.jar!/:5.0.0.RC3]         at org.springframework.context.support.AbstractApplicationContext.refresh(AbstractApplicationContext.java:549) ~[spring-context-5.0.0.RC3.jar!/:5.0.0.RC3]         at org.springframework.boot.web.servlet.context.ServletWebServerApplicationContext.refresh(ServletWebServerApplicationContext.java:122) ~[spring-boot-2.0.0.M3.jar!/:2.0.0.M3]         at org.',\n",
       "    'score': '-8.680177688598633',\n",
       "    'source': 'so-posts',\n",
       "    'id': 'ab6b6d11-8be7-4925-999b-31aa4068c2a3'},\n",
       "   {'text': 'jar!/:2.0.0.M3]         at org.springframework.boot.SpringApplication.refreshContext(SpringApplication.java:386) [spring-boot-2.0.0.M3.jar!/:2.0.0.M3]         at org.springframework.boot.SpringApplication.run(SpringApplication.java:327) [spring-boot-2.0.0.M3.jar!/:2.0.0.M3]         at org.springframework.boot.SpringApplication.run(SpringApplication.java:1245) [spring-boot-2.0.0.M3.jar!/:2.0.0.M3]         at org.springframework.boot.SpringApplication.run(SpringApplication.java:1233) [spring-boot-2.0.0.M3.jar!/:2.0.0.M3]         at com.lapots.',\n",
       "    'score': '-8.914051055908203',\n",
       "    'source': 'so-posts',\n",
       "    'id': '0b568354-d7ed-4f3b-aa95-159550a25747'},\n",
       "   {'text': '0.0.RC3.jar!/:5.0.0.RC3]         at org.springframework.beans.factory.support.DefaultSingletonBeanRegistry.getSingleton(DefaultSingletonBeanRegistry.java:234) ~[spring-beans-5.0.0.RC3.jar!/:5.0.0.RC3]         at org.springframework.beans.factory.support.AbstractBeanFactory.doGetBean(AbstractBeanFactory.java:310) ~[spring-beans-5.0.0.RC3.jar!/:5.0.0.RC3]         at org.springframework.beans.factory.support.AbstractBeanFactory.getBean(AbstractBeanFactory.java:200) ~[spring-beans-5.0.0.RC3.jar!/:5.0.0.RC3]         at org.springframework.context.support.AbstractApplicationContext.getBean(AbstractApplicationContext.',\n",
       "    'score': '-8.98460865020752',\n",
       "    'source': 'so-posts',\n",
       "    'id': '96ca3942-55b7-4287-a4cd-8a352c7ee3d7'}],\n",
       "  'genrations': {'gpt-4o-mini-2024-07-18': {'plan': \"1. Identify the configuration options in question: project.modelVersion from both apollo-audit/apollo-audit-api/pom.xml and apollo-biz/pom.xml. 2. Check the values of both configuration options; both have the value 'modelVersion:4.0.0'. 3. Evaluate whether the identical values indicate a value-equality dependency; since both options have the same value, they could be considered dependent on each other. 4. Consider the context of the configuration options within Maven; since both are modelVersion configurations and are identical in value, conclude the evaluation.\",\n",
       "    'rationale': 'The configuration options project.modelVersion in both files have identical values (modelVersion:4.0.0). In Maven, the modelVersion typically indicates the version of the POM model being used. Since both configurations are related to defining the same aspect of the Maven project structure and have the same value, they depend on each other due to value-equality.',\n",
       "    'isDependency': True}}},\n",
       " {'dependency_category': 'value-equality',\n",
       "  'index': 1,\n",
       "  'link_str': 'apollo::::apollo-adminservice/src/test/resources/application.properties::::spring.cloud.zookeeper.enabled::::false <-> apollo::::pom.xml::::project::::build::::pluginManagement::::plugins::::plugin_findbugs-maven-plugin::::configuration::::failOnError::::false',\n",
       "  'project': 'apollo',\n",
       "  'option_name': 'spring.cloud.zookeeper.enabled',\n",
       "  'option_value': 'FALSE',\n",
       "  'option_type': 'ConfigType.BOOLEAN',\n",
       "  'option_file': 'apollo-adminservice/src/test/resources/application.properties',\n",
       "  'option_technology': 'spring',\n",
       "  'dependent_option_name': 'project.build.pluginManagement.plugins.plugin_findbugs-maven-plugin.configuration.failOnError',\n",
       "  'dependent_option_value': 'FALSE',\n",
       "  'dependent_option_type': 'ConfigType.BOOLEAN',\n",
       "  'dependent_option_file': 'pom.xml',\n",
       "  'dependent_option_technology': 'maven',\n",
       "  'config_type': 'correct',\n",
       "  'rating': False,\n",
       "  'final_rating': False,\n",
       "  'final_category': 'Boolean',\n",
       "  'sub_category': 'Boolean',\n",
       "  'explanation': 'different options that are not related',\n",
       "  'context': [{'text': 'tools.checkstyle.checks.imports.AvoidStaticImportCheck\">-->\\n        <!--            <property name=\"excludes\"-->\\n        <!--                      value=\"io.restassured.RestAssured.*, org.assertj.core.api.Assertions.*, org.junit.jupiter.api.Assertions.*, org.junit.jupiter.api.Assumptions.*, org.junit.Assert.*, org.junit.Assume.*, org.junit.internal.matchers.ThrowableMessageMatcher.*, org.junit.jupiter.api.Assertions.*, org.hamcrest.CoreMatchers.*, org.hamcrest.Matchers.*, org.springframework.boot.configurationprocessor.ConfigurationMetadataMatchers.*, org.springframework.boot.configurationprocessor.TestCompiler.*, org.springframework.boot.test.autoconfigure.AutoConfigurationImportedCondition.*, org.mockito.Mockito.*, org.mockito.BDDMockito.*, org.mockito.ArgumentMatchers.*, org.mockito.Matchers.*, org.springframework.restdocs.headers.HeaderDocumentation.*, org.springframework.restdocs.hypermedia.HypermediaDocumentation.*, org.springframework.restdocs.mockmvc.MockMvcRestDocumentation.*, org.springframework.restdocs.mockmvc.RestDocumentationRequestBuilders.',\n",
       "    'score': '-2.6098246574401855',\n",
       "    'source': 'github',\n",
       "    'id': '242c57e2-c300-45ab-b6e1-8616a42e7619'},\n",
       "   {'text': '*, org.springframework.restdocs.operation.preprocess.Preprocessors.*, org.springframework.restdocs.payload.PayloadDocumentation.*, org.springframework.restdocs.request.RequestDocumentation.*, org.springframework.restdocs.restassured3.operation.preprocess.RestAssuredPreprocessors.*, org.springframework.restdocs.restassured3.RestAssuredRestDocumentation.*, org.springframework.restdocs.snippet.Attributes.*, org.springframework.restdocs.webtestclient.WebTestClientRestDocumentation.*, org.springframework.test.web.servlet.request.MockMvcRequestBuilders.*, org.springframework.test.web.servlet.result.MockMvcResultMatchers.*, org.springframework.security.test.web.servlet.request.SecurityMockMvcRequestBuilders.*, org.springframework.security.test.web.servlet.request.SecurityMockMvcRequestPostProcessors.*, org.springframework.security.test.web.servlet.setup.SecurityMockMvcConfigurers.*, org.springframework.hateoas.mvc.ControllerLinkBuilder.linkTo, org.springframework.test.web.client.ExpectedCount.*, org.springframework.test.web.client.match.MockRestRequestMatchers.*, org.springframework.test.web.client.response.MockRestResponseCreators.',\n",
       "    'score': '-5.013214111328125',\n",
       "    'source': 'github',\n",
       "    'id': 'cc3ce09a-62b6-4fdf-a5bc-f40d50bdcc3c'},\n",
       "   {'text': '__Discord notifications configuration options__\\n| Property name                                | Description                                           | Default value                                                                                                    |\\n| -------------------------------------------- | ----------------------------------------------------- | ---------------------------------------------------------------------------------------------------------------- |\\n| spring.boot.admin.notify.discord.enabled     | Enable Discord notifications                          | true                                                                                                             |\\n| spring.boot.admin.notify.discord.webhook-url | The Discord webhook url to send the notifications to. |                                                                                                                  |\\n| spring.boot.admin.notify.discord.username    | Optional username.                                    | _Default set in Discord_                                                                                         |\\n| spring.boot.admin.notify.discord.avatar-url  | Optional URL to avatar.                               | _Default set in Discord_                                                                                         |\\n| spring.boot.admin.notify.discord.tts         | If the message is a text to speech message.           | false                                                                                                            |\\n| spring.boot.admin.notify.discord.message     | Text to send. SpEL-expressions are supported.',\n",
       "    'score': '-5.089235305786133',\n",
       "    'source': 'github',\n",
       "    'id': 'e6809e0f-9228-4243-8a12-5ca814d5cb53'},\n",
       "   {'text': '__Discord notifications configuration options__\\n| Property name                                | Description                                           | Default value                                                                                                    |\\n| -------------------------------------------- | ----------------------------------------------------- | ---------------------------------------------------------------------------------------------------------------- |\\n| spring.boot.admin.notify.discord.enabled     | Enable Discord notifications                          | true                                                                                                             |\\n| spring.boot.admin.notify.discord.webhook-url | The Discord webhook url to send the notifications to. |                                                                                                                  |\\n| spring.boot.admin.notify.discord.username    | Optional username.                                    | _Default set in Discord_                                                                                         |\\n| spring.boot.admin.notify.discord.avatar-url  | Optional URL to avatar.                               | _Default set in Discord_                                                                                         |\\n| spring.boot.admin.notify.discord.tts         | If the message is a text to speech message.           | false                                                                                                            |\\n| spring.boot.admin.notify.discord.message     | Text to send. SpEL-expressions are supported.',\n",
       "    'score': '-5.401156425476074',\n",
       "    'source': 'github',\n",
       "    'id': '5c4454a6-24f4-4faa-9a42-27ffefe24cab'},\n",
       "   {'text': \"__Telegram notifications configuration options__\\n| Property name                                    | Description                                                                                               | Default value                                                                                                                                                        |\\n| ------------------------------------------------ | --------------------------------------------------------------------------------------------------------- | -------------------------------------------------------------------------------------------------------------------------------------------------------------------- |\\n| spring.boot.admin.notify.telegram.enabled        | Enable Telegram notifications                                                                             | true                                                                                                                                                                 |\\n| spring.boot.admin.notify.telegram.auth-token     | The token identifying und authorizing your Telegram bot (e.g. 123456:ABC-DEF1234ghIkl-zyx57W2v1u123ew11). |                                                                                                                                                                      |\\n| spring.boot.admin.notify.telegram.chat-id        | Unique identifier for the target chat or username of the target channel                                   |                                                                                                                                                                      |\\n| spring.boot.admin.notify.telegram.disable-notify | If true users will receive a notification with no sound.                                                  | false                                                                                                                                                                |\\n| spring.boot.admin.notify.telegram.parse_mode     | The parsing mode for the sent message. Currently, `HTML' and 'Markdown' are supported.\",\n",
       "    'score': '-6.628933906555176',\n",
       "    'source': 'github',\n",
       "    'id': '6b54ffd0-549f-461c-8a26-750ec721c95e'}],\n",
       "  'genrations': {'gpt-4o-mini-2024-07-18': {'plan': \"1. Identify the configuration options to compare: 'spring.cloud.zookeeper.enabled' from application.properties and 'project.build.pluginManagement.plugins.plugin_findbugs-maven-plugin.configuration.failOnError' from pom.xml. 2. Note the values of both options: both are of type BOOLEAN and have the value FALSE. 3. Determine if the two options are functionally related by analyzing their purpose and the context in which they are used. 4. Conclude if the same value indicates a functional dependency or if it is merely coincidental. 5. Provide the final assessment in a structured format.\",\n",
       "    'rationale': \"The two configuration options 'spring.cloud.zookeeper.enabled' and 'project.build.pluginManagement.plugins.plugin_findbugs-maven-plugin.configuration.failOnError' are both set to FALSE. However, they serve different functions: one is related to enabling Zookeeper integration in a Spring application while the other controls whether the FindBugs plugin fails on errors during the build process in Maven. Since their purposes are unrelated, the identical values do not indicate a dependency. Therefore, there is no functional dependency based solely on value equality.\",\n",
       "    'isDependency': False}}},\n",
       " {'dependency_category': 'value-equality',\n",
       "  'index': 2,\n",
       "  'link_str': 'apollo::::pom.xml::::project::::build::::pluginManagement::::plugins::::plugin_spring-boot-maven-plugin::::configuration::::attach::::false <-> apollo::::pom.xml::::project::::repositories::::repository_sonatype-nexus-snapshots::::releases::::enabled::::false',\n",
       "  'project': 'apollo',\n",
       "  'option_name': 'project.build.pluginManagement.plugins.plugin_spring-boot-maven-plugin.configuration.attach',\n",
       "  'option_value': 'FALSE',\n",
       "  'option_type': 'ConfigType.BOOLEAN',\n",
       "  'option_file': 'pom.xml',\n",
       "  'option_technology': 'maven',\n",
       "  'dependent_option_name': 'project.repositories.repository_sonatype-nexus-snapshots.releases.enabled',\n",
       "  'dependent_option_value': 'FALSE',\n",
       "  'dependent_option_type': 'ConfigType.BOOLEAN',\n",
       "  'dependent_option_file': 'pom.xml',\n",
       "  'dependent_option_technology': 'maven',\n",
       "  'config_type': 'correct',\n",
       "  'rating': False,\n",
       "  'final_rating': False,\n",
       "  'final_category': 'Boolean',\n",
       "  'sub_category': 'Boolean',\n",
       "  'explanation': 'different options that are not related',\n",
       "  'context': [{'text': '---\\nsidebar_custom_props:\\n  icon: \\'properties\\'\\n---\\n\\n# Properties\\n\\n__Spring Boot Admin Client configuration options__\\n| Property name                                                      | Description                                                                                                                                                                                                                                                                                                                                                                                                                        | Default value                                                                         |\\n| ------------------------------------------------------------------ | ---------------------------------------------------------------------------------------------------------------------------------------------------------------------------------------------------------------------------------------------------------------------------------------------------------------------------------------------------------------------------------------------------------------------------------- | ------------------------------------------------------------------------------------- |\\n| spring.boot.admin.client.enabled                                   | Enables the Spring Boot Admin Client.                                                                                                                                                                                                                                                                                                                                                                                              | true                                                                                  |\\n| spring.boot.admin.client.url                                       | Comma separated ordered list of URLs of the Spring Boot Admin server to register at. This triggers the AutoConfiguration. **Mandatory**.                                                                                                                                                                                                                                                                                           |                                                                                       |\\n| spring.boot.admin.client.api-path                                  | Http-path of registration endpoint at your admin server.                                                                                                                                                                                                                                                                                                                                                                           | \"instances\"                                                                           |\\n| spring.boot.admin.client.usernamespring.boot.admin.client.password | Username and password in case the SBA Server api is protected with HTTP Basic authentication.',\n",
       "    'score': '-7.172411918640137',\n",
       "    'source': 'github',\n",
       "    'id': 'be607680-ea10-4789-8521-6a4842ff695d'},\n",
       "   {'text': \"__Telegram notifications configuration options__\\n| Property name                                    | Description                                                                                               | Default value                                                                                                                                                        |\\n| ------------------------------------------------ | --------------------------------------------------------------------------------------------------------- | -------------------------------------------------------------------------------------------------------------------------------------------------------------------- |\\n| spring.boot.admin.notify.telegram.enabled        | Enable Telegram notifications                                                                             | true                                                                                                                                                                 |\\n| spring.boot.admin.notify.telegram.auth-token     | The token identifying und authorizing your Telegram bot (e.g. 123456:ABC-DEF1234ghIkl-zyx57W2v1u123ew11). |                                                                                                                                                                      |\\n| spring.boot.admin.notify.telegram.chat-id        | Unique identifier for the target chat or username of the target channel                                   |                                                                                                                                                                      |\\n| spring.boot.admin.notify.telegram.disable-notify | If true users will receive a notification with no sound.                                                  | false                                                                                                                                                                |\\n| spring.boot.admin.notify.telegram.parse_mode     | The parsing mode for the sent message. Currently, `HTML' and 'Markdown' are supported.\",\n",
       "    'score': '-7.277362823486328',\n",
       "    'source': 'github',\n",
       "    'id': 'fbb5cd49-8062-4804-a753-b731c848a618'},\n",
       "   {'text': \"__Telegram notifications configuration options__\\n| Property name                                    | Description                                                                                               | Default value                                                                                                                                                        |\\n| ------------------------------------------------ | --------------------------------------------------------------------------------------------------------- | -------------------------------------------------------------------------------------------------------------------------------------------------------------------- |\\n| spring.boot.admin.notify.telegram.enabled        | Enable Telegram notifications                                                                             | true                                                                                                                                                                 |\\n| spring.boot.admin.notify.telegram.auth-token     | The token identifying und authorizing your Telegram bot (e.g. 123456:ABC-DEF1234ghIkl-zyx57W2v1u123ew11). |                                                                                                                                                                      |\\n| spring.boot.admin.notify.telegram.chat-id        | Unique identifier for the target chat or username of the target channel                                   |                                                                                                                                                                      |\\n| spring.boot.admin.notify.telegram.disable-notify | If true users will receive a notification with no sound.                                                  | false                                                                                                                                                                |\\n| spring.boot.admin.notify.telegram.parse_mode     | The parsing mode for the sent message. Currently, `HTML' and 'Markdown' are supported.\",\n",
       "    'score': '-7.570896148681641',\n",
       "    'source': 'github',\n",
       "    'id': '6b54ffd0-549f-461c-8a26-750ec721c95e'},\n",
       "   {'text': '__Hipchat notifications configuration options__\\n| Property name                                   | Description                                                                                                               | Default value                                                                                                                                                        |\\n| ----------------------------------------------- | ------------------------------------------------------------------------------------------------------------------------- | -------------------------------------------------------------------------------------------------------------------------------------------------------------------- |\\n| spring.boot.admin.notify.hipchat.enabled        | Enable Hipchat notifications                                                                                              | true                                                                                                                                                                 |\\n| spring.boot.admin.notify.hipchat.ignore-changes | Comma-delimited list of status changes to be ignored. Format: \"&lt;from-status&gt;:&lt;to-status&gt;\". Wildcards allowed.',\n",
       "    'score': '-8.19754409790039',\n",
       "    'source': 'github',\n",
       "    'id': 'ace2bc61-8156-4d09-b427-719281a40e25'},\n",
       "   {'text': '---\\nsidebar_custom_props:\\n  icon: \\'notifications\\'\\n---\\n\\n## Notification\\n\\n### Hipchat Notifications\\n\\nTo enable [Hipchat](https://www.hipchat.com/) notifications you need to create an API token on your Hipchat account and set the appropriate configuration properties.\\n\\n__Hipchat notifications configuration options__\\n| Property name                                   | Description                                                                                                               | Default value                                                                                                                                                        |\\n| ----------------------------------------------- | ------------------------------------------------------------------------------------------------------------------------- | -------------------------------------------------------------------------------------------------------------------------------------------------------------------- |\\n| spring.boot.admin.notify.hipchat.enabled        | Enable Hipchat notifications                                                                                              | true                                                                                                                                                                 |\\n| spring.boot.admin.notify.hipchat.ignore-changes | Comma-delimited list of status changes to be ignored. Format: \"&lt;from-status&gt;:&lt;to-status&gt;\". Wildcards allowed.',\n",
       "    'score': '-8.381092071533203',\n",
       "    'source': 'github',\n",
       "    'id': '21dfcbc9-7b5b-44bf-8539-c45a40a9dfb5'}],\n",
       "  'genrations': {'gpt-4o-mini-2024-07-18': {'plan': '1. Identify the values of the configuration options being compared: project.build.pluginManagement.plugins.plugin_spring-boot-maven-plugin.configuration.attach and project.repositories.repository_sonatype-nexus-snapshots.releases.enabled. 2. Check the type of both configuration options to confirm they are both BOOLEAN. 3. Assess the values of both options: both are set to FALSE. 4. Determine if having the same value of FALSE indicates a value-equality dependency between the two configuration options. 5. Conclude whether the options depend on each other based on their values.',\n",
       "    'rationale': 'Both configuration options have the same value of FALSE. However, having identical values does not necessarily imply that they depend on each other. A value-equality dependency requires that the options must have identical values to function correctly, which cannot be inferred solely from them being FALSE. Therefore, there is no true dependency based on value-equality.',\n",
       "    'isDependency': False}}},\n",
       " {'dependency_category': 'value-equality',\n",
       "  'index': 3,\n",
       "  'link_str': 'apollo::::apollo-assembly/src/main/resources/application.yml::::spring.cloud.zookeeper.enabled::::False <-> apollo::::apollo-configservice/src/main/resources/application.yml::::eureka.client.fetch-registry::::False',\n",
       "  'project': 'apollo',\n",
       "  'option_name': 'spring.cloud.zookeeper.enabled',\n",
       "  'option_value': 'FALSE',\n",
       "  'option_type': 'ConfigType.BOOLEAN',\n",
       "  'option_file': 'apollo-assembly/src/main/resources/application.yml',\n",
       "  'option_technology': 'spring',\n",
       "  'dependent_option_name': 'eureka.client.fetch-registry',\n",
       "  'dependent_option_value': 'FALSE',\n",
       "  'dependent_option_type': 'ConfigType.BOOLEAN',\n",
       "  'dependent_option_file': 'apollo-configservice/src/main/resources/application.yml',\n",
       "  'dependent_option_technology': 'spring',\n",
       "  'config_type': 'correct',\n",
       "  'rating': False,\n",
       "  'final_rating': False,\n",
       "  'final_category': 'Boolean',\n",
       "  'sub_category': 'Boolean',\n",
       "  'explanation': 'different options that are not related',\n",
       "  'context': [{'text': '__Discord notifications configuration options__\\n| Property name                                | Description                                           | Default value                                                                                                    |\\n| -------------------------------------------- | ----------------------------------------------------- | ---------------------------------------------------------------------------------------------------------------- |\\n| spring.boot.admin.notify.discord.enabled     | Enable Discord notifications                          | true                                                                                                             |\\n| spring.boot.admin.notify.discord.webhook-url | The Discord webhook url to send the notifications to. |                                                                                                                  |\\n| spring.boot.admin.notify.discord.username    | Optional username.                                    | _Default set in Discord_                                                                                         |\\n| spring.boot.admin.notify.discord.avatar-url  | Optional URL to avatar.                               | _Default set in Discord_                                                                                         |\\n| spring.boot.admin.notify.discord.tts         | If the message is a text to speech message.           | false                                                                                                            |\\n| spring.boot.admin.notify.discord.message     | Text to send. SpEL-expressions are supported.',\n",
       "    'score': '-2.6404452323913574',\n",
       "    'source': 'github',\n",
       "    'id': '5c4454a6-24f4-4faa-9a42-27ffefe24cab'},\n",
       "   {'text': '__Discord notifications configuration options__\\n| Property name                                | Description                                           | Default value                                                                                                    |\\n| -------------------------------------------- | ----------------------------------------------------- | ---------------------------------------------------------------------------------------------------------------- |\\n| spring.boot.admin.notify.discord.enabled     | Enable Discord notifications                          | true                                                                                                             |\\n| spring.boot.admin.notify.discord.webhook-url | The Discord webhook url to send the notifications to. |                                                                                                                  |\\n| spring.boot.admin.notify.discord.username    | Optional username.                                    | _Default set in Discord_                                                                                         |\\n| spring.boot.admin.notify.discord.avatar-url  | Optional URL to avatar.                               | _Default set in Discord_                                                                                         |\\n| spring.boot.admin.notify.discord.tts         | If the message is a text to speech message.           | false                                                                                                            |\\n| spring.boot.admin.notify.discord.message     | Text to send. SpEL-expressions are supported.',\n",
       "    'score': '-3.0135154724121094',\n",
       "    'source': 'github',\n",
       "    'id': 'e6809e0f-9228-4243-8a12-5ca814d5cb53'},\n",
       "   {'text': '| &#36;&#123;spring.boot.admin.discovery.converter.management-context-path&#125; |\\n| health.path             | The path is appended to the service URL and will be used for the health-checking. Ignored by the EurekaServiceInstanceConverter. | &#36;&#123;spring.boot.admin.discovery.converter.health-endpoint&#125;         |\\n| group                   | The group is used to group services in the UI by the group name instead of application name.                                     |                                                                                |\\n\\n__Discovery configuration options__\\n| Property name                                                 | Description                                                                                                                                       | Default value |\\n| ------------------------------------------------------------- | ------------------------------------------------------------------------------------------------------------------------------------------------- | ------------- |\\n| spring.boot.admin.discovery.enabled                           | Enables the DiscoveryClient-support for the admin server.                                                                                         | true          |\\n| spring.boot.admin.discovery.converter.management-context-path | Will be appended to the service-url of the discovered service when the management-url is converted by the DefaultServiceInstanceConverter.',\n",
       "    'score': '-3.2279293537139893',\n",
       "    'source': 'github',\n",
       "    'id': '5eeca869-4235-4538-ae37-c5c545f79b81'},\n",
       "   {'text': 'tools.checkstyle.checks.imports.AvoidStaticImportCheck\">-->\\n        <!--            <property name=\"excludes\"-->\\n        <!--                      value=\"io.restassured.RestAssured.*, org.assertj.core.api.Assertions.*, org.junit.jupiter.api.Assertions.*, org.junit.jupiter.api.Assumptions.*, org.junit.Assert.*, org.junit.Assume.*, org.junit.internal.matchers.ThrowableMessageMatcher.*, org.junit.jupiter.api.Assertions.*, org.hamcrest.CoreMatchers.*, org.hamcrest.Matchers.*, org.springframework.boot.configurationprocessor.ConfigurationMetadataMatchers.*, org.springframework.boot.configurationprocessor.TestCompiler.*, org.springframework.boot.test.autoconfigure.AutoConfigurationImportedCondition.*, org.mockito.Mockito.*, org.mockito.BDDMockito.*, org.mockito.ArgumentMatchers.*, org.mockito.Matchers.*, org.springframework.restdocs.headers.HeaderDocumentation.*, org.springframework.restdocs.hypermedia.HypermediaDocumentation.*, org.springframework.restdocs.mockmvc.MockMvcRestDocumentation.*, org.springframework.restdocs.mockmvc.RestDocumentationRequestBuilders.',\n",
       "    'score': '-3.562936782836914',\n",
       "    'source': 'github',\n",
       "    'id': '242c57e2-c300-45ab-b6e1-8616a42e7619'},\n",
       "   {'text': \"__Telegram notifications configuration options__\\n| Property name                                    | Description                                                                                               | Default value                                                                                                                                                        |\\n| ------------------------------------------------ | --------------------------------------------------------------------------------------------------------- | -------------------------------------------------------------------------------------------------------------------------------------------------------------------- |\\n| spring.boot.admin.notify.telegram.enabled        | Enable Telegram notifications                                                                             | true                                                                                                                                                                 |\\n| spring.boot.admin.notify.telegram.auth-token     | The token identifying und authorizing your Telegram bot (e.g. 123456:ABC-DEF1234ghIkl-zyx57W2v1u123ew11). |                                                                                                                                                                      |\\n| spring.boot.admin.notify.telegram.chat-id        | Unique identifier for the target chat or username of the target channel                                   |                                                                                                                                                                      |\\n| spring.boot.admin.notify.telegram.disable-notify | If true users will receive a notification with no sound.                                                  | false                                                                                                                                                                |\\n| spring.boot.admin.notify.telegram.parse_mode     | The parsing mode for the sent message. Currently, `HTML' and 'Markdown' are supported.\",\n",
       "    'score': '-4.22077751159668',\n",
       "    'source': 'github',\n",
       "    'id': 'fbb5cd49-8062-4804-a753-b731c848a618'}],\n",
       "  'genrations': {'gpt-4o-mini-2024-07-18': {'plan': '1. Identify the two configuration options: spring.cloud.zookeeper.enabled from apollo-assembly/src/main/resources/application.yml and eureka.client.fetch-registry from apollo-configservice/src/main/resources/application.yml. 2. Check the types of both configuration options to confirm they are BOOLEAN. 3. Verify the values of both options: spring.cloud.zookeeper.enabled has a value of FALSE and eureka.client.fetch-registry also has a value of FALSE. 4. Determine if the identical values (both FALSE) create a dependency based on value-equality. 5. Conclude whether a true dependency exists or if the similarity in values is coincidental.',\n",
       "    'rationale': 'Both configuration options are of BOOLEAN type and share the same value of FALSE. However, even though they have equal values, there is no indication from the context that these options directly depend on each other for functionality. Therefore, the equal values do not imply a necessary dependency.',\n",
       "    'isDependency': False}}}]"
      ]
     },
     "execution_count": 5,
     "metadata": {},
     "output_type": "execute_result"
    }
   ],
   "source": [
    "data"
   ]
  },
  {
   "cell_type": "code",
   "execution_count": 1,
   "metadata": {},
   "outputs": [
    {
     "name": "stderr",
     "output_type": "stream",
     "text": [
      "/Users/sebastiansimon/GitHub/rag-config-val/env/lib/python3.12/site-packages/tqdm/auto.py:21: TqdmWarning: IProgress not found. Please update jupyter and ipywidgets. See https://ipywidgets.readthedocs.io/en/stable/user_install.html\n",
      "  from .autonotebook import tqdm as notebook_tqdm\n"
     ]
    },
    {
     "name": "stdout",
     "output_type": "stream",
     "text": [
      "Model:  gpt-4o-mini-2024-07-18\n",
      "TP:  1\n",
      "FP:  0\n",
      "FN:  0\n",
      "TN:  3\n",
      "Model:  deepseek-r1:70b\n",
      "TP:  0\n",
      "FP:  0\n",
      "FN:  1\n",
      "TN:  3\n",
      "Model:  phi4:latest\n",
      "TP:  0\n",
      "FP:  0\n",
      "FN:  1\n",
      "TN:  3\n",
      "Model:  llama3.1:70b\n",
      "TP:  0\n",
      "FP:  0\n",
      "FN:  1\n",
      "TN:  3\n",
      "{'model': 'gpt-4o-mini-2024-07-18', 'precision': 1.0, 'recall': 1.0, 'f1_score': 1.0, 'accuracy': 1.0, 'skipped': 0}\n",
      "{'model': 'deepseek-r1:70b', 'precision': 0, 'recall': 0.0, 'f1_score': 0, 'accuracy': 0.75, 'skipped': 0}\n",
      "{'model': 'phi4:latest', 'precision': 0, 'recall': 0.0, 'f1_score': 0, 'accuracy': 0.75, 'skipped': 0}\n",
      "{'model': 'llama3.1:70b', 'precision': 0, 'recall': 0.0, 'f1_score': 0, 'accuracy': 0.75, 'skipped': 0}\n"
     ]
    }
   ],
   "source": [
    "import json\n",
    "from src.util import compute_evaluation_metrics\n",
    "\n",
    "with open(\"data/evaluation/generation_results/test_dependencies_config1.json\", \"r\", encoding=\"utf-8\") as src:\n",
    "    data = json.load(src)\n",
    "\n",
    "metrics = compute_evaluation_metrics(data)\n",
    "\n",
    "for x in metrics:\n",
    "    print(x)"
   ]
  },
  {
   "cell_type": "code",
   "execution_count": 2,
   "metadata": {},
   "outputs": [
    {
     "name": "stdout",
     "output_type": "stream",
     "text": [
      "{'plan': \"1. Identify the configuration options in question: both are 'project.modelVersion' of type VERSION_NUMBER with value 4.0.0.\\n2. Check if these configurations belong to different Maven modules (apollo-audit/apollo-audit-api and apollo-biz).\\n3. Determine if there's a parent-child relationship between the POM files or if they are independent.\\n4. Assess whether Maven requires modelVersion to be consistent across modules in a multi-module project.\\n5. Conclude based on Maven's requirements for modelVersion consistency.\", 'rationale': \"In Maven, each module's pom.xml must have the same modelVersion as specified in the parent POM if it's part of a multi-module project. If these modules share a common parent with a defined modelVersion, then their individual 'project.modelVersion' values must match to maintain consistency and avoid configuration errors.\", 'uncertainty': 8, 'isDependency': True}\n"
     ]
    }
   ],
   "source": [
    "from src.util import get_dominat_response\n",
    "\n",
    "responses = [\n",
    "    {\n",
    "    \"plan\": \"1. Identify the configuration options in question: both are 'project.modelVersion' of type VERSION_NUMBER with value 4.0.0.\\n2. Check if these configurations belong to different Maven modules (apollo-audit/apollo-audit-api and apollo-biz).\\n3. Determine if there's a parent-child relationship between the POM files or if they are independent.\\n4. Assess whether Maven requires modelVersion to be consistent across modules in a multi-module project.\\n5. Conclude based on Maven's requirements for modelVersion consistency.\",\n",
    "    \"rationale\": \"In Maven, each module's pom.xml must have the same modelVersion as specified in the parent POM if it's part of a multi-module project. If these modules share a common parent with a defined modelVersion, then their individual 'project.modelVersion' values must match to maintain consistency and avoid configuration errors.\",\n",
    "    \"uncertainty\": 8,\n",
    "    \"isDependency\": True\n",
    "    },\n",
    "    {\n",
    "    \"plan\": \"1. Identify both configuration options in their respective POM files.\\n2. Check if they are of the same type (VERSION_NUMBER) and have the same value (4.0.0).\\n3. Determine if Maven requires these versions to be identical for proper functionality across dependent projects.\\n4. Conclude based on Maven's handling of modelVersion in multi-module projects.\",\n",
    "    \"rationale\": \"In Maven, the modelVersion typically refers to the version of the POM structure and is usually consistent across all modules within a multi-module project to ensure compatibility. If apollo-audit-api and apollo-biz are part of the same parent project or have interdependencies, having the same modelVersion ensures that Maven can correctly process and build them together without conflicts.\",\n",
    "    \"uncertainty\": 8,\n",
    "    \"isDependency\": True\n",
    "    },\n",
    "    {\n",
    "    \"plan\": \"1. Identify the two configuration options in question: project.modelVersion in apollo-audit/apollo-audit-api/pom.xml with value 4.0.0 and project.modelVersion in apollo-biz/pom.xml also with value 4.0.0.\\n2. Understand that both are Maven POM files, which use modelVersion to specify the version of the POM format they conform to.\\n3. Recognize that modelVersion is a standard element in Maven POMs and typically refers to the Project Object Model version (e.g., 4.0.0).\\n4. Note that having the same value doesn't inherently create a dependency; it's about whether their values must match for proper functionality.\\n5. Consider whether these two projects are part of the same multi-module project or independent.\\n6. If they're modules in a parent POM, the modelVersion should align with the parent's modelVersion to maintain consistency and avoid errors during build processes.\\n7. However, if they are separate projects without a shared parent, their modelVersions can differ without causing dependency issues because each project is built independently.\\n8. Without explicit information about a parent-child relationship or inter-dependency between these two POMs, it's reasonable to conclude that their modelVersion values don't depend on each other.\\n9. Therefore, the same value might be coincidental and not indicative of an actual dependency.\",\n",
    "    \"rationale\": \"The project.modelVersion in both POM files refers to the Maven POM version specification. While they share the same value (4.0.0), this does not imply a dependency unless one is a parent or module of the other, which isn't indicated here. Maven projects can independently have the same modelVersion without being dependent on each other.\",\n",
    "    \"uncertainty\": 8,\n",
    "    \"isDependency\": False\n",
    "    }\n",
    "]\n",
    "\n",
    "\n",
    "dominant_response = get_dominat_response(responses=responses)\n",
    "\n",
    "print(dominant_response)\n"
   ]
  },
  {
   "cell_type": "code",
   "execution_count": 2,
   "metadata": {},
   "outputs": [
    {
     "name": "stdout",
     "output_type": "stream",
     "text": [
      "Set OpenAI Embedding\n"
     ]
    }
   ],
   "source": [
    "from pinecone import Pinecone, ServerlessSpec\n",
    "from src.utils import set_embedding\n",
    "import os\n",
    "from dotenv import load_dotenv\n",
    "\n",
    "load_dotenv(dotenv_path=\".env\")\n",
    "\n",
    "set_embedding(embed_model_name=\"openai\")\n",
    "\n",
    "client = Pinecone(api_key=os.getenv(\"PINECONE_API_KEY\"))\n",
    "\n",
    "client.create_index(\n",
    "    name=\"web\",\n",
    "    dimension=1536,\n",
    "    metric=\"dotproduct\",\n",
    "    spec=ServerlessSpec(\n",
    "        cloud=\"aws\",\n",
    "        region=\"us-east-1\"\n",
    "    )\n",
    ")"
   ]
  },
  {
   "cell_type": "code",
   "execution_count": 53,
   "metadata": {},
   "outputs": [
    {
     "data": {
      "text/plain": [
       "{'dimension': 1536,\n",
       " 'index_fullness': 0.0,\n",
       " 'namespaces': {},\n",
       " 'total_vector_count': 0}"
      ]
     },
     "execution_count": 53,
     "metadata": {},
     "output_type": "execute_result"
    }
   ],
   "source": [
    "index =client.Index(\"web\")\n",
    "\n",
    "index.describe_index_stats()"
   ]
  },
  {
   "cell_type": "code",
   "execution_count": 54,
   "metadata": {},
   "outputs": [
    {
     "name": "stdout",
     "output_type": "stream",
     "text": [
      "Total vectors in index: 0\n"
     ]
    }
   ],
   "source": [
    "vector_count = index.describe_index_stats().get(\"total_vector_count\", 0)\n",
    "\n",
    "print(f\"Total vectors in index: {vector_count}\")"
   ]
  },
  {
   "cell_type": "code",
   "execution_count": 60,
   "metadata": {},
   "outputs": [
    {
     "name": "stdout",
     "output_type": "stream",
     "text": [
      "Number of urls to scrape: 3\n",
      "Add 3 web documents to vector store.\n"
     ]
    },
    {
     "name": "stderr",
     "output_type": "stream",
     "text": [
      "Upserted vectors: 100%|██████████| 104/104 [00:05<00:00, 18.68it/s]"
     ]
    },
    {
     "name": "stdout",
     "output_type": "stream",
     "text": [
      "Nodes successfully added to vector store.\n"
     ]
    },
    {
     "name": "stderr",
     "output_type": "stream",
     "text": [
      "\n"
     ]
    }
   ],
   "source": [
    "from src.utils_ingestion import get_documents_from_web, add_nodes_to_vector_store\n",
    "from llama_index.vector_stores.pinecone import PineconeVectorStore\n",
    "\n",
    "# create vector store\n",
    "vector_store = PineconeVectorStore(\n",
    "    pinecone_index=index,\n",
    "    add_sparse_vector=True\n",
    ")\n",
    "\n",
    "web_documents = get_documents_from_web(\n",
    "    query_str=\"What are configuration dependencies?s\",\n",
    "    num_websites=3\n",
    ")\n",
    "\n",
    "print(f\"Add {len(web_documents)} web documents to vector store.\")\n",
    "web_nodes = add_nodes_to_vector_store(\n",
    "    documents=web_documents,\n",
    "    vector_store=vector_store\n",
    ")"
   ]
  },
  {
   "cell_type": "code",
   "execution_count": 61,
   "metadata": {},
   "outputs": [
    {
     "data": {
      "text/plain": [
       "104"
      ]
     },
     "execution_count": 61,
     "metadata": {},
     "output_type": "execute_result"
    }
   ],
   "source": [
    "node_ids = []\n",
    "\n",
    "for node in web_nodes:\n",
    "    #print(node.id_)\n",
    "    #print(node.node_id)\n",
    "    #print(node.metadata)\n",
    "    #print(dir(node))\n",
    "    #print(node.ref_doc_id)\n",
    "    node_ids.append(f\"{node.ref_doc_id}#{node.node_id}\")\n",
    "\n",
    "\n",
    "len(node_ids)"
   ]
  },
  {
   "cell_type": "code",
   "execution_count": 65,
   "metadata": {},
   "outputs": [
    {
     "name": "stdout",
     "output_type": "stream",
     "text": [
      "Total vectors in index: 104\n"
     ]
    }
   ],
   "source": [
    "vector_count = index.describe_index_stats().get(\"total_vector_count\", 0)\n",
    "\n",
    "print(f\"Total vectors in index: {vector_count}\")"
   ]
  },
  {
   "cell_type": "code",
   "execution_count": 66,
   "metadata": {},
   "outputs": [],
   "source": [
    "from llama_index.core.vector_stores import (\n",
    "    MetadataFilter,\n",
    "    MetadataFilters,\n",
    "    FilterOperator,\n",
    ")\n",
    "\n",
    "filters = MetadataFilters(\n",
    "    filters=[\n",
    "        MetadataFilter(\n",
    "            key=\"source\", operator=FilterOperator.EQ, value=\"web\"\n",
    "        ),\n",
    "    ]\n",
    ")"
   ]
  },
  {
   "cell_type": "code",
   "execution_count": 68,
   "metadata": {},
   "outputs": [],
   "source": [
    "vector_store.delete_nodes(node_ids=node_ids)"
   ]
  },
  {
   "cell_type": "code",
   "execution_count": 69,
   "metadata": {},
   "outputs": [
    {
     "name": "stdout",
     "output_type": "stream",
     "text": [
      "Total vectors in index: 0\n"
     ]
    }
   ],
   "source": [
    "vector_count = index.describe_index_stats().get(\"total_vector_count\", 0)\n",
    "\n",
    "print(f\"Total vectors in index: {vector_count}\")"
   ]
  },
  {
   "cell_type": "code",
   "execution_count": 52,
   "metadata": {},
   "outputs": [
    {
     "data": {
      "text/plain": [
       "64"
      ]
     },
     "execution_count": 52,
     "metadata": {},
     "output_type": "execute_result"
    }
   ],
   "source": [
    "vector_count = index.describe_index_stats().get(\"total_vector_count\", 0)\n",
    "\n",
    "vector_count\n"
   ]
  },
  {
   "cell_type": "code",
   "execution_count": 1,
   "metadata": {},
   "outputs": [
    {
     "data": {
      "text/plain": [
       "'Information about both configuration options, including their descriptions, prior usages, and examples of similar dependencies are provided below.\\nThe provided information comes from various sources, such as manuals, Stack Overflow posts, GitHub repositories, and web search results.\\nNote that not all the provided information may be relevant for validating the dependency.\\nConsider only the information that is relevant for validating the dependency, and disregard the rest.Here is some context\\nAdditionally, here are some examples on how similar dependencies are evaluated:\\n\\n{shot_str}\\n\\nGiven the information and examples, perform the following task:\\n\\nCarefully evaluate whether configuration option project.modelVersion of type None with value 4.0.0 in src/serviceB/pom.xml of technology Maven depends on configuration option project.modelVersion of type None with value 4.0.0 in src/serviceA/pom.xml of technology Maven or vice versa.\\n\\nRespond in a JSON format as shown below:\\n{{\\n\\t“plan”: string, // Write down a step-by-step plan on how to solve the task given the information and examples of similar dependencies above.\\n\\t“rationale”: string, // Provide a concise explanation of whether and why the configuration options depend on each other due to value-equality.\\n\\t“isDependency”: boolean // True if a dependency exists, or False otherwise.\\n}}'"
      ]
     },
     "execution_count": 1,
     "metadata": {},
     "output_type": "execute_result"
    }
   ],
   "source": [
    "from src.data import Dependency\n",
    "from src.prompts import Prompts\n",
    "\n",
    "dependency = Dependency(\n",
    "    project=\"Apollo\",\n",
    "    option_file=\"src/serviceB/pom.xml\",\n",
    "    option_name=\"project.modelVersion\",\n",
    "    option_value=\"4.0.0\",\n",
    "    option_technology=\"Maven\",\n",
    "    dependent_option_file=\"src/serviceA/pom.xml\",\n",
    "    dependent_option_name=\"project.modelVersion\",\n",
    "    dependent_option_value=\"4.0.0\",\n",
    "    dependent_option_technology=\"Maven\",\n",
    ")\n",
    "\n",
    "system_str = Prompts.get_system_str(project_name=dependency.project, project_info=\"Here is additional Project inforation\", advanced=True)\n",
    "#system_str\n",
    "\n",
    "task_str = Prompts.get_task_str(dependency=dependency)\n",
    "#task_str\n",
    "\n",
    "format_str = Prompts.get_format_prompt()\n",
    "#format_str\n",
    "\n",
    "dependency_definition = Prompts.get_dependency_definition_str(advanced=False)\n",
    "#dependency_definition\n",
    "\n",
    "query_str = Prompts.get_query_str(\n",
    "    context_str=\"Here is some context\",\n",
    "    shot_str=\"Here is some shot\",\n",
    "    task_str=task_str,\n",
    "    advanced=True\n",
    ")\n",
    "\n",
    "query_str"
   ]
  },
  {
   "cell_type": "code",
   "execution_count": 2,
   "metadata": {},
   "outputs": [
    {
     "data": {
      "text/plain": [
       "'Dependency between project.modelVersion in Maven with value 4.0.0 and project.modelVersion in Maven with value 4.0.0'"
      ]
     },
     "execution_count": 2,
     "metadata": {},
     "output_type": "execute_result"
    }
   ],
   "source": [
    "retrieval_query = Prompts.get_retrieval_prompt(dependency=dependency)\n",
    "retrieval_query"
   ]
  },
  {
   "cell_type": "code",
   "execution_count": 3,
   "metadata": {},
   "outputs": [],
   "source": [
    "import json\n",
    "\n",
    "with open(\"data/evaluation/retrieval_results/all_dependencies_config7.json\", \"r\", encoding=\"utf-8\") as src:\n",
    "    data = json.load(src)\n",
    "\n",
    "\n",
    "for x in data:\n",
    "    x[\"context\"] = x[\"context\"][:3]\n",
    "\n",
    "with open(\"data/evaluation/retrieval_results/all_dependencies_config8.json\", \"w\", encoding=\"utf-8\") as dest:\n",
    "    json.dump(data, dest, indent=2)"
   ]
  },
  {
   "cell_type": "code",
   "execution_count": 5,
   "metadata": {},
   "outputs": [
    {
     "ename": "FileNotFoundError",
     "evalue": "[Errno 2] No such file or directory: '/mnt/data/cicd_dependency_validation.png'",
     "output_type": "error",
     "traceback": [
      "\u001b[0;31m---------------------------------------------------------------------------\u001b[0m",
      "\u001b[0;31mFileNotFoundError\u001b[0m                         Traceback (most recent call last)",
      "Cell \u001b[0;32mIn[5], line 52\u001b[0m\n\u001b[1;32m     50\u001b[0m \u001b[38;5;66;03m# Save the diagram\u001b[39;00m\n\u001b[1;32m     51\u001b[0m diagram_path \u001b[38;5;241m=\u001b[39m \u001b[38;5;124m\"\u001b[39m\u001b[38;5;124m/mnt/data/cicd_dependency_validation.png\u001b[39m\u001b[38;5;124m\"\u001b[39m\n\u001b[0;32m---> 52\u001b[0m \u001b[43mplt\u001b[49m\u001b[38;5;241;43m.\u001b[39;49m\u001b[43msavefig\u001b[49m\u001b[43m(\u001b[49m\u001b[43mdiagram_path\u001b[49m\u001b[43m,\u001b[49m\u001b[43m \u001b[49m\u001b[43mdpi\u001b[49m\u001b[38;5;241;43m=\u001b[39;49m\u001b[38;5;241;43m300\u001b[39;49m\u001b[43m,\u001b[49m\u001b[43m \u001b[49m\u001b[43mbbox_inches\u001b[49m\u001b[38;5;241;43m=\u001b[39;49m\u001b[38;5;124;43m\"\u001b[39;49m\u001b[38;5;124;43mtight\u001b[39;49m\u001b[38;5;124;43m\"\u001b[39;49m\u001b[43m)\u001b[49m\n\u001b[1;32m     53\u001b[0m plt\u001b[38;5;241m.\u001b[39mshow()\n\u001b[1;32m     55\u001b[0m \u001b[38;5;66;03m# Provide the file path for download\u001b[39;00m\n",
      "File \u001b[0;32m~/projects/rag-config-val/env/lib/python3.10/site-packages/matplotlib/pyplot.py:1243\u001b[0m, in \u001b[0;36msavefig\u001b[0;34m(*args, **kwargs)\u001b[0m\n\u001b[1;32m   1240\u001b[0m fig \u001b[38;5;241m=\u001b[39m gcf()\n\u001b[1;32m   1241\u001b[0m \u001b[38;5;66;03m# savefig default implementation has no return, so mypy is unhappy\u001b[39;00m\n\u001b[1;32m   1242\u001b[0m \u001b[38;5;66;03m# presumably this is here because subclasses can return?\u001b[39;00m\n\u001b[0;32m-> 1243\u001b[0m res \u001b[38;5;241m=\u001b[39m \u001b[43mfig\u001b[49m\u001b[38;5;241;43m.\u001b[39;49m\u001b[43msavefig\u001b[49m\u001b[43m(\u001b[49m\u001b[38;5;241;43m*\u001b[39;49m\u001b[43margs\u001b[49m\u001b[43m,\u001b[49m\u001b[43m \u001b[49m\u001b[38;5;241;43m*\u001b[39;49m\u001b[38;5;241;43m*\u001b[39;49m\u001b[43mkwargs\u001b[49m\u001b[43m)\u001b[49m  \u001b[38;5;66;03m# type: ignore[func-returns-value]\u001b[39;00m\n\u001b[1;32m   1244\u001b[0m fig\u001b[38;5;241m.\u001b[39mcanvas\u001b[38;5;241m.\u001b[39mdraw_idle()  \u001b[38;5;66;03m# Need this if 'transparent=True', to reset colors.\u001b[39;00m\n\u001b[1;32m   1245\u001b[0m \u001b[38;5;28;01mreturn\u001b[39;00m res\n",
      "File \u001b[0;32m~/projects/rag-config-val/env/lib/python3.10/site-packages/matplotlib/figure.py:3490\u001b[0m, in \u001b[0;36mFigure.savefig\u001b[0;34m(self, fname, transparent, **kwargs)\u001b[0m\n\u001b[1;32m   3488\u001b[0m     \u001b[38;5;28;01mfor\u001b[39;00m ax \u001b[38;5;129;01min\u001b[39;00m \u001b[38;5;28mself\u001b[39m\u001b[38;5;241m.\u001b[39maxes:\n\u001b[1;32m   3489\u001b[0m         _recursively_make_axes_transparent(stack, ax)\n\u001b[0;32m-> 3490\u001b[0m \u001b[38;5;28;43mself\u001b[39;49m\u001b[38;5;241;43m.\u001b[39;49m\u001b[43mcanvas\u001b[49m\u001b[38;5;241;43m.\u001b[39;49m\u001b[43mprint_figure\u001b[49m\u001b[43m(\u001b[49m\u001b[43mfname\u001b[49m\u001b[43m,\u001b[49m\u001b[43m \u001b[49m\u001b[38;5;241;43m*\u001b[39;49m\u001b[38;5;241;43m*\u001b[39;49m\u001b[43mkwargs\u001b[49m\u001b[43m)\u001b[49m\n",
      "File \u001b[0;32m~/projects/rag-config-val/env/lib/python3.10/site-packages/matplotlib/backend_bases.py:2184\u001b[0m, in \u001b[0;36mFigureCanvasBase.print_figure\u001b[0;34m(self, filename, dpi, facecolor, edgecolor, orientation, format, bbox_inches, pad_inches, bbox_extra_artists, backend, **kwargs)\u001b[0m\n\u001b[1;32m   2180\u001b[0m \u001b[38;5;28;01mtry\u001b[39;00m:\n\u001b[1;32m   2181\u001b[0m     \u001b[38;5;66;03m# _get_renderer may change the figure dpi (as vector formats\u001b[39;00m\n\u001b[1;32m   2182\u001b[0m     \u001b[38;5;66;03m# force the figure dpi to 72), so we need to set it again here.\u001b[39;00m\n\u001b[1;32m   2183\u001b[0m     \u001b[38;5;28;01mwith\u001b[39;00m cbook\u001b[38;5;241m.\u001b[39m_setattr_cm(\u001b[38;5;28mself\u001b[39m\u001b[38;5;241m.\u001b[39mfigure, dpi\u001b[38;5;241m=\u001b[39mdpi):\n\u001b[0;32m-> 2184\u001b[0m         result \u001b[38;5;241m=\u001b[39m \u001b[43mprint_method\u001b[49m\u001b[43m(\u001b[49m\n\u001b[1;32m   2185\u001b[0m \u001b[43m            \u001b[49m\u001b[43mfilename\u001b[49m\u001b[43m,\u001b[49m\n\u001b[1;32m   2186\u001b[0m \u001b[43m            \u001b[49m\u001b[43mfacecolor\u001b[49m\u001b[38;5;241;43m=\u001b[39;49m\u001b[43mfacecolor\u001b[49m\u001b[43m,\u001b[49m\n\u001b[1;32m   2187\u001b[0m \u001b[43m            \u001b[49m\u001b[43medgecolor\u001b[49m\u001b[38;5;241;43m=\u001b[39;49m\u001b[43medgecolor\u001b[49m\u001b[43m,\u001b[49m\n\u001b[1;32m   2188\u001b[0m \u001b[43m            \u001b[49m\u001b[43morientation\u001b[49m\u001b[38;5;241;43m=\u001b[39;49m\u001b[43morientation\u001b[49m\u001b[43m,\u001b[49m\n\u001b[1;32m   2189\u001b[0m \u001b[43m            \u001b[49m\u001b[43mbbox_inches_restore\u001b[49m\u001b[38;5;241;43m=\u001b[39;49m\u001b[43m_bbox_inches_restore\u001b[49m\u001b[43m,\u001b[49m\n\u001b[1;32m   2190\u001b[0m \u001b[43m            \u001b[49m\u001b[38;5;241;43m*\u001b[39;49m\u001b[38;5;241;43m*\u001b[39;49m\u001b[43mkwargs\u001b[49m\u001b[43m)\u001b[49m\n\u001b[1;32m   2191\u001b[0m \u001b[38;5;28;01mfinally\u001b[39;00m:\n\u001b[1;32m   2192\u001b[0m     \u001b[38;5;28;01mif\u001b[39;00m bbox_inches \u001b[38;5;129;01mand\u001b[39;00m restore_bbox:\n",
      "File \u001b[0;32m~/projects/rag-config-val/env/lib/python3.10/site-packages/matplotlib/backend_bases.py:2040\u001b[0m, in \u001b[0;36mFigureCanvasBase._switch_canvas_and_return_print_method.<locals>.<lambda>\u001b[0;34m(*args, **kwargs)\u001b[0m\n\u001b[1;32m   2036\u001b[0m     optional_kws \u001b[38;5;241m=\u001b[39m {  \u001b[38;5;66;03m# Passed by print_figure for other renderers.\u001b[39;00m\n\u001b[1;32m   2037\u001b[0m         \u001b[38;5;124m\"\u001b[39m\u001b[38;5;124mdpi\u001b[39m\u001b[38;5;124m\"\u001b[39m, \u001b[38;5;124m\"\u001b[39m\u001b[38;5;124mfacecolor\u001b[39m\u001b[38;5;124m\"\u001b[39m, \u001b[38;5;124m\"\u001b[39m\u001b[38;5;124medgecolor\u001b[39m\u001b[38;5;124m\"\u001b[39m, \u001b[38;5;124m\"\u001b[39m\u001b[38;5;124morientation\u001b[39m\u001b[38;5;124m\"\u001b[39m,\n\u001b[1;32m   2038\u001b[0m         \u001b[38;5;124m\"\u001b[39m\u001b[38;5;124mbbox_inches_restore\u001b[39m\u001b[38;5;124m\"\u001b[39m}\n\u001b[1;32m   2039\u001b[0m     skip \u001b[38;5;241m=\u001b[39m optional_kws \u001b[38;5;241m-\u001b[39m {\u001b[38;5;241m*\u001b[39minspect\u001b[38;5;241m.\u001b[39msignature(meth)\u001b[38;5;241m.\u001b[39mparameters}\n\u001b[0;32m-> 2040\u001b[0m     print_method \u001b[38;5;241m=\u001b[39m functools\u001b[38;5;241m.\u001b[39mwraps(meth)(\u001b[38;5;28;01mlambda\u001b[39;00m \u001b[38;5;241m*\u001b[39margs, \u001b[38;5;241m*\u001b[39m\u001b[38;5;241m*\u001b[39mkwargs: \u001b[43mmeth\u001b[49m\u001b[43m(\u001b[49m\n\u001b[1;32m   2041\u001b[0m \u001b[43m        \u001b[49m\u001b[38;5;241;43m*\u001b[39;49m\u001b[43margs\u001b[49m\u001b[43m,\u001b[49m\u001b[43m \u001b[49m\u001b[38;5;241;43m*\u001b[39;49m\u001b[38;5;241;43m*\u001b[39;49m\u001b[43m{\u001b[49m\u001b[43mk\u001b[49m\u001b[43m:\u001b[49m\u001b[43m \u001b[49m\u001b[43mv\u001b[49m\u001b[43m \u001b[49m\u001b[38;5;28;43;01mfor\u001b[39;49;00m\u001b[43m \u001b[49m\u001b[43mk\u001b[49m\u001b[43m,\u001b[49m\u001b[43m \u001b[49m\u001b[43mv\u001b[49m\u001b[43m \u001b[49m\u001b[38;5;129;43;01min\u001b[39;49;00m\u001b[43m \u001b[49m\u001b[43mkwargs\u001b[49m\u001b[38;5;241;43m.\u001b[39;49m\u001b[43mitems\u001b[49m\u001b[43m(\u001b[49m\u001b[43m)\u001b[49m\u001b[43m \u001b[49m\u001b[38;5;28;43;01mif\u001b[39;49;00m\u001b[43m \u001b[49m\u001b[43mk\u001b[49m\u001b[43m \u001b[49m\u001b[38;5;129;43;01mnot\u001b[39;49;00m\u001b[43m \u001b[49m\u001b[38;5;129;43;01min\u001b[39;49;00m\u001b[43m \u001b[49m\u001b[43mskip\u001b[49m\u001b[43m}\u001b[49m\u001b[43m)\u001b[49m)\n\u001b[1;32m   2042\u001b[0m \u001b[38;5;28;01melse\u001b[39;00m:  \u001b[38;5;66;03m# Let third-parties do as they see fit.\u001b[39;00m\n\u001b[1;32m   2043\u001b[0m     print_method \u001b[38;5;241m=\u001b[39m meth\n",
      "File \u001b[0;32m~/projects/rag-config-val/env/lib/python3.10/site-packages/matplotlib/backends/backend_agg.py:481\u001b[0m, in \u001b[0;36mFigureCanvasAgg.print_png\u001b[0;34m(self, filename_or_obj, metadata, pil_kwargs)\u001b[0m\n\u001b[1;32m    434\u001b[0m \u001b[38;5;28;01mdef\u001b[39;00m\u001b[38;5;250m \u001b[39m\u001b[38;5;21mprint_png\u001b[39m(\u001b[38;5;28mself\u001b[39m, filename_or_obj, \u001b[38;5;241m*\u001b[39m, metadata\u001b[38;5;241m=\u001b[39m\u001b[38;5;28;01mNone\u001b[39;00m, pil_kwargs\u001b[38;5;241m=\u001b[39m\u001b[38;5;28;01mNone\u001b[39;00m):\n\u001b[1;32m    435\u001b[0m \u001b[38;5;250m    \u001b[39m\u001b[38;5;124;03m\"\"\"\u001b[39;00m\n\u001b[1;32m    436\u001b[0m \u001b[38;5;124;03m    Write the figure to a PNG file.\u001b[39;00m\n\u001b[1;32m    437\u001b[0m \n\u001b[0;32m   (...)\u001b[0m\n\u001b[1;32m    479\u001b[0m \u001b[38;5;124;03m        *metadata*, including the default 'Software' key.\u001b[39;00m\n\u001b[1;32m    480\u001b[0m \u001b[38;5;124;03m    \"\"\"\u001b[39;00m\n\u001b[0;32m--> 481\u001b[0m     \u001b[38;5;28;43mself\u001b[39;49m\u001b[38;5;241;43m.\u001b[39;49m\u001b[43m_print_pil\u001b[49m\u001b[43m(\u001b[49m\u001b[43mfilename_or_obj\u001b[49m\u001b[43m,\u001b[49m\u001b[43m \u001b[49m\u001b[38;5;124;43m\"\u001b[39;49m\u001b[38;5;124;43mpng\u001b[39;49m\u001b[38;5;124;43m\"\u001b[39;49m\u001b[43m,\u001b[49m\u001b[43m \u001b[49m\u001b[43mpil_kwargs\u001b[49m\u001b[43m,\u001b[49m\u001b[43m \u001b[49m\u001b[43mmetadata\u001b[49m\u001b[43m)\u001b[49m\n",
      "File \u001b[0;32m~/projects/rag-config-val/env/lib/python3.10/site-packages/matplotlib/backends/backend_agg.py:430\u001b[0m, in \u001b[0;36mFigureCanvasAgg._print_pil\u001b[0;34m(self, filename_or_obj, fmt, pil_kwargs, metadata)\u001b[0m\n\u001b[1;32m    425\u001b[0m \u001b[38;5;250m\u001b[39m\u001b[38;5;124;03m\"\"\"\u001b[39;00m\n\u001b[1;32m    426\u001b[0m \u001b[38;5;124;03mDraw the canvas, then save it using `.image.imsave` (to which\u001b[39;00m\n\u001b[1;32m    427\u001b[0m \u001b[38;5;124;03m*pil_kwargs* and *metadata* are forwarded).\u001b[39;00m\n\u001b[1;32m    428\u001b[0m \u001b[38;5;124;03m\"\"\"\u001b[39;00m\n\u001b[1;32m    429\u001b[0m FigureCanvasAgg\u001b[38;5;241m.\u001b[39mdraw(\u001b[38;5;28mself\u001b[39m)\n\u001b[0;32m--> 430\u001b[0m \u001b[43mmpl\u001b[49m\u001b[38;5;241;43m.\u001b[39;49m\u001b[43mimage\u001b[49m\u001b[38;5;241;43m.\u001b[39;49m\u001b[43mimsave\u001b[49m\u001b[43m(\u001b[49m\n\u001b[1;32m    431\u001b[0m \u001b[43m    \u001b[49m\u001b[43mfilename_or_obj\u001b[49m\u001b[43m,\u001b[49m\u001b[43m \u001b[49m\u001b[38;5;28;43mself\u001b[39;49m\u001b[38;5;241;43m.\u001b[39;49m\u001b[43mbuffer_rgba\u001b[49m\u001b[43m(\u001b[49m\u001b[43m)\u001b[49m\u001b[43m,\u001b[49m\u001b[43m \u001b[49m\u001b[38;5;28;43mformat\u001b[39;49m\u001b[38;5;241;43m=\u001b[39;49m\u001b[43mfmt\u001b[49m\u001b[43m,\u001b[49m\u001b[43m \u001b[49m\u001b[43morigin\u001b[49m\u001b[38;5;241;43m=\u001b[39;49m\u001b[38;5;124;43m\"\u001b[39;49m\u001b[38;5;124;43mupper\u001b[39;49m\u001b[38;5;124;43m\"\u001b[39;49m\u001b[43m,\u001b[49m\n\u001b[1;32m    432\u001b[0m \u001b[43m    \u001b[49m\u001b[43mdpi\u001b[49m\u001b[38;5;241;43m=\u001b[39;49m\u001b[38;5;28;43mself\u001b[39;49m\u001b[38;5;241;43m.\u001b[39;49m\u001b[43mfigure\u001b[49m\u001b[38;5;241;43m.\u001b[39;49m\u001b[43mdpi\u001b[49m\u001b[43m,\u001b[49m\u001b[43m \u001b[49m\u001b[43mmetadata\u001b[49m\u001b[38;5;241;43m=\u001b[39;49m\u001b[43mmetadata\u001b[49m\u001b[43m,\u001b[49m\u001b[43m \u001b[49m\u001b[43mpil_kwargs\u001b[49m\u001b[38;5;241;43m=\u001b[39;49m\u001b[43mpil_kwargs\u001b[49m\u001b[43m)\u001b[49m\n",
      "File \u001b[0;32m~/projects/rag-config-val/env/lib/python3.10/site-packages/matplotlib/image.py:1634\u001b[0m, in \u001b[0;36mimsave\u001b[0;34m(fname, arr, vmin, vmax, cmap, format, origin, dpi, metadata, pil_kwargs)\u001b[0m\n\u001b[1;32m   1632\u001b[0m pil_kwargs\u001b[38;5;241m.\u001b[39msetdefault(\u001b[38;5;124m\"\u001b[39m\u001b[38;5;124mformat\u001b[39m\u001b[38;5;124m\"\u001b[39m, \u001b[38;5;28mformat\u001b[39m)\n\u001b[1;32m   1633\u001b[0m pil_kwargs\u001b[38;5;241m.\u001b[39msetdefault(\u001b[38;5;124m\"\u001b[39m\u001b[38;5;124mdpi\u001b[39m\u001b[38;5;124m\"\u001b[39m, (dpi, dpi))\n\u001b[0;32m-> 1634\u001b[0m \u001b[43mimage\u001b[49m\u001b[38;5;241;43m.\u001b[39;49m\u001b[43msave\u001b[49m\u001b[43m(\u001b[49m\u001b[43mfname\u001b[49m\u001b[43m,\u001b[49m\u001b[43m \u001b[49m\u001b[38;5;241;43m*\u001b[39;49m\u001b[38;5;241;43m*\u001b[39;49m\u001b[43mpil_kwargs\u001b[49m\u001b[43m)\u001b[49m\n",
      "File \u001b[0;32m~/projects/rag-config-val/env/lib/python3.10/site-packages/PIL/Image.py:2591\u001b[0m, in \u001b[0;36mImage.save\u001b[0;34m(self, fp, format, **params)\u001b[0m\n\u001b[1;32m   2589\u001b[0m         fp \u001b[38;5;241m=\u001b[39m builtins\u001b[38;5;241m.\u001b[39mopen(filename, \u001b[38;5;124m\"\u001b[39m\u001b[38;5;124mr+b\u001b[39m\u001b[38;5;124m\"\u001b[39m)\n\u001b[1;32m   2590\u001b[0m     \u001b[38;5;28;01melse\u001b[39;00m:\n\u001b[0;32m-> 2591\u001b[0m         fp \u001b[38;5;241m=\u001b[39m \u001b[43mbuiltins\u001b[49m\u001b[38;5;241;43m.\u001b[39;49m\u001b[43mopen\u001b[49m\u001b[43m(\u001b[49m\u001b[43mfilename\u001b[49m\u001b[43m,\u001b[49m\u001b[43m \u001b[49m\u001b[38;5;124;43m\"\u001b[39;49m\u001b[38;5;124;43mw+b\u001b[39;49m\u001b[38;5;124;43m\"\u001b[39;49m\u001b[43m)\u001b[49m\n\u001b[1;32m   2592\u001b[0m \u001b[38;5;28;01melse\u001b[39;00m:\n\u001b[1;32m   2593\u001b[0m     fp \u001b[38;5;241m=\u001b[39m cast(IO[\u001b[38;5;28mbytes\u001b[39m], fp)\n",
      "\u001b[0;31mFileNotFoundError\u001b[0m: [Errno 2] No such file or directory: '/mnt/data/cicd_dependency_validation.png'"
     ]
    },
    {
     "data": {
      "image/png": "[encoded data removed]",
      "text/plain": [
       "<Figure size 1200x600 with 1 Axes>"
      ]
     },
     "metadata": {},
     "output_type": "display_data"
    }
   ],
   "source": [
    "import matplotlib.pyplot as plt\n",
    "import matplotlib.patches as mpatches\n",
    "\n",
    "# Create figure and axis\n",
    "fig, ax = plt.subplots(figsize=(12, 6))\n",
    "ax.set_xlim(0, 10)\n",
    "ax.set_ylim(0, 7)\n",
    "ax.axis(\"off\")\n",
    "\n",
    "# Define box positions\n",
    "elements = {\n",
    "    \"Developer\": (1, 5),\n",
    "    \"GitHub Repo\": (3, 5),\n",
    "    \"CI/CD Pipeline\": (5, 4),\n",
    "    \"Build\": (5, 5.5),\n",
    "    \"Test\": (5, 4.5),\n",
    "    \"Dependency Validation\": (5, 3.5),\n",
    "    \"Deployment\": (5, 2.5),\n",
    "    \"Production\": (8, 5),\n",
    "    \"Warning to Developer\": (2, 3),\n",
    "}\n",
    "\n",
    "# Draw elements as rectangles\n",
    "for text, (x, y) in elements.items():\n",
    "    ax.add_patch(mpatches.FancyBboxPatch((x-0.5, y-0.3), 1.5, 0.6, boxstyle=\"round,pad=0.1\",\n",
    "                                         edgecolor=\"black\", facecolor=\"lightgray\"))\n",
    "    ax.text(x, y, text, fontsize=10, ha=\"center\", va=\"center\", fontweight=\"bold\")\n",
    "\n",
    "# Draw arrows\n",
    "arrows = [\n",
    "    ((2, 5), (2.7, 5)),  # Developer → GitHub Repo\n",
    "    ((3.7, 5), (4.3, 5)),  # GitHub Repo → CI/CD Pipeline\n",
    "    ((5, 5.2), (5, 5.7)),  # Build\n",
    "    ((5, 4.2), (5, 4.7)),  # Test\n",
    "    ((5, 3.2), (5, 3.7)),  # Dependency Validation\n",
    "    ((5, 2.2), (5, 2.7)),  # Deployment\n",
    "    ((5.7, 5), (7.3, 5)),  # CI/CD → Production\n",
    "    ((4.5, 3.5), (2.5, 3)),  # Dependency Validation → Warning\n",
    "    ((2.5, 3), (2.5, 4.5)),  # Warning → Developer\n",
    "]\n",
    "\n",
    "for (x1, y1), (x2, y2) in arrows:\n",
    "    ax.annotate(\"\", xy=(x2, y2), xytext=(x1, y1),\n",
    "                arrowprops=dict(arrowstyle=\"->\", linewidth=1.5, color=\"black\"))\n",
    "\n",
    "# Labels for stages\n",
    "ax.text(5, 6, \"CI/CD Pipeline\", fontsize=12, ha=\"center\", fontweight=\"bold\")\n",
    "ax.text(5, 1.5, \"Feedback Loop\", fontsize=12, ha=\"center\", fontweight=\"bold\", color=\"red\")\n",
    "\n",
    "# Save the diagram\n",
    "diagram_path = \"/mnt/data/cicd_dependency_validation.png\"\n",
    "plt.savefig(diagram_path, dpi=300, bbox_inches=\"tight\")\n",
    "plt.show()\n",
    "\n",
    "# Provide the file path for download\n",
    "diagram_path"
   ]
  },
  {
   "cell_type": "code",
   "execution_count": 26,
   "metadata": {},
   "outputs": [
    {
     "data": {
      "text/plain": [
       "ChatCompletion(id='chatcmpl-B0OPKbLTCjlSzEbY5FCbQv2bGf4FY', choices=[Choice(finish_reason='length', index=0, logprobs=None, message=ChatCompletionMessage(content='Configuration dependencies refer to the relationships and requirements between different components or settings in a system that must be properly aligned for the system to function correctly. These dependencies can exist in software, hardware, or a combination of both. Understanding configuration dependencies is critical for successful system deployment, integration, and maintenance.\\n\\nHere are the main types of configuration dependencies:\\n\\n---\\n\\n### 1. **Software Dependencies**\\n   - **Libraries and Frameworks**: Applications often depend on specific versions of libraries or frameworks (e.g., Node.js, .NET, Python packages).\\n   - **Operating System**: Certain software components might require specific OS versions or configurations (e.g., Linux kernel version, Windows version).\\n   - **Environment Variables**: Applications may need specific environment variables to be set for proper operation.\\n   - **Third-Party APIs**: Software may depend on external APIs, requiring correct authentication and endpoint configuration.\\n   - **Database Configurations**: Applications may depend on specific database types, versions, or schemas.\\n', refusal=None, role='assistant', audio=None, function_call=None, tool_calls=None))], created=1739433522, model='gpt-4o-2024-11-20', object='chat.completion', service_tier='default', system_fingerprint='fp_e53e529665', usage=CompletionUsage(completion_tokens=200, prompt_tokens=23, total_tokens=223, completion_tokens_details=CompletionTokensDetails(accepted_prediction_tokens=0, audio_tokens=0, reasoning_tokens=0, rejected_prediction_tokens=0), prompt_tokens_details=PromptTokensDetails(audio_tokens=0, cached_tokens=0)))"
      ]
     },
     "execution_count": 26,
     "metadata": {},
     "output_type": "execute_result"
    }
   ],
   "source": [
    "from dotenv import load_dotenv\n",
    "from openai import OpenAI\n",
    "import os\n",
    "\n",
    "load_dotenv(dotenv_path=\".env\")\n",
    "\n",
    "\n",
    "client = OpenAI(\n",
    "    api_key=os.getenv(\"PROXY_SERVER_API_KEY\"),\n",
    "    base_url=os.getenv(\"BASE_URL\")\n",
    ")\n",
    "\n",
    "messages = [\n",
    "    {\"role\": \"system\", \"content\": \"Here is a system message.\"},\n",
    "    {\"role\": \"user\", \"content\": \"What are the configuration dependencies?\"}\n",
    "]\n",
    "\n",
    "response = client.chat.completions.create(\n",
    "    model=\"gpt-4o-2024-11-20\", \n",
    "    messages=messages,        \n",
    "    temperature=0.5,\n",
    "    max_tokens=200\n",
    ")\n",
    "\n",
    "response"
   ]
  },
  {
   "cell_type": "code",
   "execution_count": 6,
   "metadata": {},
   "outputs": [
    {
     "name": "stdout",
     "output_type": "stream",
     "text": [
      "350\n",
      "350\n",
      "350\n",
      "350\n",
      "350\n",
      "350\n",
      "350\n",
      "350\n"
     ]
    }
   ],
   "source": [
    "import pandas as pd\n",
    "import glob\n",
    "import json\n",
    "\n",
    "train_data = pd.read_csv(\"data/evaluation/train_dependencies.csv\")\n",
    "\n",
    "indices = train_data[\"index\"].tolist()\n",
    "\n",
    "for file_name in glob.glob(\"data/evaluation/retrieval_results/*.json\"):\n",
    "\n",
    "    train_dependencies = []\n",
    "\n",
    "    config_name = file_name.split(\"_\")[-1].split(\".\")[0]\n",
    "\n",
    "    with open(file_name, \"r\", encoding=\"utf-8\") as src:\n",
    "        data = json.load(src)\n",
    "\n",
    "    train_dependencies = [x for x in data if x[\"index\"] in indices]\n",
    "\n",
    "    print(len(train_dependencies))\n",
    "\n",
    "    with open(f\"data/evaluation/retrieval_results/train_dependencies_{config_name}.json\", \"w\", encoding=\"utf-8\") as dest:\n",
    "        json.dump(train_dependencies, dest, indent=2)\n",
    "    \n"
   ]
  },
  {
   "cell_type": "code",
   "execution_count": 22,
   "metadata": {},
   "outputs": [],
   "source": [
    "import json\n",
    "import pandas as pd\n",
    "\n",
    "file_path = \"data/evaluation/generation_results/train_dependencies_config1.json\"\n",
    "\n",
    "train_data = pd.read_csv(\"data/evaluation/train_dependencies.csv\")\n",
    "\n",
    "indices = train_data[\"index\"].tolist()\n",
    "\n",
    "with open(file_path, \"r\", encoding=\"utf-8\") as src:\n",
    "    data = json.load(src)\n",
    "\n",
    "\n",
    "data_index_seen = []\n",
    "fixed_data = []\n",
    "for entry in data:\n",
    "    if entry[\"index\"] in indices and entry[\"index\"] not in data_index_seen:\n",
    "        data_index_seen.append(entry[\"index\"])\n",
    "        fixed_data.append(entry)\n",
    "\n",
    "len(fixed_data)\n",
    "\n",
    "with open(\"data/evaluation/generation_results/train_dependencies_config1_fixed.json\", \"w\", encoding=\"utf-8\") as dest:\n",
    "    json.dump(fixed_data, dest, indent=2)"
   ]
  },
  {
   "cell_type": "code",
   "execution_count": 24,
   "metadata": {},
   "outputs": [
    {
     "data": {
      "text/plain": [
       "200"
      ]
     },
     "execution_count": 24,
     "metadata": {},
     "output_type": "execute_result"
    }
   ],
   "source": [
    "x = [fixed_data[\"index\"] for fixed_data in fixed_data if len(fixed_data[\"generations\"].keys()) == 2]\n",
    "y = [fixed_data[\"index\"] for fixed_data in fixed_data if len(fixed_data[\"generations\"].keys()) == 1]\n",
    "\n",
    "len(y)"
   ]
  },
  {
   "cell_type": "code",
   "execution_count": 37,
   "metadata": {},
   "outputs": [],
   "source": [
    "def check_generations(generation_file: str, num_generations: int):\n",
    "\n",
    "    train_data = pd.read_csv(\"data/evaluation/train_dependencies.csv\")\n",
    "\n",
    "    indices = train_data[\"index\"].tolist()\n",
    "\n",
    "    with open(generation_file, \"r\", encoding=\"utf-8\") as src:\n",
    "        data = json.load(src)\n",
    "        \n",
    "    for entry in data:\n",
    "        if entry[\"index\"] not in indices:\n",
    "            raise Exception(f\"Index {entry['index']} not found in train data.\")\n",
    "        \n",
    "        if len(entry[\"generations\"].keys()) != num_generations:\n",
    "            raise Exception(f\"Index {entry['index']} does not have {num_generations} generations.\")\n",
    "\n",
    "\n",
    "#generation_file = \"data/evaluation/generation_results/train_dependencies_config1.json\"\n",
    "#generation_file = \"data/evaluation/generation_results/train_dependencies_config3.json\"\n",
    "generation_file = \"data/evaluation/generation_results/train_dependencies_config5.json\"\n",
    "\n",
    "check_generations(generation_file=generation_file, num_generations=2)\n"
   ]
  },
  {
   "cell_type": "code",
   "execution_count": 12,
   "metadata": {},
   "outputs": [
    {
     "name": "stdout",
     "output_type": "stream",
     "text": [
      "Mean:  0.66\n"
     ]
    },
    {
     "data": {
      "text/html": [
       "<div>\n",
       "<style scoped>\n",
       "    .dataframe tbody tr th:only-of-type {\n",
       "        vertical-align: middle;\n",
       "    }\n",
       "\n",
       "    .dataframe tbody tr th {\n",
       "        vertical-align: top;\n",
       "    }\n",
       "\n",
       "    .dataframe thead th {\n",
       "        text-align: right;\n",
       "    }\n",
       "</style>\n",
       "<table border=\"1\" class=\"dataframe\">\n",
       "  <thead>\n",
       "    <tr style=\"text-align: right;\">\n",
       "      <th></th>\n",
       "      <th>model</th>\n",
       "      <th>precision</th>\n",
       "    </tr>\n",
       "  </thead>\n",
       "  <tbody>\n",
       "    <tr>\n",
       "      <th>1</th>\n",
       "      <td>gpt-4o-2024-11-20</td>\n",
       "      <td>0.86</td>\n",
       "    </tr>\n",
       "    <tr>\n",
       "      <th>0</th>\n",
       "      <td>gpt-4o-mini-2024-07-18</td>\n",
       "      <td>0.58</td>\n",
       "    </tr>\n",
       "    <tr>\n",
       "      <th>5</th>\n",
       "      <td>deepseek-r1:70b</td>\n",
       "      <td>0.68</td>\n",
       "    </tr>\n",
       "    <tr>\n",
       "      <th>4</th>\n",
       "      <td>deepseek-r1:14b</td>\n",
       "      <td>0.69</td>\n",
       "    </tr>\n",
       "    <tr>\n",
       "      <th>3</th>\n",
       "      <td>llama3.1:70b</td>\n",
       "      <td>0.66</td>\n",
       "    </tr>\n",
       "    <tr>\n",
       "      <th>2</th>\n",
       "      <td>llama3.1:8b</td>\n",
       "      <td>0.47</td>\n",
       "    </tr>\n",
       "  </tbody>\n",
       "</table>\n",
       "</div>"
      ],
      "text/plain": [
       "                    model  precision\n",
       "1       gpt-4o-2024-11-20       0.86\n",
       "0  gpt-4o-mini-2024-07-18       0.58\n",
       "5         deepseek-r1:70b       0.68\n",
       "4         deepseek-r1:14b       0.69\n",
       "3            llama3.1:70b       0.66\n",
       "2             llama3.1:8b       0.47"
      ]
     },
     "execution_count": 12,
     "metadata": {},
     "output_type": "execute_result"
    }
   ],
   "source": [
    "import pandas as pd\n",
    "\n",
    "\n",
    "df = pd.read_csv(\"data/evaluation/validation_effectiveness/config8.csv\")\n",
    "\n",
    "metric = \"precision\"\n",
    "\n",
    "df = df[[\"model\", metric]]\n",
    "\n",
    "# Define the custom order for the 'model' column\n",
    "model_order = [\n",
    "    \"gpt-4o-2024-11-20\",\n",
    "    \"gpt-4o-mini-2024-07-18\",\n",
    "    \"deepseek-r1:70b\",\n",
    "    \"deepseek-r1:14b\",\n",
    "    \"llama3.1:70b\",\n",
    "    \"llama3.1:8b\"\n",
    "]\n",
    "\n",
    "# Convert the 'model' column to a categorical type with the specified order\n",
    "df['model'] = pd.Categorical(df['model'], categories=model_order, ordered=True)\n",
    "\n",
    "\n",
    "\n",
    "# Sort the DataFrame by the 'model' column\n",
    "df = df.sort_values(by=\"model\")\n",
    "\n",
    "print(\"Mean: \", round(df[metric].mean(), 2))\n",
    "\n",
    "df\n"
   ]
  },
  {
   "cell_type": "code",
   "execution_count": 2,
   "metadata": {},
   "outputs": [
    {
     "name": "stdout",
     "output_type": "stream",
     "text": [
      "598\n",
      "model\n",
      "gpt-4o-2024-11-20          81.0\n",
      "gpt-4o-mini-2024-07-18    121.0\n",
      "deepseek-r1:70b            83.0\n",
      "deepseek-r1:14b            75.0\n",
      "llama3.1:70b              103.0\n",
      "llama3.1:8b               130.0\n",
      "dtype: float64\n"
     ]
    },
    {
     "data": {
      "text/html": [
       "<div>\n",
       "<style scoped>\n",
       "    .dataframe tbody tr th:only-of-type {\n",
       "        vertical-align: middle;\n",
       "    }\n",
       "\n",
       "    .dataframe tbody tr th {\n",
       "        vertical-align: top;\n",
       "    }\n",
       "\n",
       "    .dataframe thead th {\n",
       "        text-align: right;\n",
       "    }\n",
       "</style>\n",
       "<table border=\"1\" class=\"dataframe\">\n",
       "  <thead>\n",
       "    <tr style=\"text-align: right;\">\n",
       "      <th>model</th>\n",
       "      <th>gpt-4o-2024-11-20</th>\n",
       "      <th>gpt-4o-mini-2024-07-18</th>\n",
       "      <th>deepseek-r1:70b</th>\n",
       "      <th>deepseek-r1:14b</th>\n",
       "      <th>llama3.1:70b</th>\n",
       "      <th>llama3.1:8b</th>\n",
       "    </tr>\n",
       "    <tr>\n",
       "      <th>failure_category</th>\n",
       "      <th></th>\n",
       "      <th></th>\n",
       "      <th></th>\n",
       "      <th></th>\n",
       "      <th></th>\n",
       "      <th></th>\n",
       "    </tr>\n",
       "  </thead>\n",
       "  <tbody>\n",
       "    <tr>\n",
       "      <th>Inheritance and Overrides</th>\n",
       "      <td>33.0</td>\n",
       "      <td>54.0</td>\n",
       "      <td>34.0</td>\n",
       "      <td>34.0</td>\n",
       "      <td>48.0</td>\n",
       "      <td>41.0</td>\n",
       "    </tr>\n",
       "    <tr>\n",
       "      <th>Configuration Consistency</th>\n",
       "      <td>29.0</td>\n",
       "      <td>33.0</td>\n",
       "      <td>22.0</td>\n",
       "      <td>20.0</td>\n",
       "      <td>31.0</td>\n",
       "      <td>41.0</td>\n",
       "    </tr>\n",
       "    <tr>\n",
       "      <th>Resource Sharing</th>\n",
       "      <td>3.0</td>\n",
       "      <td>3.0</td>\n",
       "      <td>4.0</td>\n",
       "      <td>2.0</td>\n",
       "      <td>4.0</td>\n",
       "      <td>5.0</td>\n",
       "    </tr>\n",
       "    <tr>\n",
       "      <th>Naming Schemes</th>\n",
       "      <td>NaN</td>\n",
       "      <td>NaN</td>\n",
       "      <td>NaN</td>\n",
       "      <td>NaN</td>\n",
       "      <td>NaN</td>\n",
       "      <td>NaN</td>\n",
       "    </tr>\n",
       "    <tr>\n",
       "      <th>Port Mapping</th>\n",
       "      <td>0.0</td>\n",
       "      <td>7.0</td>\n",
       "      <td>6.0</td>\n",
       "      <td>2.0</td>\n",
       "      <td>2.0</td>\n",
       "      <td>8.0</td>\n",
       "    </tr>\n",
       "    <tr>\n",
       "      <th>Context Uilization and Retrieval</th>\n",
       "      <td>13.0</td>\n",
       "      <td>13.0</td>\n",
       "      <td>7.0</td>\n",
       "      <td>8.0</td>\n",
       "      <td>8.0</td>\n",
       "      <td>4.0</td>\n",
       "    </tr>\n",
       "    <tr>\n",
       "      <th>Independent Technologies and Services</th>\n",
       "      <td>0.0</td>\n",
       "      <td>1.0</td>\n",
       "      <td>3.0</td>\n",
       "      <td>1.0</td>\n",
       "      <td>0.0</td>\n",
       "      <td>10.0</td>\n",
       "    </tr>\n",
       "    <tr>\n",
       "      <th>Others</th>\n",
       "      <td>3.0</td>\n",
       "      <td>10.0</td>\n",
       "      <td>7.0</td>\n",
       "      <td>8.0</td>\n",
       "      <td>10.0</td>\n",
       "      <td>21.0</td>\n",
       "    </tr>\n",
       "  </tbody>\n",
       "</table>\n",
       "</div>"
      ],
      "text/plain": [
       "model                                  gpt-4o-2024-11-20  \\\n",
       "failure_category                                           \n",
       "Inheritance and Overrides                           33.0   \n",
       "Configuration Consistency                           29.0   \n",
       "Resource Sharing                                     3.0   \n",
       "Naming Schemes                                       NaN   \n",
       "Port Mapping                                         0.0   \n",
       "Context Uilization and Retrieval                    13.0   \n",
       "Independent Technologies and Services                0.0   \n",
       "Others                                               3.0   \n",
       "\n",
       "model                                  gpt-4o-mini-2024-07-18  \\\n",
       "failure_category                                                \n",
       "Inheritance and Overrides                                54.0   \n",
       "Configuration Consistency                                33.0   \n",
       "Resource Sharing                                          3.0   \n",
       "Naming Schemes                                            NaN   \n",
       "Port Mapping                                              7.0   \n",
       "Context Uilization and Retrieval                         13.0   \n",
       "Independent Technologies and Services                     1.0   \n",
       "Others                                                   10.0   \n",
       "\n",
       "model                                  deepseek-r1:70b  deepseek-r1:14b  \\\n",
       "failure_category                                                          \n",
       "Inheritance and Overrides                         34.0             34.0   \n",
       "Configuration Consistency                         22.0             20.0   \n",
       "Resource Sharing                                   4.0              2.0   \n",
       "Naming Schemes                                     NaN              NaN   \n",
       "Port Mapping                                       6.0              2.0   \n",
       "Context Uilization and Retrieval                   7.0              8.0   \n",
       "Independent Technologies and Services              3.0              1.0   \n",
       "Others                                             7.0              8.0   \n",
       "\n",
       "model                                  llama3.1:70b  llama3.1:8b  \n",
       "failure_category                                                  \n",
       "Inheritance and Overrides                      48.0         41.0  \n",
       "Configuration Consistency                      31.0         41.0  \n",
       "Resource Sharing                                4.0          5.0  \n",
       "Naming Schemes                                  NaN          NaN  \n",
       "Port Mapping                                    2.0          8.0  \n",
       "Context Uilization and Retrieval                8.0          4.0  \n",
       "Independent Technologies and Services           0.0         10.0  \n",
       "Others                                         10.0         21.0  "
      ]
     },
     "execution_count": 2,
     "metadata": {},
     "output_type": "execute_result"
    }
   ],
   "source": [
    "import pandas as pd\n",
    "\n",
    "data_file = \"data/evaluation/validation_failures/config0_annotated.csv\"\n",
    "\n",
    "df = pd.read_csv(data_file)\n",
    "\n",
    "print(len(df))\n",
    "\n",
    "#print(df[\"failure_category\"].value_counts())\n",
    "\n",
    "model_failure_counts = df.groupby(['model', 'failure_category']).size().reset_index(name='count')\n",
    "\n",
    "# Pivot the table to have models as rows and failure categories as columns\n",
    "pivot_df = model_failure_counts.pivot(index='failure_category', columns='model', values='count').fillna(0)\n",
    "\n",
    "# Define the custom order for the 'model' columns\n",
    "model_order = [\n",
    "    \"gpt-4o-2024-11-20\",\n",
    "    \"gpt-4o-mini-2024-07-18\",\n",
    "    \"deepseek-r1:70b\",\n",
    "    \"deepseek-r1:14b\",\n",
    "    \"llama3.1:70b\",\n",
    "    \"llama3.1:8b\"\n",
    "]\n",
    "\n",
    "# Reindex the columns of the pivot table to match the custom order\n",
    "pivot_df = pivot_df.reindex(columns=model_order)\n",
    "\n",
    "failure_order = [\n",
    "    \"Inheritance and Overrides\",\n",
    "    \"Configuration Consistency\",\n",
    "    \"Resource Sharing\",\n",
    "    #\"Ambiguous Option Values\",\n",
    "    \"Naming Schemes\",\n",
    "    \"Port Mapping\",\n",
    "    \"Context Uilization and Retrieval\",\n",
    "    \"Independent Technologies and Services\",\n",
    "    \"Others\"\n",
    "]\n",
    "\n",
    "# Reindex the rows of the pivot table to match the custom order\n",
    "pivot_df = pivot_df.reindex(failure_order)\n",
    "\n",
    "total_failures = pivot_df.sum(axis=0)\n",
    "\n",
    "print(total_failures)\n",
    "\n",
    "pivot_df\n"
   ]
  },
  {
   "cell_type": "code",
   "execution_count": 5,
   "metadata": {},
   "outputs": [
    {
     "data": {
      "text/html": [
       "<div>\n",
       "<style scoped>\n",
       "    .dataframe tbody tr th:only-of-type {\n",
       "        vertical-align: middle;\n",
       "    }\n",
       "\n",
       "    .dataframe tbody tr th {\n",
       "        vertical-align: top;\n",
       "    }\n",
       "\n",
       "    .dataframe thead th {\n",
       "        text-align: right;\n",
       "    }\n",
       "</style>\n",
       "<table border=\"1\" class=\"dataframe\">\n",
       "  <thead>\n",
       "    <tr style=\"text-align: right;\">\n",
       "      <th></th>\n",
       "      <th>Context Slot</th>\n",
       "      <th>Average Score</th>\n",
       "    </tr>\n",
       "  </thead>\n",
       "  <tbody>\n",
       "    <tr>\n",
       "      <th>0</th>\n",
       "      <td>1</td>\n",
       "      <td>-2.918305</td>\n",
       "    </tr>\n",
       "    <tr>\n",
       "      <th>1</th>\n",
       "      <td>2</td>\n",
       "      <td>-5.725657</td>\n",
       "    </tr>\n",
       "    <tr>\n",
       "      <th>2</th>\n",
       "      <td>3</td>\n",
       "      <td>-6.666361</td>\n",
       "    </tr>\n",
       "    <tr>\n",
       "      <th>3</th>\n",
       "      <td>4</td>\n",
       "      <td>-7.285281</td>\n",
       "    </tr>\n",
       "    <tr>\n",
       "      <th>4</th>\n",
       "      <td>5</td>\n",
       "      <td>-7.674537</td>\n",
       "    </tr>\n",
       "  </tbody>\n",
       "</table>\n",
       "</div>"
      ],
      "text/plain": [
       "   Context Slot  Average Score\n",
       "0             1      -2.918305\n",
       "1             2      -5.725657\n",
       "2             3      -6.666361\n",
       "3             4      -7.285281\n",
       "4             5      -7.674537"
      ]
     },
     "execution_count": 5,
     "metadata": {},
     "output_type": "execute_result"
    }
   ],
   "source": [
    "import json\n",
    "import numpy as np\n",
    "import pandas as pd\n",
    "\n",
    "# Load the JSON file\n",
    "file_path = \"../data/evaluation/context_scores/context_scores_config1.json\"\n",
    "with open(file_path, \"r\") as file:\n",
    "    data = json.load(file)\n",
    "\n",
    "# Identify rows with different lengths\n",
    "rows_with_length_1 = [row for row in data if len(row) == 1]\n",
    "rows_with_length_5 = [row for row in data if len(row) == 5]\n",
    "\n",
    "# Convert only the rows with the correct length (5) into a NumPy array\n",
    "data_array = np.array(rows_with_length_5, dtype=np.float64)\n",
    "\n",
    "# Compute the average score for each context slot (column-wise mean)\n",
    "average_scores = np.mean(data_array, axis=0)\n",
    "\n",
    "# Create a DataFrame for better visualization\n",
    "df_avg_scores = pd.DataFrame(\n",
    "    {\"Context Slot\": range(1, len(average_scores) + 1), \"Average Score\": average_scores}\n",
    ")\n",
    "\n",
    "df_avg_scores"
   ]
  },
  {
   "cell_type": "code",
   "execution_count": 9,
   "metadata": {},
   "outputs": [
    {
     "name": "stdout",
     "output_type": "stream",
     "text": [
      "   Context Slot  Config 1  Config 2  Config 3  Config 4  Config 5  Config 6  \\\n",
      "0             1     -2.93     -5.05      0.70      0.68     -2.53     -3.10   \n",
      "1             2     -5.73     -6.65      0.67      0.66     -5.63     -5.10   \n",
      "2             3     -6.67     -7.31      0.66      0.65     -6.51     -6.51   \n",
      "3             4     -7.29       NaN      0.65       NaN     -7.26       NaN   \n",
      "4             5     -7.68       NaN      0.64       NaN     -7.88       NaN   \n",
      "\n",
      "   Config 7  Config 8  \n",
      "0      0.70      0.68  \n",
      "1      0.66      0.66  \n",
      "2      0.65      0.65  \n",
      "3      0.65       NaN  \n",
      "4      0.64       NaN  \n"
     ]
    },
    {
     "name": "stderr",
     "output_type": "stream",
     "text": [
      "/tmp/ipykernel_224155/2097924504.py:42: RuntimeWarning: Mean of empty slice\n",
      "  average_scores = np.nanmean(data_array, axis=0)\n"
     ]
    }
   ],
   "source": [
    "import json\n",
    "import numpy as np\n",
    "import pandas as pd\n",
    "\n",
    "# List of file paths\n",
    "file_paths = [\n",
    "    \"../data/evaluation/context_scores/context_scores_config1.json\",\n",
    "    \"../data/evaluation/context_scores/context_scores_config2.json\",\n",
    "    \"../data/evaluation/context_scores/context_scores_config3.json\",\n",
    "    \"../data/evaluation/context_scores/context_scores_config4.json\",\n",
    "    \"../data/evaluation/context_scores/context_scores_config5.json\",\n",
    "    \"../data/evaluation/context_scores/context_scores_config6.json\",\n",
    "    \"../data/evaluation/context_scores/context_scores_config7.json\",\n",
    "    \"../data/evaluation/context_scores/context_scores_config8.json\",\n",
    "]\n",
    "\n",
    "# Dictionary to store average scores for each file\n",
    "avg_scores_dict = {}\n",
    "\n",
    "for file_path in file_paths:\n",
    "    # Load the JSON file\n",
    "    with open(file_path, \"r\") as file:\n",
    "        data = json.load(file)\n",
    "\n",
    "    # Process data: Ensure all rows have length 5\n",
    "    processed_data = []\n",
    "    for row in data:\n",
    "        if len(row) == 1:\n",
    "            # Expand single values to match length 5 (repeat the value)\n",
    "            processed_data.append([float(row[0])] * 5)\n",
    "        elif len(row) == 5:\n",
    "            # Keep valid rows as they are\n",
    "            processed_data.append([float(x) for x in row])\n",
    "        else:\n",
    "            # Handle unexpected lengths by padding with NaNs\n",
    "            processed_data.append([float(x) for x in row] + [np.nan] * (5 - len(row)))\n",
    "\n",
    "    # Convert to NumPy array\n",
    "    data_array = np.array(processed_data, dtype=np.float64)\n",
    "\n",
    "    # Compute the average score for each context slot (column-wise mean, ignoring NaNs)\n",
    "    average_scores = np.nanmean(data_array, axis=0)\n",
    "\n",
    "    # Round the values to 4 decimal places\n",
    "    avg_scores_dict[file_path] = np.round(average_scores, 2)\n",
    "\n",
    "# Convert the dictionary into a DataFrame\n",
    "df_avg_scores = pd.DataFrame(avg_scores_dict)\n",
    "\n",
    "# Rename columns with file identifiers for clarity\n",
    "df_avg_scores.columns = [f\"Config {i+1}\" for i in range(len(file_paths))]\n",
    "\n",
    "# Add a column for context slot index\n",
    "df_avg_scores.insert(0, \"Context Slot\", range(1, df_avg_scores.shape[0] + 1))\n",
    "\n",
    "# Display the final DataFrame\n",
    "print(df_avg_scores)\n"
   ]
  },
  {
   "cell_type": "code",
   "execution_count": null,
   "metadata": {},
   "outputs": [
    {
     "ename": "IndexError",
     "evalue": "list index out of range",
     "output_type": "error",
     "traceback": [
      "\u001b[0;31m---------------------------------------------------------------------------\u001b[0m",
      "\u001b[0;31mIndexError\u001b[0m                                Traceback (most recent call last)",
      "Cell \u001b[0;32mIn[13], line 9\u001b[0m\n\u001b[1;32m      5\u001b[0m \u001b[38;5;28;01mwith\u001b[39;00m \u001b[38;5;28mopen\u001b[39m(file_name, \u001b[38;5;124m\"\u001b[39m\u001b[38;5;124mr\u001b[39m\u001b[38;5;124m\"\u001b[39m, encoding\u001b[38;5;241m=\u001b[39m\u001b[38;5;124m\"\u001b[39m\u001b[38;5;124mutf-8\u001b[39m\u001b[38;5;124m\"\u001b[39m) \u001b[38;5;28;01mas\u001b[39;00m src:\n\u001b[1;32m      6\u001b[0m     data \u001b[38;5;241m=\u001b[39m json\u001b[38;5;241m.\u001b[39mload(src)\n\u001b[0;32m----> 9\u001b[0m values \u001b[38;5;241m=\u001b[39m [\u001b[38;5;28mfloat\u001b[39m(x[\u001b[38;5;241m1\u001b[39m]) \u001b[38;5;28;01mfor\u001b[39;00m x \u001b[38;5;129;01min\u001b[39;00m data]\n\u001b[1;32m     11\u001b[0m avg \u001b[38;5;241m=\u001b[39m \u001b[38;5;28msum\u001b[39m(values) \u001b[38;5;241m/\u001b[39m \u001b[38;5;28mlen\u001b[39m(values)\n\u001b[1;32m     13\u001b[0m avg\n",
      "Cell \u001b[0;32mIn[13], line 9\u001b[0m, in \u001b[0;36m<listcomp>\u001b[0;34m(.0)\u001b[0m\n\u001b[1;32m      5\u001b[0m \u001b[38;5;28;01mwith\u001b[39;00m \u001b[38;5;28mopen\u001b[39m(file_name, \u001b[38;5;124m\"\u001b[39m\u001b[38;5;124mr\u001b[39m\u001b[38;5;124m\"\u001b[39m, encoding\u001b[38;5;241m=\u001b[39m\u001b[38;5;124m\"\u001b[39m\u001b[38;5;124mutf-8\u001b[39m\u001b[38;5;124m\"\u001b[39m) \u001b[38;5;28;01mas\u001b[39;00m src:\n\u001b[1;32m      6\u001b[0m     data \u001b[38;5;241m=\u001b[39m json\u001b[38;5;241m.\u001b[39mload(src)\n\u001b[0;32m----> 9\u001b[0m values \u001b[38;5;241m=\u001b[39m [\u001b[38;5;28mfloat\u001b[39m(\u001b[43mx\u001b[49m\u001b[43m[\u001b[49m\u001b[38;5;241;43m1\u001b[39;49m\u001b[43m]\u001b[49m) \u001b[38;5;28;01mfor\u001b[39;00m x \u001b[38;5;129;01min\u001b[39;00m data]\n\u001b[1;32m     11\u001b[0m avg \u001b[38;5;241m=\u001b[39m \u001b[38;5;28msum\u001b[39m(values) \u001b[38;5;241m/\u001b[39m \u001b[38;5;28mlen\u001b[39m(values)\n\u001b[1;32m     13\u001b[0m avg\n",
      "\u001b[0;31mIndexError\u001b[0m: list index out of range"
     ]
    }
   ],
   "source": [
    "\n",
    "\n",
    "avg"
   ]
  }
 ],
 "metadata": {
  "kernelspec": {
   "display_name": "env",
   "language": "python",
   "name": "python3"
  },
  "language_info": {
   "codemirror_mode": {
    "name": "ipython",
    "version": 3
   },
   "file_extension": ".py",
   "mimetype": "text/x-python",
   "name": "python",
   "nbconvert_exporter": "python",
   "pygments_lexer": "ipython3",
   "version": "3.10.12"
  }
 },
 "nbformat": 4,
 "nbformat_minor": 2
}
